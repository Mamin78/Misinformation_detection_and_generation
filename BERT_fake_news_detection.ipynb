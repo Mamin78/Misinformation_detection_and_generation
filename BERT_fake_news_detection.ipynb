{
  "metadata": {
    "kernelspec": {
      "display_name": "Python 3",
      "name": "python3"
    },
    "language_info": {
      "name": "python",
      "version": "3.10.12",
      "mimetype": "text/x-python",
      "codemirror_mode": {
        "name": "ipython",
        "version": 3
      },
      "pygments_lexer": "ipython3",
      "nbconvert_exporter": "python",
      "file_extension": ".py"
    },
    "kaggle": {
      "accelerator": "gpu",
      "dataSources": [
        {
          "sourceId": 7222412,
          "sourceType": "datasetVersion",
          "datasetId": 4180521
        }
      ],
      "dockerImageVersionId": 30636,
      "isInternetEnabled": true,
      "language": "python",
      "sourceType": "notebook",
      "isGpuEnabled": true
    },
    "colab": {
      "provenance": [],
      "collapsed_sections": [
        "Z0Ieje3l2j2b",
        "w9hq3y8SU_1h",
        "-RxGM2oXU_1i",
        "bK4x-ygqU_1u",
        "Ms9A20QwU_1v",
        "SDKpBNaDU_1w",
        "g-kWV2I2U_1w",
        "NF0KuWc2U_1x"
      ],
      "gpuType": "T4"
    },
    "accelerator": "GPU",
    "widgets": {
      "application/vnd.jupyter.widget-state+json": {
        "0653d0605db84fd9b25da15e83f55b95": {
          "model_module": "@jupyter-widgets/controls",
          "model_name": "HBoxModel",
          "model_module_version": "1.5.0",
          "state": {
            "_dom_classes": [],
            "_model_module": "@jupyter-widgets/controls",
            "_model_module_version": "1.5.0",
            "_model_name": "HBoxModel",
            "_view_count": null,
            "_view_module": "@jupyter-widgets/controls",
            "_view_module_version": "1.5.0",
            "_view_name": "HBoxView",
            "box_style": "",
            "children": [
              "IPY_MODEL_13d12ba82b4749bba79b889daf699366",
              "IPY_MODEL_d94e27da4f634e30ab19ac0445024fa8",
              "IPY_MODEL_eea5325ad9eb4db59a5f06fa7c80bb3b"
            ],
            "layout": "IPY_MODEL_56876937ac0f496eaf3133c0d643dede"
          }
        },
        "13d12ba82b4749bba79b889daf699366": {
          "model_module": "@jupyter-widgets/controls",
          "model_name": "HTMLModel",
          "model_module_version": "1.5.0",
          "state": {
            "_dom_classes": [],
            "_model_module": "@jupyter-widgets/controls",
            "_model_module_version": "1.5.0",
            "_model_name": "HTMLModel",
            "_view_count": null,
            "_view_module": "@jupyter-widgets/controls",
            "_view_module_version": "1.5.0",
            "_view_name": "HTMLView",
            "description": "",
            "description_tooltip": null,
            "layout": "IPY_MODEL_f17744b0bf88472bbde45e8591825c4e",
            "placeholder": "​",
            "style": "IPY_MODEL_3583a33b7a2f44f5acb713eded6c45ba",
            "value": "tokenizer_config.json: 100%"
          }
        },
        "d94e27da4f634e30ab19ac0445024fa8": {
          "model_module": "@jupyter-widgets/controls",
          "model_name": "FloatProgressModel",
          "model_module_version": "1.5.0",
          "state": {
            "_dom_classes": [],
            "_model_module": "@jupyter-widgets/controls",
            "_model_module_version": "1.5.0",
            "_model_name": "FloatProgressModel",
            "_view_count": null,
            "_view_module": "@jupyter-widgets/controls",
            "_view_module_version": "1.5.0",
            "_view_name": "ProgressView",
            "bar_style": "success",
            "description": "",
            "description_tooltip": null,
            "layout": "IPY_MODEL_666e769498294d62ba3996fefdc3706d",
            "max": 49,
            "min": 0,
            "orientation": "horizontal",
            "style": "IPY_MODEL_1898590e66874fca9950666b71c90896",
            "value": 49
          }
        },
        "eea5325ad9eb4db59a5f06fa7c80bb3b": {
          "model_module": "@jupyter-widgets/controls",
          "model_name": "HTMLModel",
          "model_module_version": "1.5.0",
          "state": {
            "_dom_classes": [],
            "_model_module": "@jupyter-widgets/controls",
            "_model_module_version": "1.5.0",
            "_model_name": "HTMLModel",
            "_view_count": null,
            "_view_module": "@jupyter-widgets/controls",
            "_view_module_version": "1.5.0",
            "_view_name": "HTMLView",
            "description": "",
            "description_tooltip": null,
            "layout": "IPY_MODEL_6ee18b203e3e43728f92b5a576b7a6f8",
            "placeholder": "​",
            "style": "IPY_MODEL_2964e873fd96454cbeea337f9cc1e2a6",
            "value": " 49.0/49.0 [00:00&lt;00:00, 1.62kB/s]"
          }
        },
        "56876937ac0f496eaf3133c0d643dede": {
          "model_module": "@jupyter-widgets/base",
          "model_name": "LayoutModel",
          "model_module_version": "1.2.0",
          "state": {
            "_model_module": "@jupyter-widgets/base",
            "_model_module_version": "1.2.0",
            "_model_name": "LayoutModel",
            "_view_count": null,
            "_view_module": "@jupyter-widgets/base",
            "_view_module_version": "1.2.0",
            "_view_name": "LayoutView",
            "align_content": null,
            "align_items": null,
            "align_self": null,
            "border": null,
            "bottom": null,
            "display": null,
            "flex": null,
            "flex_flow": null,
            "grid_area": null,
            "grid_auto_columns": null,
            "grid_auto_flow": null,
            "grid_auto_rows": null,
            "grid_column": null,
            "grid_gap": null,
            "grid_row": null,
            "grid_template_areas": null,
            "grid_template_columns": null,
            "grid_template_rows": null,
            "height": null,
            "justify_content": null,
            "justify_items": null,
            "left": null,
            "margin": null,
            "max_height": null,
            "max_width": null,
            "min_height": null,
            "min_width": null,
            "object_fit": null,
            "object_position": null,
            "order": null,
            "overflow": null,
            "overflow_x": null,
            "overflow_y": null,
            "padding": null,
            "right": null,
            "top": null,
            "visibility": null,
            "width": null
          }
        },
        "f17744b0bf88472bbde45e8591825c4e": {
          "model_module": "@jupyter-widgets/base",
          "model_name": "LayoutModel",
          "model_module_version": "1.2.0",
          "state": {
            "_model_module": "@jupyter-widgets/base",
            "_model_module_version": "1.2.0",
            "_model_name": "LayoutModel",
            "_view_count": null,
            "_view_module": "@jupyter-widgets/base",
            "_view_module_version": "1.2.0",
            "_view_name": "LayoutView",
            "align_content": null,
            "align_items": null,
            "align_self": null,
            "border": null,
            "bottom": null,
            "display": null,
            "flex": null,
            "flex_flow": null,
            "grid_area": null,
            "grid_auto_columns": null,
            "grid_auto_flow": null,
            "grid_auto_rows": null,
            "grid_column": null,
            "grid_gap": null,
            "grid_row": null,
            "grid_template_areas": null,
            "grid_template_columns": null,
            "grid_template_rows": null,
            "height": null,
            "justify_content": null,
            "justify_items": null,
            "left": null,
            "margin": null,
            "max_height": null,
            "max_width": null,
            "min_height": null,
            "min_width": null,
            "object_fit": null,
            "object_position": null,
            "order": null,
            "overflow": null,
            "overflow_x": null,
            "overflow_y": null,
            "padding": null,
            "right": null,
            "top": null,
            "visibility": null,
            "width": null
          }
        },
        "3583a33b7a2f44f5acb713eded6c45ba": {
          "model_module": "@jupyter-widgets/controls",
          "model_name": "DescriptionStyleModel",
          "model_module_version": "1.5.0",
          "state": {
            "_model_module": "@jupyter-widgets/controls",
            "_model_module_version": "1.5.0",
            "_model_name": "DescriptionStyleModel",
            "_view_count": null,
            "_view_module": "@jupyter-widgets/base",
            "_view_module_version": "1.2.0",
            "_view_name": "StyleView",
            "description_width": ""
          }
        },
        "666e769498294d62ba3996fefdc3706d": {
          "model_module": "@jupyter-widgets/base",
          "model_name": "LayoutModel",
          "model_module_version": "1.2.0",
          "state": {
            "_model_module": "@jupyter-widgets/base",
            "_model_module_version": "1.2.0",
            "_model_name": "LayoutModel",
            "_view_count": null,
            "_view_module": "@jupyter-widgets/base",
            "_view_module_version": "1.2.0",
            "_view_name": "LayoutView",
            "align_content": null,
            "align_items": null,
            "align_self": null,
            "border": null,
            "bottom": null,
            "display": null,
            "flex": null,
            "flex_flow": null,
            "grid_area": null,
            "grid_auto_columns": null,
            "grid_auto_flow": null,
            "grid_auto_rows": null,
            "grid_column": null,
            "grid_gap": null,
            "grid_row": null,
            "grid_template_areas": null,
            "grid_template_columns": null,
            "grid_template_rows": null,
            "height": null,
            "justify_content": null,
            "justify_items": null,
            "left": null,
            "margin": null,
            "max_height": null,
            "max_width": null,
            "min_height": null,
            "min_width": null,
            "object_fit": null,
            "object_position": null,
            "order": null,
            "overflow": null,
            "overflow_x": null,
            "overflow_y": null,
            "padding": null,
            "right": null,
            "top": null,
            "visibility": null,
            "width": null
          }
        },
        "1898590e66874fca9950666b71c90896": {
          "model_module": "@jupyter-widgets/controls",
          "model_name": "ProgressStyleModel",
          "model_module_version": "1.5.0",
          "state": {
            "_model_module": "@jupyter-widgets/controls",
            "_model_module_version": "1.5.0",
            "_model_name": "ProgressStyleModel",
            "_view_count": null,
            "_view_module": "@jupyter-widgets/base",
            "_view_module_version": "1.2.0",
            "_view_name": "StyleView",
            "bar_color": null,
            "description_width": ""
          }
        },
        "6ee18b203e3e43728f92b5a576b7a6f8": {
          "model_module": "@jupyter-widgets/base",
          "model_name": "LayoutModel",
          "model_module_version": "1.2.0",
          "state": {
            "_model_module": "@jupyter-widgets/base",
            "_model_module_version": "1.2.0",
            "_model_name": "LayoutModel",
            "_view_count": null,
            "_view_module": "@jupyter-widgets/base",
            "_view_module_version": "1.2.0",
            "_view_name": "LayoutView",
            "align_content": null,
            "align_items": null,
            "align_self": null,
            "border": null,
            "bottom": null,
            "display": null,
            "flex": null,
            "flex_flow": null,
            "grid_area": null,
            "grid_auto_columns": null,
            "grid_auto_flow": null,
            "grid_auto_rows": null,
            "grid_column": null,
            "grid_gap": null,
            "grid_row": null,
            "grid_template_areas": null,
            "grid_template_columns": null,
            "grid_template_rows": null,
            "height": null,
            "justify_content": null,
            "justify_items": null,
            "left": null,
            "margin": null,
            "max_height": null,
            "max_width": null,
            "min_height": null,
            "min_width": null,
            "object_fit": null,
            "object_position": null,
            "order": null,
            "overflow": null,
            "overflow_x": null,
            "overflow_y": null,
            "padding": null,
            "right": null,
            "top": null,
            "visibility": null,
            "width": null
          }
        },
        "2964e873fd96454cbeea337f9cc1e2a6": {
          "model_module": "@jupyter-widgets/controls",
          "model_name": "DescriptionStyleModel",
          "model_module_version": "1.5.0",
          "state": {
            "_model_module": "@jupyter-widgets/controls",
            "_model_module_version": "1.5.0",
            "_model_name": "DescriptionStyleModel",
            "_view_count": null,
            "_view_module": "@jupyter-widgets/base",
            "_view_module_version": "1.2.0",
            "_view_name": "StyleView",
            "description_width": ""
          }
        },
        "29ab961558a54b1aab0b0044741ca2a3": {
          "model_module": "@jupyter-widgets/controls",
          "model_name": "HBoxModel",
          "model_module_version": "1.5.0",
          "state": {
            "_dom_classes": [],
            "_model_module": "@jupyter-widgets/controls",
            "_model_module_version": "1.5.0",
            "_model_name": "HBoxModel",
            "_view_count": null,
            "_view_module": "@jupyter-widgets/controls",
            "_view_module_version": "1.5.0",
            "_view_name": "HBoxView",
            "box_style": "",
            "children": [
              "IPY_MODEL_39a9c56460c5446d93162f7531236027",
              "IPY_MODEL_86e250aa72fb44f3a8e6a5458e8d6f71",
              "IPY_MODEL_4e84b0e0211240ea979b3a72425d9144"
            ],
            "layout": "IPY_MODEL_248c26e601434f67851ff3f04129af0e"
          }
        },
        "39a9c56460c5446d93162f7531236027": {
          "model_module": "@jupyter-widgets/controls",
          "model_name": "HTMLModel",
          "model_module_version": "1.5.0",
          "state": {
            "_dom_classes": [],
            "_model_module": "@jupyter-widgets/controls",
            "_model_module_version": "1.5.0",
            "_model_name": "HTMLModel",
            "_view_count": null,
            "_view_module": "@jupyter-widgets/controls",
            "_view_module_version": "1.5.0",
            "_view_name": "HTMLView",
            "description": "",
            "description_tooltip": null,
            "layout": "IPY_MODEL_9cbc3f2fef6a4ba3a6979a1b58568845",
            "placeholder": "​",
            "style": "IPY_MODEL_db3f2176adf84a3e89fe76c9de991d28",
            "value": "vocab.txt: 100%"
          }
        },
        "86e250aa72fb44f3a8e6a5458e8d6f71": {
          "model_module": "@jupyter-widgets/controls",
          "model_name": "FloatProgressModel",
          "model_module_version": "1.5.0",
          "state": {
            "_dom_classes": [],
            "_model_module": "@jupyter-widgets/controls",
            "_model_module_version": "1.5.0",
            "_model_name": "FloatProgressModel",
            "_view_count": null,
            "_view_module": "@jupyter-widgets/controls",
            "_view_module_version": "1.5.0",
            "_view_name": "ProgressView",
            "bar_style": "success",
            "description": "",
            "description_tooltip": null,
            "layout": "IPY_MODEL_da82b89bf40f4d43ac1cd9883976fdfb",
            "max": 995526,
            "min": 0,
            "orientation": "horizontal",
            "style": "IPY_MODEL_bc5af2c8e7e74a0e8844bebc48977e2a",
            "value": 995526
          }
        },
        "4e84b0e0211240ea979b3a72425d9144": {
          "model_module": "@jupyter-widgets/controls",
          "model_name": "HTMLModel",
          "model_module_version": "1.5.0",
          "state": {
            "_dom_classes": [],
            "_model_module": "@jupyter-widgets/controls",
            "_model_module_version": "1.5.0",
            "_model_name": "HTMLModel",
            "_view_count": null,
            "_view_module": "@jupyter-widgets/controls",
            "_view_module_version": "1.5.0",
            "_view_name": "HTMLView",
            "description": "",
            "description_tooltip": null,
            "layout": "IPY_MODEL_b1678fcb5b144db189bd25f0d301a6ae",
            "placeholder": "​",
            "style": "IPY_MODEL_6be9934393e84fe0830804f43ee796ca",
            "value": " 996k/996k [00:00&lt;00:00, 12.6MB/s]"
          }
        },
        "248c26e601434f67851ff3f04129af0e": {
          "model_module": "@jupyter-widgets/base",
          "model_name": "LayoutModel",
          "model_module_version": "1.2.0",
          "state": {
            "_model_module": "@jupyter-widgets/base",
            "_model_module_version": "1.2.0",
            "_model_name": "LayoutModel",
            "_view_count": null,
            "_view_module": "@jupyter-widgets/base",
            "_view_module_version": "1.2.0",
            "_view_name": "LayoutView",
            "align_content": null,
            "align_items": null,
            "align_self": null,
            "border": null,
            "bottom": null,
            "display": null,
            "flex": null,
            "flex_flow": null,
            "grid_area": null,
            "grid_auto_columns": null,
            "grid_auto_flow": null,
            "grid_auto_rows": null,
            "grid_column": null,
            "grid_gap": null,
            "grid_row": null,
            "grid_template_areas": null,
            "grid_template_columns": null,
            "grid_template_rows": null,
            "height": null,
            "justify_content": null,
            "justify_items": null,
            "left": null,
            "margin": null,
            "max_height": null,
            "max_width": null,
            "min_height": null,
            "min_width": null,
            "object_fit": null,
            "object_position": null,
            "order": null,
            "overflow": null,
            "overflow_x": null,
            "overflow_y": null,
            "padding": null,
            "right": null,
            "top": null,
            "visibility": null,
            "width": null
          }
        },
        "9cbc3f2fef6a4ba3a6979a1b58568845": {
          "model_module": "@jupyter-widgets/base",
          "model_name": "LayoutModel",
          "model_module_version": "1.2.0",
          "state": {
            "_model_module": "@jupyter-widgets/base",
            "_model_module_version": "1.2.0",
            "_model_name": "LayoutModel",
            "_view_count": null,
            "_view_module": "@jupyter-widgets/base",
            "_view_module_version": "1.2.0",
            "_view_name": "LayoutView",
            "align_content": null,
            "align_items": null,
            "align_self": null,
            "border": null,
            "bottom": null,
            "display": null,
            "flex": null,
            "flex_flow": null,
            "grid_area": null,
            "grid_auto_columns": null,
            "grid_auto_flow": null,
            "grid_auto_rows": null,
            "grid_column": null,
            "grid_gap": null,
            "grid_row": null,
            "grid_template_areas": null,
            "grid_template_columns": null,
            "grid_template_rows": null,
            "height": null,
            "justify_content": null,
            "justify_items": null,
            "left": null,
            "margin": null,
            "max_height": null,
            "max_width": null,
            "min_height": null,
            "min_width": null,
            "object_fit": null,
            "object_position": null,
            "order": null,
            "overflow": null,
            "overflow_x": null,
            "overflow_y": null,
            "padding": null,
            "right": null,
            "top": null,
            "visibility": null,
            "width": null
          }
        },
        "db3f2176adf84a3e89fe76c9de991d28": {
          "model_module": "@jupyter-widgets/controls",
          "model_name": "DescriptionStyleModel",
          "model_module_version": "1.5.0",
          "state": {
            "_model_module": "@jupyter-widgets/controls",
            "_model_module_version": "1.5.0",
            "_model_name": "DescriptionStyleModel",
            "_view_count": null,
            "_view_module": "@jupyter-widgets/base",
            "_view_module_version": "1.2.0",
            "_view_name": "StyleView",
            "description_width": ""
          }
        },
        "da82b89bf40f4d43ac1cd9883976fdfb": {
          "model_module": "@jupyter-widgets/base",
          "model_name": "LayoutModel",
          "model_module_version": "1.2.0",
          "state": {
            "_model_module": "@jupyter-widgets/base",
            "_model_module_version": "1.2.0",
            "_model_name": "LayoutModel",
            "_view_count": null,
            "_view_module": "@jupyter-widgets/base",
            "_view_module_version": "1.2.0",
            "_view_name": "LayoutView",
            "align_content": null,
            "align_items": null,
            "align_self": null,
            "border": null,
            "bottom": null,
            "display": null,
            "flex": null,
            "flex_flow": null,
            "grid_area": null,
            "grid_auto_columns": null,
            "grid_auto_flow": null,
            "grid_auto_rows": null,
            "grid_column": null,
            "grid_gap": null,
            "grid_row": null,
            "grid_template_areas": null,
            "grid_template_columns": null,
            "grid_template_rows": null,
            "height": null,
            "justify_content": null,
            "justify_items": null,
            "left": null,
            "margin": null,
            "max_height": null,
            "max_width": null,
            "min_height": null,
            "min_width": null,
            "object_fit": null,
            "object_position": null,
            "order": null,
            "overflow": null,
            "overflow_x": null,
            "overflow_y": null,
            "padding": null,
            "right": null,
            "top": null,
            "visibility": null,
            "width": null
          }
        },
        "bc5af2c8e7e74a0e8844bebc48977e2a": {
          "model_module": "@jupyter-widgets/controls",
          "model_name": "ProgressStyleModel",
          "model_module_version": "1.5.0",
          "state": {
            "_model_module": "@jupyter-widgets/controls",
            "_model_module_version": "1.5.0",
            "_model_name": "ProgressStyleModel",
            "_view_count": null,
            "_view_module": "@jupyter-widgets/base",
            "_view_module_version": "1.2.0",
            "_view_name": "StyleView",
            "bar_color": null,
            "description_width": ""
          }
        },
        "b1678fcb5b144db189bd25f0d301a6ae": {
          "model_module": "@jupyter-widgets/base",
          "model_name": "LayoutModel",
          "model_module_version": "1.2.0",
          "state": {
            "_model_module": "@jupyter-widgets/base",
            "_model_module_version": "1.2.0",
            "_model_name": "LayoutModel",
            "_view_count": null,
            "_view_module": "@jupyter-widgets/base",
            "_view_module_version": "1.2.0",
            "_view_name": "LayoutView",
            "align_content": null,
            "align_items": null,
            "align_self": null,
            "border": null,
            "bottom": null,
            "display": null,
            "flex": null,
            "flex_flow": null,
            "grid_area": null,
            "grid_auto_columns": null,
            "grid_auto_flow": null,
            "grid_auto_rows": null,
            "grid_column": null,
            "grid_gap": null,
            "grid_row": null,
            "grid_template_areas": null,
            "grid_template_columns": null,
            "grid_template_rows": null,
            "height": null,
            "justify_content": null,
            "justify_items": null,
            "left": null,
            "margin": null,
            "max_height": null,
            "max_width": null,
            "min_height": null,
            "min_width": null,
            "object_fit": null,
            "object_position": null,
            "order": null,
            "overflow": null,
            "overflow_x": null,
            "overflow_y": null,
            "padding": null,
            "right": null,
            "top": null,
            "visibility": null,
            "width": null
          }
        },
        "6be9934393e84fe0830804f43ee796ca": {
          "model_module": "@jupyter-widgets/controls",
          "model_name": "DescriptionStyleModel",
          "model_module_version": "1.5.0",
          "state": {
            "_model_module": "@jupyter-widgets/controls",
            "_model_module_version": "1.5.0",
            "_model_name": "DescriptionStyleModel",
            "_view_count": null,
            "_view_module": "@jupyter-widgets/base",
            "_view_module_version": "1.2.0",
            "_view_name": "StyleView",
            "description_width": ""
          }
        },
        "2adfe397c6744965a6086d91fdcae00b": {
          "model_module": "@jupyter-widgets/controls",
          "model_name": "HBoxModel",
          "model_module_version": "1.5.0",
          "state": {
            "_dom_classes": [],
            "_model_module": "@jupyter-widgets/controls",
            "_model_module_version": "1.5.0",
            "_model_name": "HBoxModel",
            "_view_count": null,
            "_view_module": "@jupyter-widgets/controls",
            "_view_module_version": "1.5.0",
            "_view_name": "HBoxView",
            "box_style": "",
            "children": [
              "IPY_MODEL_a54ab9798ec9441d9378f30558853bbe",
              "IPY_MODEL_11e52c0552dd458384d932125b154b00",
              "IPY_MODEL_29a868855b6b490681bf0a728e952cd3"
            ],
            "layout": "IPY_MODEL_8d8740fbbdcb4b5db1a48576b5e95eac"
          }
        },
        "a54ab9798ec9441d9378f30558853bbe": {
          "model_module": "@jupyter-widgets/controls",
          "model_name": "HTMLModel",
          "model_module_version": "1.5.0",
          "state": {
            "_dom_classes": [],
            "_model_module": "@jupyter-widgets/controls",
            "_model_module_version": "1.5.0",
            "_model_name": "HTMLModel",
            "_view_count": null,
            "_view_module": "@jupyter-widgets/controls",
            "_view_module_version": "1.5.0",
            "_view_name": "HTMLView",
            "description": "",
            "description_tooltip": null,
            "layout": "IPY_MODEL_151fa5fe74764822879d273056ccd844",
            "placeholder": "​",
            "style": "IPY_MODEL_ec8bbb4381a94188b2d9ec67031d0b70",
            "value": "tokenizer.json: 100%"
          }
        },
        "11e52c0552dd458384d932125b154b00": {
          "model_module": "@jupyter-widgets/controls",
          "model_name": "FloatProgressModel",
          "model_module_version": "1.5.0",
          "state": {
            "_dom_classes": [],
            "_model_module": "@jupyter-widgets/controls",
            "_model_module_version": "1.5.0",
            "_model_name": "FloatProgressModel",
            "_view_count": null,
            "_view_module": "@jupyter-widgets/controls",
            "_view_module_version": "1.5.0",
            "_view_name": "ProgressView",
            "bar_style": "success",
            "description": "",
            "description_tooltip": null,
            "layout": "IPY_MODEL_98b2fd4f465a407691476b1b8490f8fc",
            "max": 1961828,
            "min": 0,
            "orientation": "horizontal",
            "style": "IPY_MODEL_a7e7dff9735b4db1aa2ca96e53dbdf58",
            "value": 1961828
          }
        },
        "29a868855b6b490681bf0a728e952cd3": {
          "model_module": "@jupyter-widgets/controls",
          "model_name": "HTMLModel",
          "model_module_version": "1.5.0",
          "state": {
            "_dom_classes": [],
            "_model_module": "@jupyter-widgets/controls",
            "_model_module_version": "1.5.0",
            "_model_name": "HTMLModel",
            "_view_count": null,
            "_view_module": "@jupyter-widgets/controls",
            "_view_module_version": "1.5.0",
            "_view_name": "HTMLView",
            "description": "",
            "description_tooltip": null,
            "layout": "IPY_MODEL_bf4605cd08ed4d6aadea359f744e7c18",
            "placeholder": "​",
            "style": "IPY_MODEL_f2c28cea07764df6a1da384c18ec7f4a",
            "value": " 1.96M/1.96M [00:00&lt;00:00, 25.4MB/s]"
          }
        },
        "8d8740fbbdcb4b5db1a48576b5e95eac": {
          "model_module": "@jupyter-widgets/base",
          "model_name": "LayoutModel",
          "model_module_version": "1.2.0",
          "state": {
            "_model_module": "@jupyter-widgets/base",
            "_model_module_version": "1.2.0",
            "_model_name": "LayoutModel",
            "_view_count": null,
            "_view_module": "@jupyter-widgets/base",
            "_view_module_version": "1.2.0",
            "_view_name": "LayoutView",
            "align_content": null,
            "align_items": null,
            "align_self": null,
            "border": null,
            "bottom": null,
            "display": null,
            "flex": null,
            "flex_flow": null,
            "grid_area": null,
            "grid_auto_columns": null,
            "grid_auto_flow": null,
            "grid_auto_rows": null,
            "grid_column": null,
            "grid_gap": null,
            "grid_row": null,
            "grid_template_areas": null,
            "grid_template_columns": null,
            "grid_template_rows": null,
            "height": null,
            "justify_content": null,
            "justify_items": null,
            "left": null,
            "margin": null,
            "max_height": null,
            "max_width": null,
            "min_height": null,
            "min_width": null,
            "object_fit": null,
            "object_position": null,
            "order": null,
            "overflow": null,
            "overflow_x": null,
            "overflow_y": null,
            "padding": null,
            "right": null,
            "top": null,
            "visibility": null,
            "width": null
          }
        },
        "151fa5fe74764822879d273056ccd844": {
          "model_module": "@jupyter-widgets/base",
          "model_name": "LayoutModel",
          "model_module_version": "1.2.0",
          "state": {
            "_model_module": "@jupyter-widgets/base",
            "_model_module_version": "1.2.0",
            "_model_name": "LayoutModel",
            "_view_count": null,
            "_view_module": "@jupyter-widgets/base",
            "_view_module_version": "1.2.0",
            "_view_name": "LayoutView",
            "align_content": null,
            "align_items": null,
            "align_self": null,
            "border": null,
            "bottom": null,
            "display": null,
            "flex": null,
            "flex_flow": null,
            "grid_area": null,
            "grid_auto_columns": null,
            "grid_auto_flow": null,
            "grid_auto_rows": null,
            "grid_column": null,
            "grid_gap": null,
            "grid_row": null,
            "grid_template_areas": null,
            "grid_template_columns": null,
            "grid_template_rows": null,
            "height": null,
            "justify_content": null,
            "justify_items": null,
            "left": null,
            "margin": null,
            "max_height": null,
            "max_width": null,
            "min_height": null,
            "min_width": null,
            "object_fit": null,
            "object_position": null,
            "order": null,
            "overflow": null,
            "overflow_x": null,
            "overflow_y": null,
            "padding": null,
            "right": null,
            "top": null,
            "visibility": null,
            "width": null
          }
        },
        "ec8bbb4381a94188b2d9ec67031d0b70": {
          "model_module": "@jupyter-widgets/controls",
          "model_name": "DescriptionStyleModel",
          "model_module_version": "1.5.0",
          "state": {
            "_model_module": "@jupyter-widgets/controls",
            "_model_module_version": "1.5.0",
            "_model_name": "DescriptionStyleModel",
            "_view_count": null,
            "_view_module": "@jupyter-widgets/base",
            "_view_module_version": "1.2.0",
            "_view_name": "StyleView",
            "description_width": ""
          }
        },
        "98b2fd4f465a407691476b1b8490f8fc": {
          "model_module": "@jupyter-widgets/base",
          "model_name": "LayoutModel",
          "model_module_version": "1.2.0",
          "state": {
            "_model_module": "@jupyter-widgets/base",
            "_model_module_version": "1.2.0",
            "_model_name": "LayoutModel",
            "_view_count": null,
            "_view_module": "@jupyter-widgets/base",
            "_view_module_version": "1.2.0",
            "_view_name": "LayoutView",
            "align_content": null,
            "align_items": null,
            "align_self": null,
            "border": null,
            "bottom": null,
            "display": null,
            "flex": null,
            "flex_flow": null,
            "grid_area": null,
            "grid_auto_columns": null,
            "grid_auto_flow": null,
            "grid_auto_rows": null,
            "grid_column": null,
            "grid_gap": null,
            "grid_row": null,
            "grid_template_areas": null,
            "grid_template_columns": null,
            "grid_template_rows": null,
            "height": null,
            "justify_content": null,
            "justify_items": null,
            "left": null,
            "margin": null,
            "max_height": null,
            "max_width": null,
            "min_height": null,
            "min_width": null,
            "object_fit": null,
            "object_position": null,
            "order": null,
            "overflow": null,
            "overflow_x": null,
            "overflow_y": null,
            "padding": null,
            "right": null,
            "top": null,
            "visibility": null,
            "width": null
          }
        },
        "a7e7dff9735b4db1aa2ca96e53dbdf58": {
          "model_module": "@jupyter-widgets/controls",
          "model_name": "ProgressStyleModel",
          "model_module_version": "1.5.0",
          "state": {
            "_model_module": "@jupyter-widgets/controls",
            "_model_module_version": "1.5.0",
            "_model_name": "ProgressStyleModel",
            "_view_count": null,
            "_view_module": "@jupyter-widgets/base",
            "_view_module_version": "1.2.0",
            "_view_name": "StyleView",
            "bar_color": null,
            "description_width": ""
          }
        },
        "bf4605cd08ed4d6aadea359f744e7c18": {
          "model_module": "@jupyter-widgets/base",
          "model_name": "LayoutModel",
          "model_module_version": "1.2.0",
          "state": {
            "_model_module": "@jupyter-widgets/base",
            "_model_module_version": "1.2.0",
            "_model_name": "LayoutModel",
            "_view_count": null,
            "_view_module": "@jupyter-widgets/base",
            "_view_module_version": "1.2.0",
            "_view_name": "LayoutView",
            "align_content": null,
            "align_items": null,
            "align_self": null,
            "border": null,
            "bottom": null,
            "display": null,
            "flex": null,
            "flex_flow": null,
            "grid_area": null,
            "grid_auto_columns": null,
            "grid_auto_flow": null,
            "grid_auto_rows": null,
            "grid_column": null,
            "grid_gap": null,
            "grid_row": null,
            "grid_template_areas": null,
            "grid_template_columns": null,
            "grid_template_rows": null,
            "height": null,
            "justify_content": null,
            "justify_items": null,
            "left": null,
            "margin": null,
            "max_height": null,
            "max_width": null,
            "min_height": null,
            "min_width": null,
            "object_fit": null,
            "object_position": null,
            "order": null,
            "overflow": null,
            "overflow_x": null,
            "overflow_y": null,
            "padding": null,
            "right": null,
            "top": null,
            "visibility": null,
            "width": null
          }
        },
        "f2c28cea07764df6a1da384c18ec7f4a": {
          "model_module": "@jupyter-widgets/controls",
          "model_name": "DescriptionStyleModel",
          "model_module_version": "1.5.0",
          "state": {
            "_model_module": "@jupyter-widgets/controls",
            "_model_module_version": "1.5.0",
            "_model_name": "DescriptionStyleModel",
            "_view_count": null,
            "_view_module": "@jupyter-widgets/base",
            "_view_module_version": "1.2.0",
            "_view_name": "StyleView",
            "description_width": ""
          }
        },
        "66d325b91c3c42ea8ffea7b93e162199": {
          "model_module": "@jupyter-widgets/controls",
          "model_name": "HBoxModel",
          "model_module_version": "1.5.0",
          "state": {
            "_dom_classes": [],
            "_model_module": "@jupyter-widgets/controls",
            "_model_module_version": "1.5.0",
            "_model_name": "HBoxModel",
            "_view_count": null,
            "_view_module": "@jupyter-widgets/controls",
            "_view_module_version": "1.5.0",
            "_view_name": "HBoxView",
            "box_style": "",
            "children": [
              "IPY_MODEL_01d8a1026e5048d187b7699a21b627ba",
              "IPY_MODEL_5fad0023b5154612b879dd1698329be7",
              "IPY_MODEL_fcdb0dbbbd3143da9c559826d60f5cc2"
            ],
            "layout": "IPY_MODEL_4db08b1a2b8543a0840a8c02317056eb"
          }
        },
        "01d8a1026e5048d187b7699a21b627ba": {
          "model_module": "@jupyter-widgets/controls",
          "model_name": "HTMLModel",
          "model_module_version": "1.5.0",
          "state": {
            "_dom_classes": [],
            "_model_module": "@jupyter-widgets/controls",
            "_model_module_version": "1.5.0",
            "_model_name": "HTMLModel",
            "_view_count": null,
            "_view_module": "@jupyter-widgets/controls",
            "_view_module_version": "1.5.0",
            "_view_name": "HTMLView",
            "description": "",
            "description_tooltip": null,
            "layout": "IPY_MODEL_123ac6ecbb0b49dd9c8a1addf61c5289",
            "placeholder": "​",
            "style": "IPY_MODEL_602f0d7aa25045e58626702d79762297",
            "value": "config.json: 100%"
          }
        },
        "5fad0023b5154612b879dd1698329be7": {
          "model_module": "@jupyter-widgets/controls",
          "model_name": "FloatProgressModel",
          "model_module_version": "1.5.0",
          "state": {
            "_dom_classes": [],
            "_model_module": "@jupyter-widgets/controls",
            "_model_module_version": "1.5.0",
            "_model_name": "FloatProgressModel",
            "_view_count": null,
            "_view_module": "@jupyter-widgets/controls",
            "_view_module_version": "1.5.0",
            "_view_name": "ProgressView",
            "bar_style": "success",
            "description": "",
            "description_tooltip": null,
            "layout": "IPY_MODEL_05bc3c7305cf4c8eae43c2b51dc762df",
            "max": 625,
            "min": 0,
            "orientation": "horizontal",
            "style": "IPY_MODEL_d3cf5aac55b24709bfa09d44f607318b",
            "value": 625
          }
        },
        "fcdb0dbbbd3143da9c559826d60f5cc2": {
          "model_module": "@jupyter-widgets/controls",
          "model_name": "HTMLModel",
          "model_module_version": "1.5.0",
          "state": {
            "_dom_classes": [],
            "_model_module": "@jupyter-widgets/controls",
            "_model_module_version": "1.5.0",
            "_model_name": "HTMLModel",
            "_view_count": null,
            "_view_module": "@jupyter-widgets/controls",
            "_view_module_version": "1.5.0",
            "_view_name": "HTMLView",
            "description": "",
            "description_tooltip": null,
            "layout": "IPY_MODEL_8709c7db5b6d44ccaffded982768f19c",
            "placeholder": "​",
            "style": "IPY_MODEL_2ea6640330694533a357d2835d90caf5",
            "value": " 625/625 [00:00&lt;00:00, 29.5kB/s]"
          }
        },
        "4db08b1a2b8543a0840a8c02317056eb": {
          "model_module": "@jupyter-widgets/base",
          "model_name": "LayoutModel",
          "model_module_version": "1.2.0",
          "state": {
            "_model_module": "@jupyter-widgets/base",
            "_model_module_version": "1.2.0",
            "_model_name": "LayoutModel",
            "_view_count": null,
            "_view_module": "@jupyter-widgets/base",
            "_view_module_version": "1.2.0",
            "_view_name": "LayoutView",
            "align_content": null,
            "align_items": null,
            "align_self": null,
            "border": null,
            "bottom": null,
            "display": null,
            "flex": null,
            "flex_flow": null,
            "grid_area": null,
            "grid_auto_columns": null,
            "grid_auto_flow": null,
            "grid_auto_rows": null,
            "grid_column": null,
            "grid_gap": null,
            "grid_row": null,
            "grid_template_areas": null,
            "grid_template_columns": null,
            "grid_template_rows": null,
            "height": null,
            "justify_content": null,
            "justify_items": null,
            "left": null,
            "margin": null,
            "max_height": null,
            "max_width": null,
            "min_height": null,
            "min_width": null,
            "object_fit": null,
            "object_position": null,
            "order": null,
            "overflow": null,
            "overflow_x": null,
            "overflow_y": null,
            "padding": null,
            "right": null,
            "top": null,
            "visibility": null,
            "width": null
          }
        },
        "123ac6ecbb0b49dd9c8a1addf61c5289": {
          "model_module": "@jupyter-widgets/base",
          "model_name": "LayoutModel",
          "model_module_version": "1.2.0",
          "state": {
            "_model_module": "@jupyter-widgets/base",
            "_model_module_version": "1.2.0",
            "_model_name": "LayoutModel",
            "_view_count": null,
            "_view_module": "@jupyter-widgets/base",
            "_view_module_version": "1.2.0",
            "_view_name": "LayoutView",
            "align_content": null,
            "align_items": null,
            "align_self": null,
            "border": null,
            "bottom": null,
            "display": null,
            "flex": null,
            "flex_flow": null,
            "grid_area": null,
            "grid_auto_columns": null,
            "grid_auto_flow": null,
            "grid_auto_rows": null,
            "grid_column": null,
            "grid_gap": null,
            "grid_row": null,
            "grid_template_areas": null,
            "grid_template_columns": null,
            "grid_template_rows": null,
            "height": null,
            "justify_content": null,
            "justify_items": null,
            "left": null,
            "margin": null,
            "max_height": null,
            "max_width": null,
            "min_height": null,
            "min_width": null,
            "object_fit": null,
            "object_position": null,
            "order": null,
            "overflow": null,
            "overflow_x": null,
            "overflow_y": null,
            "padding": null,
            "right": null,
            "top": null,
            "visibility": null,
            "width": null
          }
        },
        "602f0d7aa25045e58626702d79762297": {
          "model_module": "@jupyter-widgets/controls",
          "model_name": "DescriptionStyleModel",
          "model_module_version": "1.5.0",
          "state": {
            "_model_module": "@jupyter-widgets/controls",
            "_model_module_version": "1.5.0",
            "_model_name": "DescriptionStyleModel",
            "_view_count": null,
            "_view_module": "@jupyter-widgets/base",
            "_view_module_version": "1.2.0",
            "_view_name": "StyleView",
            "description_width": ""
          }
        },
        "05bc3c7305cf4c8eae43c2b51dc762df": {
          "model_module": "@jupyter-widgets/base",
          "model_name": "LayoutModel",
          "model_module_version": "1.2.0",
          "state": {
            "_model_module": "@jupyter-widgets/base",
            "_model_module_version": "1.2.0",
            "_model_name": "LayoutModel",
            "_view_count": null,
            "_view_module": "@jupyter-widgets/base",
            "_view_module_version": "1.2.0",
            "_view_name": "LayoutView",
            "align_content": null,
            "align_items": null,
            "align_self": null,
            "border": null,
            "bottom": null,
            "display": null,
            "flex": null,
            "flex_flow": null,
            "grid_area": null,
            "grid_auto_columns": null,
            "grid_auto_flow": null,
            "grid_auto_rows": null,
            "grid_column": null,
            "grid_gap": null,
            "grid_row": null,
            "grid_template_areas": null,
            "grid_template_columns": null,
            "grid_template_rows": null,
            "height": null,
            "justify_content": null,
            "justify_items": null,
            "left": null,
            "margin": null,
            "max_height": null,
            "max_width": null,
            "min_height": null,
            "min_width": null,
            "object_fit": null,
            "object_position": null,
            "order": null,
            "overflow": null,
            "overflow_x": null,
            "overflow_y": null,
            "padding": null,
            "right": null,
            "top": null,
            "visibility": null,
            "width": null
          }
        },
        "d3cf5aac55b24709bfa09d44f607318b": {
          "model_module": "@jupyter-widgets/controls",
          "model_name": "ProgressStyleModel",
          "model_module_version": "1.5.0",
          "state": {
            "_model_module": "@jupyter-widgets/controls",
            "_model_module_version": "1.5.0",
            "_model_name": "ProgressStyleModel",
            "_view_count": null,
            "_view_module": "@jupyter-widgets/base",
            "_view_module_version": "1.2.0",
            "_view_name": "StyleView",
            "bar_color": null,
            "description_width": ""
          }
        },
        "8709c7db5b6d44ccaffded982768f19c": {
          "model_module": "@jupyter-widgets/base",
          "model_name": "LayoutModel",
          "model_module_version": "1.2.0",
          "state": {
            "_model_module": "@jupyter-widgets/base",
            "_model_module_version": "1.2.0",
            "_model_name": "LayoutModel",
            "_view_count": null,
            "_view_module": "@jupyter-widgets/base",
            "_view_module_version": "1.2.0",
            "_view_name": "LayoutView",
            "align_content": null,
            "align_items": null,
            "align_self": null,
            "border": null,
            "bottom": null,
            "display": null,
            "flex": null,
            "flex_flow": null,
            "grid_area": null,
            "grid_auto_columns": null,
            "grid_auto_flow": null,
            "grid_auto_rows": null,
            "grid_column": null,
            "grid_gap": null,
            "grid_row": null,
            "grid_template_areas": null,
            "grid_template_columns": null,
            "grid_template_rows": null,
            "height": null,
            "justify_content": null,
            "justify_items": null,
            "left": null,
            "margin": null,
            "max_height": null,
            "max_width": null,
            "min_height": null,
            "min_width": null,
            "object_fit": null,
            "object_position": null,
            "order": null,
            "overflow": null,
            "overflow_x": null,
            "overflow_y": null,
            "padding": null,
            "right": null,
            "top": null,
            "visibility": null,
            "width": null
          }
        },
        "2ea6640330694533a357d2835d90caf5": {
          "model_module": "@jupyter-widgets/controls",
          "model_name": "DescriptionStyleModel",
          "model_module_version": "1.5.0",
          "state": {
            "_model_module": "@jupyter-widgets/controls",
            "_model_module_version": "1.5.0",
            "_model_name": "DescriptionStyleModel",
            "_view_count": null,
            "_view_module": "@jupyter-widgets/base",
            "_view_module_version": "1.2.0",
            "_view_name": "StyleView",
            "description_width": ""
          }
        },
        "751102bbb66b4d459b51aaa5e8fc6a59": {
          "model_module": "@jupyter-widgets/controls",
          "model_name": "HBoxModel",
          "model_module_version": "1.5.0",
          "state": {
            "_dom_classes": [],
            "_model_module": "@jupyter-widgets/controls",
            "_model_module_version": "1.5.0",
            "_model_name": "HBoxModel",
            "_view_count": null,
            "_view_module": "@jupyter-widgets/controls",
            "_view_module_version": "1.5.0",
            "_view_name": "HBoxView",
            "box_style": "",
            "children": [
              "IPY_MODEL_708ac0d8dc134094bbd55eab0c30c89d",
              "IPY_MODEL_c5c27ed6af104253a7651f0c932e4965",
              "IPY_MODEL_ae73b370fa6c48c49efc90a9bc89f4db"
            ],
            "layout": "IPY_MODEL_ab7349c87a894794a7b0c0716b844b8d"
          }
        },
        "708ac0d8dc134094bbd55eab0c30c89d": {
          "model_module": "@jupyter-widgets/controls",
          "model_name": "HTMLModel",
          "model_module_version": "1.5.0",
          "state": {
            "_dom_classes": [],
            "_model_module": "@jupyter-widgets/controls",
            "_model_module_version": "1.5.0",
            "_model_name": "HTMLModel",
            "_view_count": null,
            "_view_module": "@jupyter-widgets/controls",
            "_view_module_version": "1.5.0",
            "_view_name": "HTMLView",
            "description": "",
            "description_tooltip": null,
            "layout": "IPY_MODEL_546969b821a34d36a08846626b7b72dc",
            "placeholder": "​",
            "style": "IPY_MODEL_ab94266dda744df6a3fd7d38c1cbe499",
            "value": "model.safetensors: 100%"
          }
        },
        "c5c27ed6af104253a7651f0c932e4965": {
          "model_module": "@jupyter-widgets/controls",
          "model_name": "FloatProgressModel",
          "model_module_version": "1.5.0",
          "state": {
            "_dom_classes": [],
            "_model_module": "@jupyter-widgets/controls",
            "_model_module_version": "1.5.0",
            "_model_name": "FloatProgressModel",
            "_view_count": null,
            "_view_module": "@jupyter-widgets/controls",
            "_view_module_version": "1.5.0",
            "_view_name": "ProgressView",
            "bar_style": "success",
            "description": "",
            "description_tooltip": null,
            "layout": "IPY_MODEL_4f9ca42f176e4679838d33cb22df5322",
            "max": 714290682,
            "min": 0,
            "orientation": "horizontal",
            "style": "IPY_MODEL_46da1c155c5b45b3ba8bbbee31773329",
            "value": 714290682
          }
        },
        "ae73b370fa6c48c49efc90a9bc89f4db": {
          "model_module": "@jupyter-widgets/controls",
          "model_name": "HTMLModel",
          "model_module_version": "1.5.0",
          "state": {
            "_dom_classes": [],
            "_model_module": "@jupyter-widgets/controls",
            "_model_module_version": "1.5.0",
            "_model_name": "HTMLModel",
            "_view_count": null,
            "_view_module": "@jupyter-widgets/controls",
            "_view_module_version": "1.5.0",
            "_view_name": "HTMLView",
            "description": "",
            "description_tooltip": null,
            "layout": "IPY_MODEL_04b8a893cc2c441d807ba8517932d3a1",
            "placeholder": "​",
            "style": "IPY_MODEL_4d45c5aa1fa24ccbb113f72e2a9003bd",
            "value": " 714M/714M [00:03&lt;00:00, 241MB/s]"
          }
        },
        "ab7349c87a894794a7b0c0716b844b8d": {
          "model_module": "@jupyter-widgets/base",
          "model_name": "LayoutModel",
          "model_module_version": "1.2.0",
          "state": {
            "_model_module": "@jupyter-widgets/base",
            "_model_module_version": "1.2.0",
            "_model_name": "LayoutModel",
            "_view_count": null,
            "_view_module": "@jupyter-widgets/base",
            "_view_module_version": "1.2.0",
            "_view_name": "LayoutView",
            "align_content": null,
            "align_items": null,
            "align_self": null,
            "border": null,
            "bottom": null,
            "display": null,
            "flex": null,
            "flex_flow": null,
            "grid_area": null,
            "grid_auto_columns": null,
            "grid_auto_flow": null,
            "grid_auto_rows": null,
            "grid_column": null,
            "grid_gap": null,
            "grid_row": null,
            "grid_template_areas": null,
            "grid_template_columns": null,
            "grid_template_rows": null,
            "height": null,
            "justify_content": null,
            "justify_items": null,
            "left": null,
            "margin": null,
            "max_height": null,
            "max_width": null,
            "min_height": null,
            "min_width": null,
            "object_fit": null,
            "object_position": null,
            "order": null,
            "overflow": null,
            "overflow_x": null,
            "overflow_y": null,
            "padding": null,
            "right": null,
            "top": null,
            "visibility": null,
            "width": null
          }
        },
        "546969b821a34d36a08846626b7b72dc": {
          "model_module": "@jupyter-widgets/base",
          "model_name": "LayoutModel",
          "model_module_version": "1.2.0",
          "state": {
            "_model_module": "@jupyter-widgets/base",
            "_model_module_version": "1.2.0",
            "_model_name": "LayoutModel",
            "_view_count": null,
            "_view_module": "@jupyter-widgets/base",
            "_view_module_version": "1.2.0",
            "_view_name": "LayoutView",
            "align_content": null,
            "align_items": null,
            "align_self": null,
            "border": null,
            "bottom": null,
            "display": null,
            "flex": null,
            "flex_flow": null,
            "grid_area": null,
            "grid_auto_columns": null,
            "grid_auto_flow": null,
            "grid_auto_rows": null,
            "grid_column": null,
            "grid_gap": null,
            "grid_row": null,
            "grid_template_areas": null,
            "grid_template_columns": null,
            "grid_template_rows": null,
            "height": null,
            "justify_content": null,
            "justify_items": null,
            "left": null,
            "margin": null,
            "max_height": null,
            "max_width": null,
            "min_height": null,
            "min_width": null,
            "object_fit": null,
            "object_position": null,
            "order": null,
            "overflow": null,
            "overflow_x": null,
            "overflow_y": null,
            "padding": null,
            "right": null,
            "top": null,
            "visibility": null,
            "width": null
          }
        },
        "ab94266dda744df6a3fd7d38c1cbe499": {
          "model_module": "@jupyter-widgets/controls",
          "model_name": "DescriptionStyleModel",
          "model_module_version": "1.5.0",
          "state": {
            "_model_module": "@jupyter-widgets/controls",
            "_model_module_version": "1.5.0",
            "_model_name": "DescriptionStyleModel",
            "_view_count": null,
            "_view_module": "@jupyter-widgets/base",
            "_view_module_version": "1.2.0",
            "_view_name": "StyleView",
            "description_width": ""
          }
        },
        "4f9ca42f176e4679838d33cb22df5322": {
          "model_module": "@jupyter-widgets/base",
          "model_name": "LayoutModel",
          "model_module_version": "1.2.0",
          "state": {
            "_model_module": "@jupyter-widgets/base",
            "_model_module_version": "1.2.0",
            "_model_name": "LayoutModel",
            "_view_count": null,
            "_view_module": "@jupyter-widgets/base",
            "_view_module_version": "1.2.0",
            "_view_name": "LayoutView",
            "align_content": null,
            "align_items": null,
            "align_self": null,
            "border": null,
            "bottom": null,
            "display": null,
            "flex": null,
            "flex_flow": null,
            "grid_area": null,
            "grid_auto_columns": null,
            "grid_auto_flow": null,
            "grid_auto_rows": null,
            "grid_column": null,
            "grid_gap": null,
            "grid_row": null,
            "grid_template_areas": null,
            "grid_template_columns": null,
            "grid_template_rows": null,
            "height": null,
            "justify_content": null,
            "justify_items": null,
            "left": null,
            "margin": null,
            "max_height": null,
            "max_width": null,
            "min_height": null,
            "min_width": null,
            "object_fit": null,
            "object_position": null,
            "order": null,
            "overflow": null,
            "overflow_x": null,
            "overflow_y": null,
            "padding": null,
            "right": null,
            "top": null,
            "visibility": null,
            "width": null
          }
        },
        "46da1c155c5b45b3ba8bbbee31773329": {
          "model_module": "@jupyter-widgets/controls",
          "model_name": "ProgressStyleModel",
          "model_module_version": "1.5.0",
          "state": {
            "_model_module": "@jupyter-widgets/controls",
            "_model_module_version": "1.5.0",
            "_model_name": "ProgressStyleModel",
            "_view_count": null,
            "_view_module": "@jupyter-widgets/base",
            "_view_module_version": "1.2.0",
            "_view_name": "StyleView",
            "bar_color": null,
            "description_width": ""
          }
        },
        "04b8a893cc2c441d807ba8517932d3a1": {
          "model_module": "@jupyter-widgets/base",
          "model_name": "LayoutModel",
          "model_module_version": "1.2.0",
          "state": {
            "_model_module": "@jupyter-widgets/base",
            "_model_module_version": "1.2.0",
            "_model_name": "LayoutModel",
            "_view_count": null,
            "_view_module": "@jupyter-widgets/base",
            "_view_module_version": "1.2.0",
            "_view_name": "LayoutView",
            "align_content": null,
            "align_items": null,
            "align_self": null,
            "border": null,
            "bottom": null,
            "display": null,
            "flex": null,
            "flex_flow": null,
            "grid_area": null,
            "grid_auto_columns": null,
            "grid_auto_flow": null,
            "grid_auto_rows": null,
            "grid_column": null,
            "grid_gap": null,
            "grid_row": null,
            "grid_template_areas": null,
            "grid_template_columns": null,
            "grid_template_rows": null,
            "height": null,
            "justify_content": null,
            "justify_items": null,
            "left": null,
            "margin": null,
            "max_height": null,
            "max_width": null,
            "min_height": null,
            "min_width": null,
            "object_fit": null,
            "object_position": null,
            "order": null,
            "overflow": null,
            "overflow_x": null,
            "overflow_y": null,
            "padding": null,
            "right": null,
            "top": null,
            "visibility": null,
            "width": null
          }
        },
        "4d45c5aa1fa24ccbb113f72e2a9003bd": {
          "model_module": "@jupyter-widgets/controls",
          "model_name": "DescriptionStyleModel",
          "model_module_version": "1.5.0",
          "state": {
            "_model_module": "@jupyter-widgets/controls",
            "_model_module_version": "1.5.0",
            "_model_name": "DescriptionStyleModel",
            "_view_count": null,
            "_view_module": "@jupyter-widgets/base",
            "_view_module_version": "1.2.0",
            "_view_name": "StyleView",
            "description_width": ""
          }
        }
      }
    }
  },
  "nbformat_minor": 0,
  "nbformat": 4,
  "cells": [
    {
      "cell_type": "code",
      "source": [
        "from google.colab import drive\n",
        "drive.mount('/content/drive')"
      ],
      "metadata": {
        "colab": {
          "base_uri": "https://localhost:8080/"
        },
        "id": "OGK8m9UFVai1",
        "outputId": "389195a1-8820-4b2f-828a-d21e3ecff4f9"
      },
      "execution_count": 1,
      "outputs": [
        {
          "output_type": "stream",
          "name": "stdout",
          "text": [
            "Mounted at /content/drive\n"
          ]
        }
      ]
    },
    {
      "cell_type": "code",
      "source": [
        "#@title Setup & Config\n",
        "import transformers\n",
        "from transformers import BertModel, BertTokenizer, AdamW, get_linear_schedule_with_warmup\n",
        "import torch\n",
        "from transformers import AutoTokenizer, AutoModel\n",
        "\n",
        "import numpy as np\n",
        "import pandas as pd\n",
        "import seaborn as sns\n",
        "from pylab import rcParams\n",
        "import matplotlib.pyplot as plt\n",
        "from matplotlib import rc\n",
        "from sklearn.model_selection import train_test_split\n",
        "from sklearn.metrics import confusion_matrix, classification_report\n",
        "from collections import defaultdict\n",
        "from textwrap import wrap\n",
        "\n",
        "from torch import nn, optim\n",
        "from torch.utils.data import Dataset, DataLoader\n",
        "import torch.nn.functional as F\n",
        "\n",
        "%matplotlib inline\n",
        "%config InlineBackend.figure_format='retina'\n",
        "sns.set(style='whitegrid', palette='muted', font_scale=0.8)\n",
        "\n",
        "HAPPY_COLORS_PALETTE = [\"#01BEFE\", \"#FFDD00\", \"#FF7D00\", \"#FF006D\", \"#ADFF02\", \"#8F00FF\"]\n",
        "\n",
        "sns.set_palette(sns.color_palette(HAPPY_COLORS_PALETTE))\n",
        "\n",
        "rcParams['figure.figsize'] = 12, 8\n",
        "\n",
        "RANDOM_SEED = 42\n",
        "np.random.seed(RANDOM_SEED)\n",
        "torch.manual_seed(RANDOM_SEED)\n",
        "\n",
        "device = torch.device(\"cuda:0\" if torch.cuda.is_available() else \"cpu\")\n",
        "device"
      ],
      "metadata": {
        "_uuid": "8f2839f25d086af736a60e9eeb907d3b93b6e0e5",
        "_cell_guid": "b1076dfc-b9ad-4769-8c92-a6c4dae69d19",
        "execution": {
          "iopub.status.busy": "2024-06-08T14:35:56.752454Z",
          "iopub.execute_input": "2024-06-08T14:35:56.752730Z",
          "iopub.status.idle": "2024-06-08T14:36:03.957385Z",
          "shell.execute_reply.started": "2024-06-08T14:35:56.752705Z",
          "shell.execute_reply": "2024-06-08T14:36:03.956461Z"
        },
        "trusted": true,
        "colab": {
          "base_uri": "https://localhost:8080/"
        },
        "cellView": "form",
        "id": "0xPzc9fwU_1Z",
        "outputId": "0b929d09-748e-44ff-f1a6-5755f84dff88"
      },
      "execution_count": 2,
      "outputs": [
        {
          "output_type": "execute_result",
          "data": {
            "text/plain": [
              "device(type='cuda', index=0)"
            ]
          },
          "metadata": {},
          "execution_count": 2
        }
      ]
    },
    {
      "cell_type": "markdown",
      "source": [
        "# **Load**"
      ],
      "metadata": {
        "id": "Z0Ieje3l2j2b"
      }
    },
    {
      "cell_type": "code",
      "source": [
        "import warnings\n",
        "\n",
        "# Ignore FutureWarnings from the tokenization_utils_base module\n",
        "warnings.filterwarnings(\"ignore\", category=FutureWarning, module=\"transformers.tokenization_utils_base\")\n"
      ],
      "metadata": {
        "execution": {
          "iopub.status.busy": "2024-06-08T14:36:03.959566Z",
          "iopub.execute_input": "2024-06-08T14:36:03.960412Z",
          "iopub.status.idle": "2024-06-08T14:36:03.964462Z",
          "shell.execute_reply.started": "2024-06-08T14:36:03.960377Z",
          "shell.execute_reply": "2024-06-08T14:36:03.963595Z"
        },
        "trusted": true,
        "id": "ieCLh0aYU_1d"
      },
      "execution_count": 3,
      "outputs": []
    },
    {
      "cell_type": "code",
      "source": [
        "real = pd.read_csv(\"/content/drive/MyDrive/NLP_course_AF/true.csv\")\n",
        "real.head()"
      ],
      "metadata": {
        "execution": {
          "iopub.status.busy": "2024-06-08T14:36:03.965684Z",
          "iopub.execute_input": "2024-06-08T14:36:03.966023Z",
          "iopub.status.idle": "2024-06-08T14:36:05.319427Z",
          "shell.execute_reply.started": "2024-06-08T14:36:03.965992Z",
          "shell.execute_reply": "2024-06-08T14:36:05.318306Z"
        },
        "trusted": true,
        "colab": {
          "base_uri": "https://localhost:8080/",
          "height": 293
        },
        "id": "VfbOSxaFU_1d",
        "outputId": "0a81e5ef-9665-412f-9b28-7bc451ae3c7f"
      },
      "execution_count": 4,
      "outputs": [
        {
          "output_type": "execute_result",
          "data": {
            "text/plain": [
              "                                               title  \\\n",
              "0  As U.S. budget fight looms, Republicans flip t...   \n",
              "1  U.S. military to accept transgender recruits o...   \n",
              "2  Senior U.S. Republican senator: 'Let Mr. Muell...   \n",
              "3  FBI Russia probe helped by Australian diplomat...   \n",
              "4  Trump wants Postal Service to charge 'much mor...   \n",
              "\n",
              "                                                text       subject  \\\n",
              "0  WASHINGTON (Reuters) - The head of a conservat...  politicsNews   \n",
              "1  WASHINGTON (Reuters) - Transgender people will...  politicsNews   \n",
              "2  WASHINGTON (Reuters) - The special counsel inv...  politicsNews   \n",
              "3  WASHINGTON (Reuters) - Trump campaign adviser ...  politicsNews   \n",
              "4  SEATTLE/WASHINGTON (Reuters) - President Donal...  politicsNews   \n",
              "\n",
              "                 date  \n",
              "0  December 31, 2017   \n",
              "1  December 29, 2017   \n",
              "2  December 31, 2017   \n",
              "3  December 30, 2017   \n",
              "4  December 29, 2017   "
            ],
            "text/html": [
              "\n",
              "  <div id=\"df-46c8eee6-6550-4604-a719-bd56fc508255\" class=\"colab-df-container\">\n",
              "    <div>\n",
              "<style scoped>\n",
              "    .dataframe tbody tr th:only-of-type {\n",
              "        vertical-align: middle;\n",
              "    }\n",
              "\n",
              "    .dataframe tbody tr th {\n",
              "        vertical-align: top;\n",
              "    }\n",
              "\n",
              "    .dataframe thead th {\n",
              "        text-align: right;\n",
              "    }\n",
              "</style>\n",
              "<table border=\"1\" class=\"dataframe\">\n",
              "  <thead>\n",
              "    <tr style=\"text-align: right;\">\n",
              "      <th></th>\n",
              "      <th>title</th>\n",
              "      <th>text</th>\n",
              "      <th>subject</th>\n",
              "      <th>date</th>\n",
              "    </tr>\n",
              "  </thead>\n",
              "  <tbody>\n",
              "    <tr>\n",
              "      <th>0</th>\n",
              "      <td>As U.S. budget fight looms, Republicans flip t...</td>\n",
              "      <td>WASHINGTON (Reuters) - The head of a conservat...</td>\n",
              "      <td>politicsNews</td>\n",
              "      <td>December 31, 2017</td>\n",
              "    </tr>\n",
              "    <tr>\n",
              "      <th>1</th>\n",
              "      <td>U.S. military to accept transgender recruits o...</td>\n",
              "      <td>WASHINGTON (Reuters) - Transgender people will...</td>\n",
              "      <td>politicsNews</td>\n",
              "      <td>December 29, 2017</td>\n",
              "    </tr>\n",
              "    <tr>\n",
              "      <th>2</th>\n",
              "      <td>Senior U.S. Republican senator: 'Let Mr. Muell...</td>\n",
              "      <td>WASHINGTON (Reuters) - The special counsel inv...</td>\n",
              "      <td>politicsNews</td>\n",
              "      <td>December 31, 2017</td>\n",
              "    </tr>\n",
              "    <tr>\n",
              "      <th>3</th>\n",
              "      <td>FBI Russia probe helped by Australian diplomat...</td>\n",
              "      <td>WASHINGTON (Reuters) - Trump campaign adviser ...</td>\n",
              "      <td>politicsNews</td>\n",
              "      <td>December 30, 2017</td>\n",
              "    </tr>\n",
              "    <tr>\n",
              "      <th>4</th>\n",
              "      <td>Trump wants Postal Service to charge 'much mor...</td>\n",
              "      <td>SEATTLE/WASHINGTON (Reuters) - President Donal...</td>\n",
              "      <td>politicsNews</td>\n",
              "      <td>December 29, 2017</td>\n",
              "    </tr>\n",
              "  </tbody>\n",
              "</table>\n",
              "</div>\n",
              "    <div class=\"colab-df-buttons\">\n",
              "\n",
              "  <div class=\"colab-df-container\">\n",
              "    <button class=\"colab-df-convert\" onclick=\"convertToInteractive('df-46c8eee6-6550-4604-a719-bd56fc508255')\"\n",
              "            title=\"Convert this dataframe to an interactive table.\"\n",
              "            style=\"display:none;\">\n",
              "\n",
              "  <svg xmlns=\"http://www.w3.org/2000/svg\" height=\"24px\" viewBox=\"0 -960 960 960\">\n",
              "    <path d=\"M120-120v-720h720v720H120Zm60-500h600v-160H180v160Zm220 220h160v-160H400v160Zm0 220h160v-160H400v160ZM180-400h160v-160H180v160Zm440 0h160v-160H620v160ZM180-180h160v-160H180v160Zm440 0h160v-160H620v160Z\"/>\n",
              "  </svg>\n",
              "    </button>\n",
              "\n",
              "  <style>\n",
              "    .colab-df-container {\n",
              "      display:flex;\n",
              "      gap: 12px;\n",
              "    }\n",
              "\n",
              "    .colab-df-convert {\n",
              "      background-color: #E8F0FE;\n",
              "      border: none;\n",
              "      border-radius: 50%;\n",
              "      cursor: pointer;\n",
              "      display: none;\n",
              "      fill: #1967D2;\n",
              "      height: 32px;\n",
              "      padding: 0 0 0 0;\n",
              "      width: 32px;\n",
              "    }\n",
              "\n",
              "    .colab-df-convert:hover {\n",
              "      background-color: #E2EBFA;\n",
              "      box-shadow: 0px 1px 2px rgba(60, 64, 67, 0.3), 0px 1px 3px 1px rgba(60, 64, 67, 0.15);\n",
              "      fill: #174EA6;\n",
              "    }\n",
              "\n",
              "    .colab-df-buttons div {\n",
              "      margin-bottom: 4px;\n",
              "    }\n",
              "\n",
              "    [theme=dark] .colab-df-convert {\n",
              "      background-color: #3B4455;\n",
              "      fill: #D2E3FC;\n",
              "    }\n",
              "\n",
              "    [theme=dark] .colab-df-convert:hover {\n",
              "      background-color: #434B5C;\n",
              "      box-shadow: 0px 1px 3px 1px rgba(0, 0, 0, 0.15);\n",
              "      filter: drop-shadow(0px 1px 2px rgba(0, 0, 0, 0.3));\n",
              "      fill: #FFFFFF;\n",
              "    }\n",
              "  </style>\n",
              "\n",
              "    <script>\n",
              "      const buttonEl =\n",
              "        document.querySelector('#df-46c8eee6-6550-4604-a719-bd56fc508255 button.colab-df-convert');\n",
              "      buttonEl.style.display =\n",
              "        google.colab.kernel.accessAllowed ? 'block' : 'none';\n",
              "\n",
              "      async function convertToInteractive(key) {\n",
              "        const element = document.querySelector('#df-46c8eee6-6550-4604-a719-bd56fc508255');\n",
              "        const dataTable =\n",
              "          await google.colab.kernel.invokeFunction('convertToInteractive',\n",
              "                                                    [key], {});\n",
              "        if (!dataTable) return;\n",
              "\n",
              "        const docLinkHtml = 'Like what you see? Visit the ' +\n",
              "          '<a target=\"_blank\" href=https://colab.research.google.com/notebooks/data_table.ipynb>data table notebook</a>'\n",
              "          + ' to learn more about interactive tables.';\n",
              "        element.innerHTML = '';\n",
              "        dataTable['output_type'] = 'display_data';\n",
              "        await google.colab.output.renderOutput(dataTable, element);\n",
              "        const docLink = document.createElement('div');\n",
              "        docLink.innerHTML = docLinkHtml;\n",
              "        element.appendChild(docLink);\n",
              "      }\n",
              "    </script>\n",
              "  </div>\n",
              "\n",
              "\n",
              "<div id=\"df-5075a311-a50c-439d-8499-290c4481ddec\">\n",
              "  <button class=\"colab-df-quickchart\" onclick=\"quickchart('df-5075a311-a50c-439d-8499-290c4481ddec')\"\n",
              "            title=\"Suggest charts\"\n",
              "            style=\"display:none;\">\n",
              "\n",
              "<svg xmlns=\"http://www.w3.org/2000/svg\" height=\"24px\"viewBox=\"0 0 24 24\"\n",
              "     width=\"24px\">\n",
              "    <g>\n",
              "        <path d=\"M19 3H5c-1.1 0-2 .9-2 2v14c0 1.1.9 2 2 2h14c1.1 0 2-.9 2-2V5c0-1.1-.9-2-2-2zM9 17H7v-7h2v7zm4 0h-2V7h2v10zm4 0h-2v-4h2v4z\"/>\n",
              "    </g>\n",
              "</svg>\n",
              "  </button>\n",
              "\n",
              "<style>\n",
              "  .colab-df-quickchart {\n",
              "      --bg-color: #E8F0FE;\n",
              "      --fill-color: #1967D2;\n",
              "      --hover-bg-color: #E2EBFA;\n",
              "      --hover-fill-color: #174EA6;\n",
              "      --disabled-fill-color: #AAA;\n",
              "      --disabled-bg-color: #DDD;\n",
              "  }\n",
              "\n",
              "  [theme=dark] .colab-df-quickchart {\n",
              "      --bg-color: #3B4455;\n",
              "      --fill-color: #D2E3FC;\n",
              "      --hover-bg-color: #434B5C;\n",
              "      --hover-fill-color: #FFFFFF;\n",
              "      --disabled-bg-color: #3B4455;\n",
              "      --disabled-fill-color: #666;\n",
              "  }\n",
              "\n",
              "  .colab-df-quickchart {\n",
              "    background-color: var(--bg-color);\n",
              "    border: none;\n",
              "    border-radius: 50%;\n",
              "    cursor: pointer;\n",
              "    display: none;\n",
              "    fill: var(--fill-color);\n",
              "    height: 32px;\n",
              "    padding: 0;\n",
              "    width: 32px;\n",
              "  }\n",
              "\n",
              "  .colab-df-quickchart:hover {\n",
              "    background-color: var(--hover-bg-color);\n",
              "    box-shadow: 0 1px 2px rgba(60, 64, 67, 0.3), 0 1px 3px 1px rgba(60, 64, 67, 0.15);\n",
              "    fill: var(--button-hover-fill-color);\n",
              "  }\n",
              "\n",
              "  .colab-df-quickchart-complete:disabled,\n",
              "  .colab-df-quickchart-complete:disabled:hover {\n",
              "    background-color: var(--disabled-bg-color);\n",
              "    fill: var(--disabled-fill-color);\n",
              "    box-shadow: none;\n",
              "  }\n",
              "\n",
              "  .colab-df-spinner {\n",
              "    border: 2px solid var(--fill-color);\n",
              "    border-color: transparent;\n",
              "    border-bottom-color: var(--fill-color);\n",
              "    animation:\n",
              "      spin 1s steps(1) infinite;\n",
              "  }\n",
              "\n",
              "  @keyframes spin {\n",
              "    0% {\n",
              "      border-color: transparent;\n",
              "      border-bottom-color: var(--fill-color);\n",
              "      border-left-color: var(--fill-color);\n",
              "    }\n",
              "    20% {\n",
              "      border-color: transparent;\n",
              "      border-left-color: var(--fill-color);\n",
              "      border-top-color: var(--fill-color);\n",
              "    }\n",
              "    30% {\n",
              "      border-color: transparent;\n",
              "      border-left-color: var(--fill-color);\n",
              "      border-top-color: var(--fill-color);\n",
              "      border-right-color: var(--fill-color);\n",
              "    }\n",
              "    40% {\n",
              "      border-color: transparent;\n",
              "      border-right-color: var(--fill-color);\n",
              "      border-top-color: var(--fill-color);\n",
              "    }\n",
              "    60% {\n",
              "      border-color: transparent;\n",
              "      border-right-color: var(--fill-color);\n",
              "    }\n",
              "    80% {\n",
              "      border-color: transparent;\n",
              "      border-right-color: var(--fill-color);\n",
              "      border-bottom-color: var(--fill-color);\n",
              "    }\n",
              "    90% {\n",
              "      border-color: transparent;\n",
              "      border-bottom-color: var(--fill-color);\n",
              "    }\n",
              "  }\n",
              "</style>\n",
              "\n",
              "  <script>\n",
              "    async function quickchart(key) {\n",
              "      const quickchartButtonEl =\n",
              "        document.querySelector('#' + key + ' button');\n",
              "      quickchartButtonEl.disabled = true;  // To prevent multiple clicks.\n",
              "      quickchartButtonEl.classList.add('colab-df-spinner');\n",
              "      try {\n",
              "        const charts = await google.colab.kernel.invokeFunction(\n",
              "            'suggestCharts', [key], {});\n",
              "      } catch (error) {\n",
              "        console.error('Error during call to suggestCharts:', error);\n",
              "      }\n",
              "      quickchartButtonEl.classList.remove('colab-df-spinner');\n",
              "      quickchartButtonEl.classList.add('colab-df-quickchart-complete');\n",
              "    }\n",
              "    (() => {\n",
              "      let quickchartButtonEl =\n",
              "        document.querySelector('#df-5075a311-a50c-439d-8499-290c4481ddec button');\n",
              "      quickchartButtonEl.style.display =\n",
              "        google.colab.kernel.accessAllowed ? 'block' : 'none';\n",
              "    })();\n",
              "  </script>\n",
              "</div>\n",
              "    </div>\n",
              "  </div>\n"
            ],
            "application/vnd.google.colaboratory.intrinsic+json": {
              "type": "dataframe",
              "variable_name": "real",
              "summary": "{\n  \"name\": \"real\",\n  \"rows\": 21417,\n  \"fields\": [\n    {\n      \"column\": \"title\",\n      \"properties\": {\n        \"dtype\": \"string\",\n        \"num_unique_values\": 20826,\n        \"samples\": [\n          \"German, Turkish foreign ministers meet after detainee released\",\n          \"Kremlin calls North Korea's latest missile launch another 'provocation'\",\n          \"Transgender soldiers, veterans shaken by Trump's ban on their service\"\n        ],\n        \"semantic_type\": \"\",\n        \"description\": \"\"\n      }\n    },\n    {\n      \"column\": \"text\",\n      \"properties\": {\n        \"dtype\": \"string\",\n        \"num_unique_values\": 21192,\n        \"samples\": [\n          \"WASHINGTON (Reuters) - A majority of the U.S. Senate on Tuesday backed a new round of disaster aid to help Puerto Rico and several states recover from damage from hurricanes and wildfires. The legislation would provide $36.5 billion in emergency relief as Puerto Rico in particular struggles to regain electricity and other basic services following destructive hurricanes. The House of Representatives approved the bill earlier this month. The Trump administration already has indicated it will seek another round of emergency relief from Congress. \",\n          \"BUDAPEST (Reuters) - About a thousand Hungarians protested on Friday against a crackdown on the main opposition party Jobbik which has been  threatened by a record political campaign fine that the party leader describes as a  death sentence  for democracy. Despite the gloomy rhetoric and Jobbik saying it was fighting for survival, support for the demonstration was well down on other similar rallies over the past year. Hungarians will vote for a new parliament in April and Prime Minister Viktor Orban s conservative, anti-migrant Fidesz party is far ahead in the polls, with Jobbik its nearest rival. Jobbik, once on the far right, has turned toward the center in a bid to attract more support and is now campaigning nationwide against Orban, depicting him as the leader of a criminal gang. Orban, rejecting the charges, says his financial standing is  an open book . Last week the state audit office (ASZ) ruled Jobbik had bought political posters far below market prices, breaching rules on political funding, then it slapped a 663 million forint ($2.5 million) penalty on the party. The protesters, waving Jobbik flags and posters deriding the ruling elite, gathered outside the headquarters of Orban s Fidesz party.  What we see unfolding is not an audit office investigation. It is not an official penalty. This is a death sentence with Jobbik s name on it. But in reality, it is a death sentence for Hungarian democracy,  Jobbiik leader Gabor Vona told the crowd. A government spokesman could not comment immediately on his remarks. ASZ chairman Laszlo Domokos is a former Fidesz lawmaker, whom Jobbik and other critics accuse of making decisions in favor of Orban. The audit office denies that. On Friday, ASZ again called on Jobbik to submit information that would challenge its findings, saying it acted fully within its rights throughout the probe. The ruling Fidesz party and the government have denied any involvement in the ASZ probe.  This case has nothing to do with the election campaign,  Orban aide Janos Lazar said on Thursday. For over a year Fidesz has targeted Jobbik, whose move to the center could upend the longstanding status quo of a dominant Fidesz with weaker opponents to its left and its right, said analyst Zoltan Novak at the Centre for Fair Political Analysis. Gyorgy Illes, a 67-year-old pensioner attending the rally, said he used to be a Socialist supporter but got disillusioned as the party struggled to overcome its internal divisions.  This ASZ probe is a clear sign that Orban is way past any remedy. It is a ruthless attack on everything we hold dear. Democracy, the rule of law, equality, you name it,  he said. \",\n          \"BEIJING/TAIPEI (Reuters) - China accused the United States on Thursday of interfering in its internal affairs and said it had lodged a complaint after U.S. President Donald Trump signed into law an act laying the groundwork for possible U.S. navy visits to self-ruled Taiwan. Tensions have risen in recent days after a senior Chinese diplomat threatened China would invade Taiwan if any U.S. warships made port visits to the island which China claims as its own territory. On Monday, Chinese jets carried out  island encirclement patrols  around Taiwan, with state media showing pictures of bombers with cruise missiles slung under their wings as they carried out the exercise. On Tuesday, Trump signed into law the National Defense Authorization Act for the 2018 fiscal year, which authorizes the possibility of mutual visits by navy vessels between Taiwan and the United States. Such visits would be the first since the United States ended formal diplomatic relations with Taiwan in 1979 and established ties with Beijing. Chinese Foreign Ministry spokesman Lu Kang said while the Taiwan sections of the law were not legally binding, they seriously violate the  One China  policy and  constitute an interference in China s internal affairs .   China is resolutely opposed to this, and we have already lodged stern representations with the U.S. government,  Lu told a daily news briefing. China is firmly opposed to any official exchanges, military contact, or arms sales between Taiwan and the United States, he added.  Proudly democratic Taiwan has become increasingly concerned with the ramped up Chinese military presence, that has included several rounds of Chinese air force drills around the island in recent months.  Taiwan is confident of its defenses and responded quickly to the Chinese air force drills this week, its government said, denouncing the rise in China s military deployments as irresponsible. Taiwan presidential spokesman Alex Huang, speaking to Taiwan media in comments reported late on Wednesday, said the defense ministry had kept a close watch on the patrols and responded immediately and properly. Taiwan  can ensure there are no concerns at all about national security, and people can rest assured , Huang said. Both sides of the narrow Taiwan Strait, which separates Taiwan from its giant neighbor, have a responsibility to protect peace and stability, he added.  Such a raised military posture that may impact upon and harm regional peace and stability and cross-strait ties does not give a feeling of responsibility, and the international community does not look favorably upon this,  Huang was quoted as saying. Relations have soured considerably since Tsai Ing-wen, who leads Taiwan s independence-leaning Democratic Progressive Party, won presidential elections last year. China suspects Tsai wants to declare the island s formal independence, a red line for Beijing. Tsai says she wants to maintain peace with China but will defend Taiwan s security. Taiwan is well equipped with mostly U.S. weapons but has been pressing for more advanced equipment to deal with what it sees as a rising threat from China. The United States is bound by law to provide the island with the means to defend itself. China has never renounced the use of force to bring Taiwan under its control. \"\n        ],\n        \"semantic_type\": \"\",\n        \"description\": \"\"\n      }\n    },\n    {\n      \"column\": \"subject\",\n      \"properties\": {\n        \"dtype\": \"category\",\n        \"num_unique_values\": 2,\n        \"samples\": [\n          \"worldnews\",\n          \"politicsNews\"\n        ],\n        \"semantic_type\": \"\",\n        \"description\": \"\"\n      }\n    },\n    {\n      \"column\": \"date\",\n      \"properties\": {\n        \"dtype\": \"object\",\n        \"num_unique_values\": 716,\n        \"samples\": [\n          \"September 2, 2017 \",\n          \"February 2, 2017 \"\n        ],\n        \"semantic_type\": \"\",\n        \"description\": \"\"\n      }\n    }\n  ]\n}"
            }
          },
          "metadata": {},
          "execution_count": 4
        }
      ]
    },
    {
      "cell_type": "code",
      "source": [
        "FAKE_CLASS = 1\n",
        "REAL_CLASS = 0"
      ],
      "metadata": {
        "id": "1zPKPIY0hOEZ"
      },
      "execution_count": 5,
      "outputs": []
    },
    {
      "cell_type": "code",
      "source": [
        "real['label'] = REAL_CLASS"
      ],
      "metadata": {
        "execution": {
          "iopub.status.busy": "2024-06-08T14:36:05.320591Z",
          "iopub.execute_input": "2024-06-08T14:36:05.320897Z",
          "iopub.status.idle": "2024-06-08T14:36:05.326823Z",
          "shell.execute_reply.started": "2024-06-08T14:36:05.320870Z",
          "shell.execute_reply": "2024-06-08T14:36:05.325819Z"
        },
        "trusted": true,
        "id": "UZUKrv3oU_1e"
      },
      "execution_count": 6,
      "outputs": []
    },
    {
      "cell_type": "code",
      "source": [
        "real.head()"
      ],
      "metadata": {
        "execution": {
          "iopub.status.busy": "2024-06-08T14:36:05.330685Z",
          "iopub.execute_input": "2024-06-08T14:36:05.331572Z",
          "iopub.status.idle": "2024-06-08T14:36:05.344027Z",
          "shell.execute_reply.started": "2024-06-08T14:36:05.331526Z",
          "shell.execute_reply": "2024-06-08T14:36:05.342950Z"
        },
        "trusted": true,
        "colab": {
          "base_uri": "https://localhost:8080/",
          "height": 293
        },
        "id": "QJFxG4V4U_1e",
        "outputId": "a8703f14-0f11-4e2d-a1e0-efe1769aabdb"
      },
      "execution_count": 7,
      "outputs": [
        {
          "output_type": "execute_result",
          "data": {
            "text/plain": [
              "                                               title  \\\n",
              "0  As U.S. budget fight looms, Republicans flip t...   \n",
              "1  U.S. military to accept transgender recruits o...   \n",
              "2  Senior U.S. Republican senator: 'Let Mr. Muell...   \n",
              "3  FBI Russia probe helped by Australian diplomat...   \n",
              "4  Trump wants Postal Service to charge 'much mor...   \n",
              "\n",
              "                                                text       subject  \\\n",
              "0  WASHINGTON (Reuters) - The head of a conservat...  politicsNews   \n",
              "1  WASHINGTON (Reuters) - Transgender people will...  politicsNews   \n",
              "2  WASHINGTON (Reuters) - The special counsel inv...  politicsNews   \n",
              "3  WASHINGTON (Reuters) - Trump campaign adviser ...  politicsNews   \n",
              "4  SEATTLE/WASHINGTON (Reuters) - President Donal...  politicsNews   \n",
              "\n",
              "                 date  label  \n",
              "0  December 31, 2017       0  \n",
              "1  December 29, 2017       0  \n",
              "2  December 31, 2017       0  \n",
              "3  December 30, 2017       0  \n",
              "4  December 29, 2017       0  "
            ],
            "text/html": [
              "\n",
              "  <div id=\"df-3732868b-1f57-4f13-a164-cfc8e058360e\" class=\"colab-df-container\">\n",
              "    <div>\n",
              "<style scoped>\n",
              "    .dataframe tbody tr th:only-of-type {\n",
              "        vertical-align: middle;\n",
              "    }\n",
              "\n",
              "    .dataframe tbody tr th {\n",
              "        vertical-align: top;\n",
              "    }\n",
              "\n",
              "    .dataframe thead th {\n",
              "        text-align: right;\n",
              "    }\n",
              "</style>\n",
              "<table border=\"1\" class=\"dataframe\">\n",
              "  <thead>\n",
              "    <tr style=\"text-align: right;\">\n",
              "      <th></th>\n",
              "      <th>title</th>\n",
              "      <th>text</th>\n",
              "      <th>subject</th>\n",
              "      <th>date</th>\n",
              "      <th>label</th>\n",
              "    </tr>\n",
              "  </thead>\n",
              "  <tbody>\n",
              "    <tr>\n",
              "      <th>0</th>\n",
              "      <td>As U.S. budget fight looms, Republicans flip t...</td>\n",
              "      <td>WASHINGTON (Reuters) - The head of a conservat...</td>\n",
              "      <td>politicsNews</td>\n",
              "      <td>December 31, 2017</td>\n",
              "      <td>0</td>\n",
              "    </tr>\n",
              "    <tr>\n",
              "      <th>1</th>\n",
              "      <td>U.S. military to accept transgender recruits o...</td>\n",
              "      <td>WASHINGTON (Reuters) - Transgender people will...</td>\n",
              "      <td>politicsNews</td>\n",
              "      <td>December 29, 2017</td>\n",
              "      <td>0</td>\n",
              "    </tr>\n",
              "    <tr>\n",
              "      <th>2</th>\n",
              "      <td>Senior U.S. Republican senator: 'Let Mr. Muell...</td>\n",
              "      <td>WASHINGTON (Reuters) - The special counsel inv...</td>\n",
              "      <td>politicsNews</td>\n",
              "      <td>December 31, 2017</td>\n",
              "      <td>0</td>\n",
              "    </tr>\n",
              "    <tr>\n",
              "      <th>3</th>\n",
              "      <td>FBI Russia probe helped by Australian diplomat...</td>\n",
              "      <td>WASHINGTON (Reuters) - Trump campaign adviser ...</td>\n",
              "      <td>politicsNews</td>\n",
              "      <td>December 30, 2017</td>\n",
              "      <td>0</td>\n",
              "    </tr>\n",
              "    <tr>\n",
              "      <th>4</th>\n",
              "      <td>Trump wants Postal Service to charge 'much mor...</td>\n",
              "      <td>SEATTLE/WASHINGTON (Reuters) - President Donal...</td>\n",
              "      <td>politicsNews</td>\n",
              "      <td>December 29, 2017</td>\n",
              "      <td>0</td>\n",
              "    </tr>\n",
              "  </tbody>\n",
              "</table>\n",
              "</div>\n",
              "    <div class=\"colab-df-buttons\">\n",
              "\n",
              "  <div class=\"colab-df-container\">\n",
              "    <button class=\"colab-df-convert\" onclick=\"convertToInteractive('df-3732868b-1f57-4f13-a164-cfc8e058360e')\"\n",
              "            title=\"Convert this dataframe to an interactive table.\"\n",
              "            style=\"display:none;\">\n",
              "\n",
              "  <svg xmlns=\"http://www.w3.org/2000/svg\" height=\"24px\" viewBox=\"0 -960 960 960\">\n",
              "    <path d=\"M120-120v-720h720v720H120Zm60-500h600v-160H180v160Zm220 220h160v-160H400v160Zm0 220h160v-160H400v160ZM180-400h160v-160H180v160Zm440 0h160v-160H620v160ZM180-180h160v-160H180v160Zm440 0h160v-160H620v160Z\"/>\n",
              "  </svg>\n",
              "    </button>\n",
              "\n",
              "  <style>\n",
              "    .colab-df-container {\n",
              "      display:flex;\n",
              "      gap: 12px;\n",
              "    }\n",
              "\n",
              "    .colab-df-convert {\n",
              "      background-color: #E8F0FE;\n",
              "      border: none;\n",
              "      border-radius: 50%;\n",
              "      cursor: pointer;\n",
              "      display: none;\n",
              "      fill: #1967D2;\n",
              "      height: 32px;\n",
              "      padding: 0 0 0 0;\n",
              "      width: 32px;\n",
              "    }\n",
              "\n",
              "    .colab-df-convert:hover {\n",
              "      background-color: #E2EBFA;\n",
              "      box-shadow: 0px 1px 2px rgba(60, 64, 67, 0.3), 0px 1px 3px 1px rgba(60, 64, 67, 0.15);\n",
              "      fill: #174EA6;\n",
              "    }\n",
              "\n",
              "    .colab-df-buttons div {\n",
              "      margin-bottom: 4px;\n",
              "    }\n",
              "\n",
              "    [theme=dark] .colab-df-convert {\n",
              "      background-color: #3B4455;\n",
              "      fill: #D2E3FC;\n",
              "    }\n",
              "\n",
              "    [theme=dark] .colab-df-convert:hover {\n",
              "      background-color: #434B5C;\n",
              "      box-shadow: 0px 1px 3px 1px rgba(0, 0, 0, 0.15);\n",
              "      filter: drop-shadow(0px 1px 2px rgba(0, 0, 0, 0.3));\n",
              "      fill: #FFFFFF;\n",
              "    }\n",
              "  </style>\n",
              "\n",
              "    <script>\n",
              "      const buttonEl =\n",
              "        document.querySelector('#df-3732868b-1f57-4f13-a164-cfc8e058360e button.colab-df-convert');\n",
              "      buttonEl.style.display =\n",
              "        google.colab.kernel.accessAllowed ? 'block' : 'none';\n",
              "\n",
              "      async function convertToInteractive(key) {\n",
              "        const element = document.querySelector('#df-3732868b-1f57-4f13-a164-cfc8e058360e');\n",
              "        const dataTable =\n",
              "          await google.colab.kernel.invokeFunction('convertToInteractive',\n",
              "                                                    [key], {});\n",
              "        if (!dataTable) return;\n",
              "\n",
              "        const docLinkHtml = 'Like what you see? Visit the ' +\n",
              "          '<a target=\"_blank\" href=https://colab.research.google.com/notebooks/data_table.ipynb>data table notebook</a>'\n",
              "          + ' to learn more about interactive tables.';\n",
              "        element.innerHTML = '';\n",
              "        dataTable['output_type'] = 'display_data';\n",
              "        await google.colab.output.renderOutput(dataTable, element);\n",
              "        const docLink = document.createElement('div');\n",
              "        docLink.innerHTML = docLinkHtml;\n",
              "        element.appendChild(docLink);\n",
              "      }\n",
              "    </script>\n",
              "  </div>\n",
              "\n",
              "\n",
              "<div id=\"df-6b105122-eac1-4545-b885-6e705cee3fd4\">\n",
              "  <button class=\"colab-df-quickchart\" onclick=\"quickchart('df-6b105122-eac1-4545-b885-6e705cee3fd4')\"\n",
              "            title=\"Suggest charts\"\n",
              "            style=\"display:none;\">\n",
              "\n",
              "<svg xmlns=\"http://www.w3.org/2000/svg\" height=\"24px\"viewBox=\"0 0 24 24\"\n",
              "     width=\"24px\">\n",
              "    <g>\n",
              "        <path d=\"M19 3H5c-1.1 0-2 .9-2 2v14c0 1.1.9 2 2 2h14c1.1 0 2-.9 2-2V5c0-1.1-.9-2-2-2zM9 17H7v-7h2v7zm4 0h-2V7h2v10zm4 0h-2v-4h2v4z\"/>\n",
              "    </g>\n",
              "</svg>\n",
              "  </button>\n",
              "\n",
              "<style>\n",
              "  .colab-df-quickchart {\n",
              "      --bg-color: #E8F0FE;\n",
              "      --fill-color: #1967D2;\n",
              "      --hover-bg-color: #E2EBFA;\n",
              "      --hover-fill-color: #174EA6;\n",
              "      --disabled-fill-color: #AAA;\n",
              "      --disabled-bg-color: #DDD;\n",
              "  }\n",
              "\n",
              "  [theme=dark] .colab-df-quickchart {\n",
              "      --bg-color: #3B4455;\n",
              "      --fill-color: #D2E3FC;\n",
              "      --hover-bg-color: #434B5C;\n",
              "      --hover-fill-color: #FFFFFF;\n",
              "      --disabled-bg-color: #3B4455;\n",
              "      --disabled-fill-color: #666;\n",
              "  }\n",
              "\n",
              "  .colab-df-quickchart {\n",
              "    background-color: var(--bg-color);\n",
              "    border: none;\n",
              "    border-radius: 50%;\n",
              "    cursor: pointer;\n",
              "    display: none;\n",
              "    fill: var(--fill-color);\n",
              "    height: 32px;\n",
              "    padding: 0;\n",
              "    width: 32px;\n",
              "  }\n",
              "\n",
              "  .colab-df-quickchart:hover {\n",
              "    background-color: var(--hover-bg-color);\n",
              "    box-shadow: 0 1px 2px rgba(60, 64, 67, 0.3), 0 1px 3px 1px rgba(60, 64, 67, 0.15);\n",
              "    fill: var(--button-hover-fill-color);\n",
              "  }\n",
              "\n",
              "  .colab-df-quickchart-complete:disabled,\n",
              "  .colab-df-quickchart-complete:disabled:hover {\n",
              "    background-color: var(--disabled-bg-color);\n",
              "    fill: var(--disabled-fill-color);\n",
              "    box-shadow: none;\n",
              "  }\n",
              "\n",
              "  .colab-df-spinner {\n",
              "    border: 2px solid var(--fill-color);\n",
              "    border-color: transparent;\n",
              "    border-bottom-color: var(--fill-color);\n",
              "    animation:\n",
              "      spin 1s steps(1) infinite;\n",
              "  }\n",
              "\n",
              "  @keyframes spin {\n",
              "    0% {\n",
              "      border-color: transparent;\n",
              "      border-bottom-color: var(--fill-color);\n",
              "      border-left-color: var(--fill-color);\n",
              "    }\n",
              "    20% {\n",
              "      border-color: transparent;\n",
              "      border-left-color: var(--fill-color);\n",
              "      border-top-color: var(--fill-color);\n",
              "    }\n",
              "    30% {\n",
              "      border-color: transparent;\n",
              "      border-left-color: var(--fill-color);\n",
              "      border-top-color: var(--fill-color);\n",
              "      border-right-color: var(--fill-color);\n",
              "    }\n",
              "    40% {\n",
              "      border-color: transparent;\n",
              "      border-right-color: var(--fill-color);\n",
              "      border-top-color: var(--fill-color);\n",
              "    }\n",
              "    60% {\n",
              "      border-color: transparent;\n",
              "      border-right-color: var(--fill-color);\n",
              "    }\n",
              "    80% {\n",
              "      border-color: transparent;\n",
              "      border-right-color: var(--fill-color);\n",
              "      border-bottom-color: var(--fill-color);\n",
              "    }\n",
              "    90% {\n",
              "      border-color: transparent;\n",
              "      border-bottom-color: var(--fill-color);\n",
              "    }\n",
              "  }\n",
              "</style>\n",
              "\n",
              "  <script>\n",
              "    async function quickchart(key) {\n",
              "      const quickchartButtonEl =\n",
              "        document.querySelector('#' + key + ' button');\n",
              "      quickchartButtonEl.disabled = true;  // To prevent multiple clicks.\n",
              "      quickchartButtonEl.classList.add('colab-df-spinner');\n",
              "      try {\n",
              "        const charts = await google.colab.kernel.invokeFunction(\n",
              "            'suggestCharts', [key], {});\n",
              "      } catch (error) {\n",
              "        console.error('Error during call to suggestCharts:', error);\n",
              "      }\n",
              "      quickchartButtonEl.classList.remove('colab-df-spinner');\n",
              "      quickchartButtonEl.classList.add('colab-df-quickchart-complete');\n",
              "    }\n",
              "    (() => {\n",
              "      let quickchartButtonEl =\n",
              "        document.querySelector('#df-6b105122-eac1-4545-b885-6e705cee3fd4 button');\n",
              "      quickchartButtonEl.style.display =\n",
              "        google.colab.kernel.accessAllowed ? 'block' : 'none';\n",
              "    })();\n",
              "  </script>\n",
              "</div>\n",
              "    </div>\n",
              "  </div>\n"
            ],
            "application/vnd.google.colaboratory.intrinsic+json": {
              "type": "dataframe",
              "variable_name": "real",
              "summary": "{\n  \"name\": \"real\",\n  \"rows\": 21417,\n  \"fields\": [\n    {\n      \"column\": \"title\",\n      \"properties\": {\n        \"dtype\": \"string\",\n        \"num_unique_values\": 20826,\n        \"samples\": [\n          \"German, Turkish foreign ministers meet after detainee released\",\n          \"Kremlin calls North Korea's latest missile launch another 'provocation'\",\n          \"Transgender soldiers, veterans shaken by Trump's ban on their service\"\n        ],\n        \"semantic_type\": \"\",\n        \"description\": \"\"\n      }\n    },\n    {\n      \"column\": \"text\",\n      \"properties\": {\n        \"dtype\": \"string\",\n        \"num_unique_values\": 21192,\n        \"samples\": [\n          \"WASHINGTON (Reuters) - A majority of the U.S. Senate on Tuesday backed a new round of disaster aid to help Puerto Rico and several states recover from damage from hurricanes and wildfires. The legislation would provide $36.5 billion in emergency relief as Puerto Rico in particular struggles to regain electricity and other basic services following destructive hurricanes. The House of Representatives approved the bill earlier this month. The Trump administration already has indicated it will seek another round of emergency relief from Congress. \",\n          \"BUDAPEST (Reuters) - About a thousand Hungarians protested on Friday against a crackdown on the main opposition party Jobbik which has been  threatened by a record political campaign fine that the party leader describes as a  death sentence  for democracy. Despite the gloomy rhetoric and Jobbik saying it was fighting for survival, support for the demonstration was well down on other similar rallies over the past year. Hungarians will vote for a new parliament in April and Prime Minister Viktor Orban s conservative, anti-migrant Fidesz party is far ahead in the polls, with Jobbik its nearest rival. Jobbik, once on the far right, has turned toward the center in a bid to attract more support and is now campaigning nationwide against Orban, depicting him as the leader of a criminal gang. Orban, rejecting the charges, says his financial standing is  an open book . Last week the state audit office (ASZ) ruled Jobbik had bought political posters far below market prices, breaching rules on political funding, then it slapped a 663 million forint ($2.5 million) penalty on the party. The protesters, waving Jobbik flags and posters deriding the ruling elite, gathered outside the headquarters of Orban s Fidesz party.  What we see unfolding is not an audit office investigation. It is not an official penalty. This is a death sentence with Jobbik s name on it. But in reality, it is a death sentence for Hungarian democracy,  Jobbiik leader Gabor Vona told the crowd. A government spokesman could not comment immediately on his remarks. ASZ chairman Laszlo Domokos is a former Fidesz lawmaker, whom Jobbik and other critics accuse of making decisions in favor of Orban. The audit office denies that. On Friday, ASZ again called on Jobbik to submit information that would challenge its findings, saying it acted fully within its rights throughout the probe. The ruling Fidesz party and the government have denied any involvement in the ASZ probe.  This case has nothing to do with the election campaign,  Orban aide Janos Lazar said on Thursday. For over a year Fidesz has targeted Jobbik, whose move to the center could upend the longstanding status quo of a dominant Fidesz with weaker opponents to its left and its right, said analyst Zoltan Novak at the Centre for Fair Political Analysis. Gyorgy Illes, a 67-year-old pensioner attending the rally, said he used to be a Socialist supporter but got disillusioned as the party struggled to overcome its internal divisions.  This ASZ probe is a clear sign that Orban is way past any remedy. It is a ruthless attack on everything we hold dear. Democracy, the rule of law, equality, you name it,  he said. \",\n          \"BEIJING/TAIPEI (Reuters) - China accused the United States on Thursday of interfering in its internal affairs and said it had lodged a complaint after U.S. President Donald Trump signed into law an act laying the groundwork for possible U.S. navy visits to self-ruled Taiwan. Tensions have risen in recent days after a senior Chinese diplomat threatened China would invade Taiwan if any U.S. warships made port visits to the island which China claims as its own territory. On Monday, Chinese jets carried out  island encirclement patrols  around Taiwan, with state media showing pictures of bombers with cruise missiles slung under their wings as they carried out the exercise. On Tuesday, Trump signed into law the National Defense Authorization Act for the 2018 fiscal year, which authorizes the possibility of mutual visits by navy vessels between Taiwan and the United States. Such visits would be the first since the United States ended formal diplomatic relations with Taiwan in 1979 and established ties with Beijing. Chinese Foreign Ministry spokesman Lu Kang said while the Taiwan sections of the law were not legally binding, they seriously violate the  One China  policy and  constitute an interference in China s internal affairs .   China is resolutely opposed to this, and we have already lodged stern representations with the U.S. government,  Lu told a daily news briefing. China is firmly opposed to any official exchanges, military contact, or arms sales between Taiwan and the United States, he added.  Proudly democratic Taiwan has become increasingly concerned with the ramped up Chinese military presence, that has included several rounds of Chinese air force drills around the island in recent months.  Taiwan is confident of its defenses and responded quickly to the Chinese air force drills this week, its government said, denouncing the rise in China s military deployments as irresponsible. Taiwan presidential spokesman Alex Huang, speaking to Taiwan media in comments reported late on Wednesday, said the defense ministry had kept a close watch on the patrols and responded immediately and properly. Taiwan  can ensure there are no concerns at all about national security, and people can rest assured , Huang said. Both sides of the narrow Taiwan Strait, which separates Taiwan from its giant neighbor, have a responsibility to protect peace and stability, he added.  Such a raised military posture that may impact upon and harm regional peace and stability and cross-strait ties does not give a feeling of responsibility, and the international community does not look favorably upon this,  Huang was quoted as saying. Relations have soured considerably since Tsai Ing-wen, who leads Taiwan s independence-leaning Democratic Progressive Party, won presidential elections last year. China suspects Tsai wants to declare the island s formal independence, a red line for Beijing. Tsai says she wants to maintain peace with China but will defend Taiwan s security. Taiwan is well equipped with mostly U.S. weapons but has been pressing for more advanced equipment to deal with what it sees as a rising threat from China. The United States is bound by law to provide the island with the means to defend itself. China has never renounced the use of force to bring Taiwan under its control. \"\n        ],\n        \"semantic_type\": \"\",\n        \"description\": \"\"\n      }\n    },\n    {\n      \"column\": \"subject\",\n      \"properties\": {\n        \"dtype\": \"category\",\n        \"num_unique_values\": 2,\n        \"samples\": [\n          \"worldnews\",\n          \"politicsNews\"\n        ],\n        \"semantic_type\": \"\",\n        \"description\": \"\"\n      }\n    },\n    {\n      \"column\": \"date\",\n      \"properties\": {\n        \"dtype\": \"object\",\n        \"num_unique_values\": 716,\n        \"samples\": [\n          \"September 2, 2017 \",\n          \"February 2, 2017 \"\n        ],\n        \"semantic_type\": \"\",\n        \"description\": \"\"\n      }\n    },\n    {\n      \"column\": \"label\",\n      \"properties\": {\n        \"dtype\": \"number\",\n        \"std\": 0,\n        \"min\": 0,\n        \"max\": 0,\n        \"num_unique_values\": 1,\n        \"samples\": [\n          0\n        ],\n        \"semantic_type\": \"\",\n        \"description\": \"\"\n      }\n    }\n  ]\n}"
            }
          },
          "metadata": {},
          "execution_count": 7
        }
      ]
    },
    {
      "cell_type": "code",
      "source": [
        "fake = pd.read_csv(\"/content/drive/MyDrive/NLP_course_AF/fake.csv\")\n",
        "fake.head()"
      ],
      "metadata": {
        "execution": {
          "iopub.status.busy": "2024-06-08T14:36:05.345434Z",
          "iopub.execute_input": "2024-06-08T14:36:05.345820Z",
          "iopub.status.idle": "2024-06-08T14:36:06.771088Z",
          "shell.execute_reply.started": "2024-06-08T14:36:05.345785Z",
          "shell.execute_reply": "2024-06-08T14:36:06.770170Z"
        },
        "trusted": true,
        "colab": {
          "base_uri": "https://localhost:8080/",
          "height": 293
        },
        "id": "AKTpKF79U_1f",
        "outputId": "16d7d3bd-4bda-4218-a15c-db11f555f3a9"
      },
      "execution_count": 8,
      "outputs": [
        {
          "output_type": "execute_result",
          "data": {
            "text/plain": [
              "                                               title  \\\n",
              "0   Donald Trump Sends Out Embarrassing New Year’...   \n",
              "1   Drunk Bragging Trump Staffer Started Russian ...   \n",
              "2   Sheriff David Clarke Becomes An Internet Joke...   \n",
              "3   Trump Is So Obsessed He Even Has Obama’s Name...   \n",
              "4   Pope Francis Just Called Out Donald Trump Dur...   \n",
              "\n",
              "                                                text subject  \\\n",
              "0  Donald Trump just couldn t wish all Americans ...    News   \n",
              "1  House Intelligence Committee Chairman Devin Nu...    News   \n",
              "2  On Friday, it was revealed that former Milwauk...    News   \n",
              "3  On Christmas day, Donald Trump announced that ...    News   \n",
              "4  Pope Francis used his annual Christmas Day mes...    News   \n",
              "\n",
              "                date  \n",
              "0  December 31, 2017  \n",
              "1  December 31, 2017  \n",
              "2  December 30, 2017  \n",
              "3  December 29, 2017  \n",
              "4  December 25, 2017  "
            ],
            "text/html": [
              "\n",
              "  <div id=\"df-e8926a42-2433-4fce-a00a-432ad620c968\" class=\"colab-df-container\">\n",
              "    <div>\n",
              "<style scoped>\n",
              "    .dataframe tbody tr th:only-of-type {\n",
              "        vertical-align: middle;\n",
              "    }\n",
              "\n",
              "    .dataframe tbody tr th {\n",
              "        vertical-align: top;\n",
              "    }\n",
              "\n",
              "    .dataframe thead th {\n",
              "        text-align: right;\n",
              "    }\n",
              "</style>\n",
              "<table border=\"1\" class=\"dataframe\">\n",
              "  <thead>\n",
              "    <tr style=\"text-align: right;\">\n",
              "      <th></th>\n",
              "      <th>title</th>\n",
              "      <th>text</th>\n",
              "      <th>subject</th>\n",
              "      <th>date</th>\n",
              "    </tr>\n",
              "  </thead>\n",
              "  <tbody>\n",
              "    <tr>\n",
              "      <th>0</th>\n",
              "      <td>Donald Trump Sends Out Embarrassing New Year’...</td>\n",
              "      <td>Donald Trump just couldn t wish all Americans ...</td>\n",
              "      <td>News</td>\n",
              "      <td>December 31, 2017</td>\n",
              "    </tr>\n",
              "    <tr>\n",
              "      <th>1</th>\n",
              "      <td>Drunk Bragging Trump Staffer Started Russian ...</td>\n",
              "      <td>House Intelligence Committee Chairman Devin Nu...</td>\n",
              "      <td>News</td>\n",
              "      <td>December 31, 2017</td>\n",
              "    </tr>\n",
              "    <tr>\n",
              "      <th>2</th>\n",
              "      <td>Sheriff David Clarke Becomes An Internet Joke...</td>\n",
              "      <td>On Friday, it was revealed that former Milwauk...</td>\n",
              "      <td>News</td>\n",
              "      <td>December 30, 2017</td>\n",
              "    </tr>\n",
              "    <tr>\n",
              "      <th>3</th>\n",
              "      <td>Trump Is So Obsessed He Even Has Obama’s Name...</td>\n",
              "      <td>On Christmas day, Donald Trump announced that ...</td>\n",
              "      <td>News</td>\n",
              "      <td>December 29, 2017</td>\n",
              "    </tr>\n",
              "    <tr>\n",
              "      <th>4</th>\n",
              "      <td>Pope Francis Just Called Out Donald Trump Dur...</td>\n",
              "      <td>Pope Francis used his annual Christmas Day mes...</td>\n",
              "      <td>News</td>\n",
              "      <td>December 25, 2017</td>\n",
              "    </tr>\n",
              "  </tbody>\n",
              "</table>\n",
              "</div>\n",
              "    <div class=\"colab-df-buttons\">\n",
              "\n",
              "  <div class=\"colab-df-container\">\n",
              "    <button class=\"colab-df-convert\" onclick=\"convertToInteractive('df-e8926a42-2433-4fce-a00a-432ad620c968')\"\n",
              "            title=\"Convert this dataframe to an interactive table.\"\n",
              "            style=\"display:none;\">\n",
              "\n",
              "  <svg xmlns=\"http://www.w3.org/2000/svg\" height=\"24px\" viewBox=\"0 -960 960 960\">\n",
              "    <path d=\"M120-120v-720h720v720H120Zm60-500h600v-160H180v160Zm220 220h160v-160H400v160Zm0 220h160v-160H400v160ZM180-400h160v-160H180v160Zm440 0h160v-160H620v160ZM180-180h160v-160H180v160Zm440 0h160v-160H620v160Z\"/>\n",
              "  </svg>\n",
              "    </button>\n",
              "\n",
              "  <style>\n",
              "    .colab-df-container {\n",
              "      display:flex;\n",
              "      gap: 12px;\n",
              "    }\n",
              "\n",
              "    .colab-df-convert {\n",
              "      background-color: #E8F0FE;\n",
              "      border: none;\n",
              "      border-radius: 50%;\n",
              "      cursor: pointer;\n",
              "      display: none;\n",
              "      fill: #1967D2;\n",
              "      height: 32px;\n",
              "      padding: 0 0 0 0;\n",
              "      width: 32px;\n",
              "    }\n",
              "\n",
              "    .colab-df-convert:hover {\n",
              "      background-color: #E2EBFA;\n",
              "      box-shadow: 0px 1px 2px rgba(60, 64, 67, 0.3), 0px 1px 3px 1px rgba(60, 64, 67, 0.15);\n",
              "      fill: #174EA6;\n",
              "    }\n",
              "\n",
              "    .colab-df-buttons div {\n",
              "      margin-bottom: 4px;\n",
              "    }\n",
              "\n",
              "    [theme=dark] .colab-df-convert {\n",
              "      background-color: #3B4455;\n",
              "      fill: #D2E3FC;\n",
              "    }\n",
              "\n",
              "    [theme=dark] .colab-df-convert:hover {\n",
              "      background-color: #434B5C;\n",
              "      box-shadow: 0px 1px 3px 1px rgba(0, 0, 0, 0.15);\n",
              "      filter: drop-shadow(0px 1px 2px rgba(0, 0, 0, 0.3));\n",
              "      fill: #FFFFFF;\n",
              "    }\n",
              "  </style>\n",
              "\n",
              "    <script>\n",
              "      const buttonEl =\n",
              "        document.querySelector('#df-e8926a42-2433-4fce-a00a-432ad620c968 button.colab-df-convert');\n",
              "      buttonEl.style.display =\n",
              "        google.colab.kernel.accessAllowed ? 'block' : 'none';\n",
              "\n",
              "      async function convertToInteractive(key) {\n",
              "        const element = document.querySelector('#df-e8926a42-2433-4fce-a00a-432ad620c968');\n",
              "        const dataTable =\n",
              "          await google.colab.kernel.invokeFunction('convertToInteractive',\n",
              "                                                    [key], {});\n",
              "        if (!dataTable) return;\n",
              "\n",
              "        const docLinkHtml = 'Like what you see? Visit the ' +\n",
              "          '<a target=\"_blank\" href=https://colab.research.google.com/notebooks/data_table.ipynb>data table notebook</a>'\n",
              "          + ' to learn more about interactive tables.';\n",
              "        element.innerHTML = '';\n",
              "        dataTable['output_type'] = 'display_data';\n",
              "        await google.colab.output.renderOutput(dataTable, element);\n",
              "        const docLink = document.createElement('div');\n",
              "        docLink.innerHTML = docLinkHtml;\n",
              "        element.appendChild(docLink);\n",
              "      }\n",
              "    </script>\n",
              "  </div>\n",
              "\n",
              "\n",
              "<div id=\"df-752487d2-711a-4f2f-a52a-f3838653ad4c\">\n",
              "  <button class=\"colab-df-quickchart\" onclick=\"quickchart('df-752487d2-711a-4f2f-a52a-f3838653ad4c')\"\n",
              "            title=\"Suggest charts\"\n",
              "            style=\"display:none;\">\n",
              "\n",
              "<svg xmlns=\"http://www.w3.org/2000/svg\" height=\"24px\"viewBox=\"0 0 24 24\"\n",
              "     width=\"24px\">\n",
              "    <g>\n",
              "        <path d=\"M19 3H5c-1.1 0-2 .9-2 2v14c0 1.1.9 2 2 2h14c1.1 0 2-.9 2-2V5c0-1.1-.9-2-2-2zM9 17H7v-7h2v7zm4 0h-2V7h2v10zm4 0h-2v-4h2v4z\"/>\n",
              "    </g>\n",
              "</svg>\n",
              "  </button>\n",
              "\n",
              "<style>\n",
              "  .colab-df-quickchart {\n",
              "      --bg-color: #E8F0FE;\n",
              "      --fill-color: #1967D2;\n",
              "      --hover-bg-color: #E2EBFA;\n",
              "      --hover-fill-color: #174EA6;\n",
              "      --disabled-fill-color: #AAA;\n",
              "      --disabled-bg-color: #DDD;\n",
              "  }\n",
              "\n",
              "  [theme=dark] .colab-df-quickchart {\n",
              "      --bg-color: #3B4455;\n",
              "      --fill-color: #D2E3FC;\n",
              "      --hover-bg-color: #434B5C;\n",
              "      --hover-fill-color: #FFFFFF;\n",
              "      --disabled-bg-color: #3B4455;\n",
              "      --disabled-fill-color: #666;\n",
              "  }\n",
              "\n",
              "  .colab-df-quickchart {\n",
              "    background-color: var(--bg-color);\n",
              "    border: none;\n",
              "    border-radius: 50%;\n",
              "    cursor: pointer;\n",
              "    display: none;\n",
              "    fill: var(--fill-color);\n",
              "    height: 32px;\n",
              "    padding: 0;\n",
              "    width: 32px;\n",
              "  }\n",
              "\n",
              "  .colab-df-quickchart:hover {\n",
              "    background-color: var(--hover-bg-color);\n",
              "    box-shadow: 0 1px 2px rgba(60, 64, 67, 0.3), 0 1px 3px 1px rgba(60, 64, 67, 0.15);\n",
              "    fill: var(--button-hover-fill-color);\n",
              "  }\n",
              "\n",
              "  .colab-df-quickchart-complete:disabled,\n",
              "  .colab-df-quickchart-complete:disabled:hover {\n",
              "    background-color: var(--disabled-bg-color);\n",
              "    fill: var(--disabled-fill-color);\n",
              "    box-shadow: none;\n",
              "  }\n",
              "\n",
              "  .colab-df-spinner {\n",
              "    border: 2px solid var(--fill-color);\n",
              "    border-color: transparent;\n",
              "    border-bottom-color: var(--fill-color);\n",
              "    animation:\n",
              "      spin 1s steps(1) infinite;\n",
              "  }\n",
              "\n",
              "  @keyframes spin {\n",
              "    0% {\n",
              "      border-color: transparent;\n",
              "      border-bottom-color: var(--fill-color);\n",
              "      border-left-color: var(--fill-color);\n",
              "    }\n",
              "    20% {\n",
              "      border-color: transparent;\n",
              "      border-left-color: var(--fill-color);\n",
              "      border-top-color: var(--fill-color);\n",
              "    }\n",
              "    30% {\n",
              "      border-color: transparent;\n",
              "      border-left-color: var(--fill-color);\n",
              "      border-top-color: var(--fill-color);\n",
              "      border-right-color: var(--fill-color);\n",
              "    }\n",
              "    40% {\n",
              "      border-color: transparent;\n",
              "      border-right-color: var(--fill-color);\n",
              "      border-top-color: var(--fill-color);\n",
              "    }\n",
              "    60% {\n",
              "      border-color: transparent;\n",
              "      border-right-color: var(--fill-color);\n",
              "    }\n",
              "    80% {\n",
              "      border-color: transparent;\n",
              "      border-right-color: var(--fill-color);\n",
              "      border-bottom-color: var(--fill-color);\n",
              "    }\n",
              "    90% {\n",
              "      border-color: transparent;\n",
              "      border-bottom-color: var(--fill-color);\n",
              "    }\n",
              "  }\n",
              "</style>\n",
              "\n",
              "  <script>\n",
              "    async function quickchart(key) {\n",
              "      const quickchartButtonEl =\n",
              "        document.querySelector('#' + key + ' button');\n",
              "      quickchartButtonEl.disabled = true;  // To prevent multiple clicks.\n",
              "      quickchartButtonEl.classList.add('colab-df-spinner');\n",
              "      try {\n",
              "        const charts = await google.colab.kernel.invokeFunction(\n",
              "            'suggestCharts', [key], {});\n",
              "      } catch (error) {\n",
              "        console.error('Error during call to suggestCharts:', error);\n",
              "      }\n",
              "      quickchartButtonEl.classList.remove('colab-df-spinner');\n",
              "      quickchartButtonEl.classList.add('colab-df-quickchart-complete');\n",
              "    }\n",
              "    (() => {\n",
              "      let quickchartButtonEl =\n",
              "        document.querySelector('#df-752487d2-711a-4f2f-a52a-f3838653ad4c button');\n",
              "      quickchartButtonEl.style.display =\n",
              "        google.colab.kernel.accessAllowed ? 'block' : 'none';\n",
              "    })();\n",
              "  </script>\n",
              "</div>\n",
              "    </div>\n",
              "  </div>\n"
            ],
            "application/vnd.google.colaboratory.intrinsic+json": {
              "type": "dataframe",
              "variable_name": "fake",
              "summary": "{\n  \"name\": \"fake\",\n  \"rows\": 23481,\n  \"fields\": [\n    {\n      \"column\": \"title\",\n      \"properties\": {\n        \"dtype\": \"string\",\n        \"num_unique_values\": 17903,\n        \"samples\": [\n          \" Fox News Mocked Into Oblivion After This F*cking STUPID Attempt To Make Steve Bannon Look Sane (TWEETS)\",\n          \"BREAKING: FL GOV RICK SCOTT Calls for FBI Director to Resign\",\n          \" WATCH: Mike Pence\\u2019s Photo Op With Puerto Rico Survivors Just Went TERRIBLY Wrong (VIDEO)\"\n        ],\n        \"semantic_type\": \"\",\n        \"description\": \"\"\n      }\n    },\n    {\n      \"column\": \"text\",\n      \"properties\": {\n        \"dtype\": \"string\",\n        \"num_unique_values\": 17455,\n        \"samples\": [\n          \"The moral decay continues The Kapiolani Medical Center for Women and Children at the University of Hawaii is currently recruiting pregnant girls and women to participate in second-trimester abortions to measure their bleeding during the operation, with and without antihemorrhagic drugs. According to the Clinical Trials website, run by the National Institutes of Health, participants must be at least 14 years old and 18-24 weeks pregnant.The controversial study, led by Bliss Kaneshiro, MD and Kate Whitehouse, DO, will monitor bleeding during D&E abortions to determine the effects of the drug oxytocin, commonly used to minimize blood loss and decrease the risk of hemorrhage.The clinical trial, called  Effects of Oxytocin on Bleeding Outcomes during Dilation and Evacuation  began in October 2014 and is a collaboration between UH, Society of Family Planning and the University of Washington.The Society of Family Planning funds a number of similar research projects, such as experimenting with the dosage of Misoprostol, a uterine contracting agent, prior to surgical abortions at 13-18 weeks and exploring umbilical cord injections to produce fetal death prior to late-term abortions.In the UH study, researchers will carry out a  randomized, double-blinded, placebo-controlled trials,  to determine the effect of oxytocin s use on uterine bleeding, meaning that they will either provide or deny intravenous oxytocin to the women.Reports suggest that some doctors are concerned that withholding oxytocin during surgery may put patients, especially teen girls, at risk. This study is reminiscent of Nazi concentration camp experiments. I pity the poor women who are being treated like lab rats, especially those who are denied the drug to reduce hemorrhaging,  said Troy Newman, President of Operation Rescue.Dilation and evacuation abortions are surgical procedures that involve dismembering the pre-born baby with forceps, scraping the inside of the uterus with a curette to remove any residuals and finally suctioning out the womb to make sure the contents are completely removed.After the abortion, the corpse of the fetus is reassembled and examined to ensure everything was successfully removed and that the abortion was complete.The study is hoping to attract up to 166 test subjects and is expected to conclude in July 2015.Via: Breitbart News\",\n          \"CNN was quick to scoop up Corey Lewandowski after Donald Trump kicked him out of his role as campaign manager, but his first week on the job is going pretty much exactly how you would expect it to go   terribly.Not only has Lewandowski proven himself to be pretty much like a paid spokesman for Trump, but his defense of the disgraced GOP candidate isn t being received well. Earlier this week, Lewandowski revealed that he was under contract and couldn t criticize The Donald, even after being fired from the campaign. Today, Lewandowski got called out by Hillary Clinton surrogate Christine Quinn for hyping Trump up to be an expert on the Brexit decision   a suggestion that was clearly false.On Monday s edition of CNN s New Day, Lewandowski made another pathetic defense of Trump by trying to reframe the candidate s disgusting reaction to Brexit, where he mostly spoke about how much the decision would be good for his Scotland golf resort. Lewandowski s defense was: Obviously the U.S. dollar has become much stronger now against the British pound. If you re going to spend money in Europe, now would actually be a good time to go with the fall of the pound.What you have is a world view, so what you have is someone who is saying,  Let s look at this from the U.S. perspective. If you want to go and travel overseas   just from a monetary perspective   now is the right time to do that because what you re getting is more for your dollar. Quinn wasn t having it. She ripped into Lewandowski, firing back, Donald Trump is not running to be travel agent of the world, he s running to be president of the United States.  She continued: What he said wasn t a commentary on international markets, it was,  When the pound goes down, more people will come to my golf course. Donald Trump s main concern isn t the international markets, it isn t the impact that Brexit will have on hard working Americans  401Ks, it s himself. How can he make more money, how can he put more money in his bank account? Lewandowski compared the Brexit decision to Trump s rise in the GOP, and Quinn once again called him out and put him back in his place. She said: Trump touted that he saw this coming. That s ridiculous because when he was first asked about Brexit by the press, he didn t appear to know what it was. Lewandowski tried to counter by insisting that People are too smart, they are tired of being told what to do.  He then tried to commend Trump for being a selfish moron: You know what Donald Trump said about Brexit? What he said was, you don t have to listen to me because it s not my decision. He didn t weigh in like Hillary Clinton did, like Barack Obama did, saying that you can t do this. Quinn fought back, Because he didn t know what it was. Lewandowski was fighting a losing battle. Trump s reaction to Brexit was just as terrifying as it was humorous   it truly proved that Trump knows nothing about foreign affairs, and hasn t spent any time educating himself since the beginning of his presidential candidacy. If only some of the hours he spent getting into fights on Twitter were being used for learning about how the world works. But instead, he once again exposed himself as an unfit choice for President. And when people like Lewandowski try to make sense of his idiocy, they only make themselves look equally foolish.You can watch the embarrassing video below:Featured image via screen capture\",\n          \"A Michigan woman decided to defend against tyranny? when she and another shopper couldn t agree over who got to buy the last notebook on the shelf at the Novi Towne Center store.According to ABC 13, the brawl   yes, brawl    involved two Farmington Hills residents, ages 46 and 32, and a mother and daughter from South Lyon, ages 51 and 20. In other words, these were all grown adults who should have known better but hey   there was only one notebook on the shelf, and we ve all seen what happens in those post-apocalyptic movies when a store is down to the last gallon of milk, right?Two of the women, one of whom was the unnamed 20-year-old, reached for the notebook at the same time. The 46 and 32-year-olds apparently decided that she wasn t getting their goddamn notebook and began pulling her hair.Then, because this had almost hit peak  trailer park,  the 20-year-old s mother decided to go for bonus points by pulling out her gun. Fortunately, someone pushed her aside before she could do any harm.This is one of the NRA s  responsible gun owners  (conservatives can t dismiss this one, as it is confirmed that she is a concealed carry permit holder)   ready to leap into action at the most minor sign of danger and make things worse by turning the situation potentially deadly.Watch it happen below:Featured image via screengrab\"\n        ],\n        \"semantic_type\": \"\",\n        \"description\": \"\"\n      }\n    },\n    {\n      \"column\": \"subject\",\n      \"properties\": {\n        \"dtype\": \"category\",\n        \"num_unique_values\": 6,\n        \"samples\": [\n          \"News\",\n          \"politics\",\n          \"Middle-east\"\n        ],\n        \"semantic_type\": \"\",\n        \"description\": \"\"\n      }\n    },\n    {\n      \"column\": \"date\",\n      \"properties\": {\n        \"dtype\": \"category\",\n        \"num_unique_values\": 1681,\n        \"samples\": [\n          \"Jun 5, 2015\",\n          \"August 28, 2016\",\n          \"June 3, 2017\"\n        ],\n        \"semantic_type\": \"\",\n        \"description\": \"\"\n      }\n    }\n  ]\n}"
            }
          },
          "metadata": {},
          "execution_count": 8
        }
      ]
    },
    {
      "cell_type": "code",
      "source": [
        "fake['label'] = FAKE_CLASS\n",
        "fake.head()"
      ],
      "metadata": {
        "execution": {
          "iopub.status.busy": "2024-06-08T14:36:06.772116Z",
          "iopub.execute_input": "2024-06-08T14:36:06.772416Z",
          "iopub.status.idle": "2024-06-08T14:36:06.783552Z",
          "shell.execute_reply.started": "2024-06-08T14:36:06.772393Z",
          "shell.execute_reply": "2024-06-08T14:36:06.782502Z"
        },
        "trusted": true,
        "colab": {
          "base_uri": "https://localhost:8080/",
          "height": 293
        },
        "id": "r6iAgTaeU_1f",
        "outputId": "634f4432-4576-4d94-bf08-151fbb936e83"
      },
      "execution_count": 9,
      "outputs": [
        {
          "output_type": "execute_result",
          "data": {
            "text/plain": [
              "                                               title  \\\n",
              "0   Donald Trump Sends Out Embarrassing New Year’...   \n",
              "1   Drunk Bragging Trump Staffer Started Russian ...   \n",
              "2   Sheriff David Clarke Becomes An Internet Joke...   \n",
              "3   Trump Is So Obsessed He Even Has Obama’s Name...   \n",
              "4   Pope Francis Just Called Out Donald Trump Dur...   \n",
              "\n",
              "                                                text subject  \\\n",
              "0  Donald Trump just couldn t wish all Americans ...    News   \n",
              "1  House Intelligence Committee Chairman Devin Nu...    News   \n",
              "2  On Friday, it was revealed that former Milwauk...    News   \n",
              "3  On Christmas day, Donald Trump announced that ...    News   \n",
              "4  Pope Francis used his annual Christmas Day mes...    News   \n",
              "\n",
              "                date  label  \n",
              "0  December 31, 2017      1  \n",
              "1  December 31, 2017      1  \n",
              "2  December 30, 2017      1  \n",
              "3  December 29, 2017      1  \n",
              "4  December 25, 2017      1  "
            ],
            "text/html": [
              "\n",
              "  <div id=\"df-72cd3910-28b2-491a-938c-6d43b2078c4d\" class=\"colab-df-container\">\n",
              "    <div>\n",
              "<style scoped>\n",
              "    .dataframe tbody tr th:only-of-type {\n",
              "        vertical-align: middle;\n",
              "    }\n",
              "\n",
              "    .dataframe tbody tr th {\n",
              "        vertical-align: top;\n",
              "    }\n",
              "\n",
              "    .dataframe thead th {\n",
              "        text-align: right;\n",
              "    }\n",
              "</style>\n",
              "<table border=\"1\" class=\"dataframe\">\n",
              "  <thead>\n",
              "    <tr style=\"text-align: right;\">\n",
              "      <th></th>\n",
              "      <th>title</th>\n",
              "      <th>text</th>\n",
              "      <th>subject</th>\n",
              "      <th>date</th>\n",
              "      <th>label</th>\n",
              "    </tr>\n",
              "  </thead>\n",
              "  <tbody>\n",
              "    <tr>\n",
              "      <th>0</th>\n",
              "      <td>Donald Trump Sends Out Embarrassing New Year’...</td>\n",
              "      <td>Donald Trump just couldn t wish all Americans ...</td>\n",
              "      <td>News</td>\n",
              "      <td>December 31, 2017</td>\n",
              "      <td>1</td>\n",
              "    </tr>\n",
              "    <tr>\n",
              "      <th>1</th>\n",
              "      <td>Drunk Bragging Trump Staffer Started Russian ...</td>\n",
              "      <td>House Intelligence Committee Chairman Devin Nu...</td>\n",
              "      <td>News</td>\n",
              "      <td>December 31, 2017</td>\n",
              "      <td>1</td>\n",
              "    </tr>\n",
              "    <tr>\n",
              "      <th>2</th>\n",
              "      <td>Sheriff David Clarke Becomes An Internet Joke...</td>\n",
              "      <td>On Friday, it was revealed that former Milwauk...</td>\n",
              "      <td>News</td>\n",
              "      <td>December 30, 2017</td>\n",
              "      <td>1</td>\n",
              "    </tr>\n",
              "    <tr>\n",
              "      <th>3</th>\n",
              "      <td>Trump Is So Obsessed He Even Has Obama’s Name...</td>\n",
              "      <td>On Christmas day, Donald Trump announced that ...</td>\n",
              "      <td>News</td>\n",
              "      <td>December 29, 2017</td>\n",
              "      <td>1</td>\n",
              "    </tr>\n",
              "    <tr>\n",
              "      <th>4</th>\n",
              "      <td>Pope Francis Just Called Out Donald Trump Dur...</td>\n",
              "      <td>Pope Francis used his annual Christmas Day mes...</td>\n",
              "      <td>News</td>\n",
              "      <td>December 25, 2017</td>\n",
              "      <td>1</td>\n",
              "    </tr>\n",
              "  </tbody>\n",
              "</table>\n",
              "</div>\n",
              "    <div class=\"colab-df-buttons\">\n",
              "\n",
              "  <div class=\"colab-df-container\">\n",
              "    <button class=\"colab-df-convert\" onclick=\"convertToInteractive('df-72cd3910-28b2-491a-938c-6d43b2078c4d')\"\n",
              "            title=\"Convert this dataframe to an interactive table.\"\n",
              "            style=\"display:none;\">\n",
              "\n",
              "  <svg xmlns=\"http://www.w3.org/2000/svg\" height=\"24px\" viewBox=\"0 -960 960 960\">\n",
              "    <path d=\"M120-120v-720h720v720H120Zm60-500h600v-160H180v160Zm220 220h160v-160H400v160Zm0 220h160v-160H400v160ZM180-400h160v-160H180v160Zm440 0h160v-160H620v160ZM180-180h160v-160H180v160Zm440 0h160v-160H620v160Z\"/>\n",
              "  </svg>\n",
              "    </button>\n",
              "\n",
              "  <style>\n",
              "    .colab-df-container {\n",
              "      display:flex;\n",
              "      gap: 12px;\n",
              "    }\n",
              "\n",
              "    .colab-df-convert {\n",
              "      background-color: #E8F0FE;\n",
              "      border: none;\n",
              "      border-radius: 50%;\n",
              "      cursor: pointer;\n",
              "      display: none;\n",
              "      fill: #1967D2;\n",
              "      height: 32px;\n",
              "      padding: 0 0 0 0;\n",
              "      width: 32px;\n",
              "    }\n",
              "\n",
              "    .colab-df-convert:hover {\n",
              "      background-color: #E2EBFA;\n",
              "      box-shadow: 0px 1px 2px rgba(60, 64, 67, 0.3), 0px 1px 3px 1px rgba(60, 64, 67, 0.15);\n",
              "      fill: #174EA6;\n",
              "    }\n",
              "\n",
              "    .colab-df-buttons div {\n",
              "      margin-bottom: 4px;\n",
              "    }\n",
              "\n",
              "    [theme=dark] .colab-df-convert {\n",
              "      background-color: #3B4455;\n",
              "      fill: #D2E3FC;\n",
              "    }\n",
              "\n",
              "    [theme=dark] .colab-df-convert:hover {\n",
              "      background-color: #434B5C;\n",
              "      box-shadow: 0px 1px 3px 1px rgba(0, 0, 0, 0.15);\n",
              "      filter: drop-shadow(0px 1px 2px rgba(0, 0, 0, 0.3));\n",
              "      fill: #FFFFFF;\n",
              "    }\n",
              "  </style>\n",
              "\n",
              "    <script>\n",
              "      const buttonEl =\n",
              "        document.querySelector('#df-72cd3910-28b2-491a-938c-6d43b2078c4d button.colab-df-convert');\n",
              "      buttonEl.style.display =\n",
              "        google.colab.kernel.accessAllowed ? 'block' : 'none';\n",
              "\n",
              "      async function convertToInteractive(key) {\n",
              "        const element = document.querySelector('#df-72cd3910-28b2-491a-938c-6d43b2078c4d');\n",
              "        const dataTable =\n",
              "          await google.colab.kernel.invokeFunction('convertToInteractive',\n",
              "                                                    [key], {});\n",
              "        if (!dataTable) return;\n",
              "\n",
              "        const docLinkHtml = 'Like what you see? Visit the ' +\n",
              "          '<a target=\"_blank\" href=https://colab.research.google.com/notebooks/data_table.ipynb>data table notebook</a>'\n",
              "          + ' to learn more about interactive tables.';\n",
              "        element.innerHTML = '';\n",
              "        dataTable['output_type'] = 'display_data';\n",
              "        await google.colab.output.renderOutput(dataTable, element);\n",
              "        const docLink = document.createElement('div');\n",
              "        docLink.innerHTML = docLinkHtml;\n",
              "        element.appendChild(docLink);\n",
              "      }\n",
              "    </script>\n",
              "  </div>\n",
              "\n",
              "\n",
              "<div id=\"df-2add92c4-52ca-438c-b810-0c0280a6b6f9\">\n",
              "  <button class=\"colab-df-quickchart\" onclick=\"quickchart('df-2add92c4-52ca-438c-b810-0c0280a6b6f9')\"\n",
              "            title=\"Suggest charts\"\n",
              "            style=\"display:none;\">\n",
              "\n",
              "<svg xmlns=\"http://www.w3.org/2000/svg\" height=\"24px\"viewBox=\"0 0 24 24\"\n",
              "     width=\"24px\">\n",
              "    <g>\n",
              "        <path d=\"M19 3H5c-1.1 0-2 .9-2 2v14c0 1.1.9 2 2 2h14c1.1 0 2-.9 2-2V5c0-1.1-.9-2-2-2zM9 17H7v-7h2v7zm4 0h-2V7h2v10zm4 0h-2v-4h2v4z\"/>\n",
              "    </g>\n",
              "</svg>\n",
              "  </button>\n",
              "\n",
              "<style>\n",
              "  .colab-df-quickchart {\n",
              "      --bg-color: #E8F0FE;\n",
              "      --fill-color: #1967D2;\n",
              "      --hover-bg-color: #E2EBFA;\n",
              "      --hover-fill-color: #174EA6;\n",
              "      --disabled-fill-color: #AAA;\n",
              "      --disabled-bg-color: #DDD;\n",
              "  }\n",
              "\n",
              "  [theme=dark] .colab-df-quickchart {\n",
              "      --bg-color: #3B4455;\n",
              "      --fill-color: #D2E3FC;\n",
              "      --hover-bg-color: #434B5C;\n",
              "      --hover-fill-color: #FFFFFF;\n",
              "      --disabled-bg-color: #3B4455;\n",
              "      --disabled-fill-color: #666;\n",
              "  }\n",
              "\n",
              "  .colab-df-quickchart {\n",
              "    background-color: var(--bg-color);\n",
              "    border: none;\n",
              "    border-radius: 50%;\n",
              "    cursor: pointer;\n",
              "    display: none;\n",
              "    fill: var(--fill-color);\n",
              "    height: 32px;\n",
              "    padding: 0;\n",
              "    width: 32px;\n",
              "  }\n",
              "\n",
              "  .colab-df-quickchart:hover {\n",
              "    background-color: var(--hover-bg-color);\n",
              "    box-shadow: 0 1px 2px rgba(60, 64, 67, 0.3), 0 1px 3px 1px rgba(60, 64, 67, 0.15);\n",
              "    fill: var(--button-hover-fill-color);\n",
              "  }\n",
              "\n",
              "  .colab-df-quickchart-complete:disabled,\n",
              "  .colab-df-quickchart-complete:disabled:hover {\n",
              "    background-color: var(--disabled-bg-color);\n",
              "    fill: var(--disabled-fill-color);\n",
              "    box-shadow: none;\n",
              "  }\n",
              "\n",
              "  .colab-df-spinner {\n",
              "    border: 2px solid var(--fill-color);\n",
              "    border-color: transparent;\n",
              "    border-bottom-color: var(--fill-color);\n",
              "    animation:\n",
              "      spin 1s steps(1) infinite;\n",
              "  }\n",
              "\n",
              "  @keyframes spin {\n",
              "    0% {\n",
              "      border-color: transparent;\n",
              "      border-bottom-color: var(--fill-color);\n",
              "      border-left-color: var(--fill-color);\n",
              "    }\n",
              "    20% {\n",
              "      border-color: transparent;\n",
              "      border-left-color: var(--fill-color);\n",
              "      border-top-color: var(--fill-color);\n",
              "    }\n",
              "    30% {\n",
              "      border-color: transparent;\n",
              "      border-left-color: var(--fill-color);\n",
              "      border-top-color: var(--fill-color);\n",
              "      border-right-color: var(--fill-color);\n",
              "    }\n",
              "    40% {\n",
              "      border-color: transparent;\n",
              "      border-right-color: var(--fill-color);\n",
              "      border-top-color: var(--fill-color);\n",
              "    }\n",
              "    60% {\n",
              "      border-color: transparent;\n",
              "      border-right-color: var(--fill-color);\n",
              "    }\n",
              "    80% {\n",
              "      border-color: transparent;\n",
              "      border-right-color: var(--fill-color);\n",
              "      border-bottom-color: var(--fill-color);\n",
              "    }\n",
              "    90% {\n",
              "      border-color: transparent;\n",
              "      border-bottom-color: var(--fill-color);\n",
              "    }\n",
              "  }\n",
              "</style>\n",
              "\n",
              "  <script>\n",
              "    async function quickchart(key) {\n",
              "      const quickchartButtonEl =\n",
              "        document.querySelector('#' + key + ' button');\n",
              "      quickchartButtonEl.disabled = true;  // To prevent multiple clicks.\n",
              "      quickchartButtonEl.classList.add('colab-df-spinner');\n",
              "      try {\n",
              "        const charts = await google.colab.kernel.invokeFunction(\n",
              "            'suggestCharts', [key], {});\n",
              "      } catch (error) {\n",
              "        console.error('Error during call to suggestCharts:', error);\n",
              "      }\n",
              "      quickchartButtonEl.classList.remove('colab-df-spinner');\n",
              "      quickchartButtonEl.classList.add('colab-df-quickchart-complete');\n",
              "    }\n",
              "    (() => {\n",
              "      let quickchartButtonEl =\n",
              "        document.querySelector('#df-2add92c4-52ca-438c-b810-0c0280a6b6f9 button');\n",
              "      quickchartButtonEl.style.display =\n",
              "        google.colab.kernel.accessAllowed ? 'block' : 'none';\n",
              "    })();\n",
              "  </script>\n",
              "</div>\n",
              "    </div>\n",
              "  </div>\n"
            ],
            "application/vnd.google.colaboratory.intrinsic+json": {
              "type": "dataframe",
              "variable_name": "fake",
              "summary": "{\n  \"name\": \"fake\",\n  \"rows\": 23481,\n  \"fields\": [\n    {\n      \"column\": \"title\",\n      \"properties\": {\n        \"dtype\": \"string\",\n        \"num_unique_values\": 17903,\n        \"samples\": [\n          \" Fox News Mocked Into Oblivion After This F*cking STUPID Attempt To Make Steve Bannon Look Sane (TWEETS)\",\n          \"BREAKING: FL GOV RICK SCOTT Calls for FBI Director to Resign\",\n          \" WATCH: Mike Pence\\u2019s Photo Op With Puerto Rico Survivors Just Went TERRIBLY Wrong (VIDEO)\"\n        ],\n        \"semantic_type\": \"\",\n        \"description\": \"\"\n      }\n    },\n    {\n      \"column\": \"text\",\n      \"properties\": {\n        \"dtype\": \"string\",\n        \"num_unique_values\": 17455,\n        \"samples\": [\n          \"The moral decay continues The Kapiolani Medical Center for Women and Children at the University of Hawaii is currently recruiting pregnant girls and women to participate in second-trimester abortions to measure their bleeding during the operation, with and without antihemorrhagic drugs. According to the Clinical Trials website, run by the National Institutes of Health, participants must be at least 14 years old and 18-24 weeks pregnant.The controversial study, led by Bliss Kaneshiro, MD and Kate Whitehouse, DO, will monitor bleeding during D&E abortions to determine the effects of the drug oxytocin, commonly used to minimize blood loss and decrease the risk of hemorrhage.The clinical trial, called  Effects of Oxytocin on Bleeding Outcomes during Dilation and Evacuation  began in October 2014 and is a collaboration between UH, Society of Family Planning and the University of Washington.The Society of Family Planning funds a number of similar research projects, such as experimenting with the dosage of Misoprostol, a uterine contracting agent, prior to surgical abortions at 13-18 weeks and exploring umbilical cord injections to produce fetal death prior to late-term abortions.In the UH study, researchers will carry out a  randomized, double-blinded, placebo-controlled trials,  to determine the effect of oxytocin s use on uterine bleeding, meaning that they will either provide or deny intravenous oxytocin to the women.Reports suggest that some doctors are concerned that withholding oxytocin during surgery may put patients, especially teen girls, at risk. This study is reminiscent of Nazi concentration camp experiments. I pity the poor women who are being treated like lab rats, especially those who are denied the drug to reduce hemorrhaging,  said Troy Newman, President of Operation Rescue.Dilation and evacuation abortions are surgical procedures that involve dismembering the pre-born baby with forceps, scraping the inside of the uterus with a curette to remove any residuals and finally suctioning out the womb to make sure the contents are completely removed.After the abortion, the corpse of the fetus is reassembled and examined to ensure everything was successfully removed and that the abortion was complete.The study is hoping to attract up to 166 test subjects and is expected to conclude in July 2015.Via: Breitbart News\",\n          \"CNN was quick to scoop up Corey Lewandowski after Donald Trump kicked him out of his role as campaign manager, but his first week on the job is going pretty much exactly how you would expect it to go   terribly.Not only has Lewandowski proven himself to be pretty much like a paid spokesman for Trump, but his defense of the disgraced GOP candidate isn t being received well. Earlier this week, Lewandowski revealed that he was under contract and couldn t criticize The Donald, even after being fired from the campaign. Today, Lewandowski got called out by Hillary Clinton surrogate Christine Quinn for hyping Trump up to be an expert on the Brexit decision   a suggestion that was clearly false.On Monday s edition of CNN s New Day, Lewandowski made another pathetic defense of Trump by trying to reframe the candidate s disgusting reaction to Brexit, where he mostly spoke about how much the decision would be good for his Scotland golf resort. Lewandowski s defense was: Obviously the U.S. dollar has become much stronger now against the British pound. If you re going to spend money in Europe, now would actually be a good time to go with the fall of the pound.What you have is a world view, so what you have is someone who is saying,  Let s look at this from the U.S. perspective. If you want to go and travel overseas   just from a monetary perspective   now is the right time to do that because what you re getting is more for your dollar. Quinn wasn t having it. She ripped into Lewandowski, firing back, Donald Trump is not running to be travel agent of the world, he s running to be president of the United States.  She continued: What he said wasn t a commentary on international markets, it was,  When the pound goes down, more people will come to my golf course. Donald Trump s main concern isn t the international markets, it isn t the impact that Brexit will have on hard working Americans  401Ks, it s himself. How can he make more money, how can he put more money in his bank account? Lewandowski compared the Brexit decision to Trump s rise in the GOP, and Quinn once again called him out and put him back in his place. She said: Trump touted that he saw this coming. That s ridiculous because when he was first asked about Brexit by the press, he didn t appear to know what it was. Lewandowski tried to counter by insisting that People are too smart, they are tired of being told what to do.  He then tried to commend Trump for being a selfish moron: You know what Donald Trump said about Brexit? What he said was, you don t have to listen to me because it s not my decision. He didn t weigh in like Hillary Clinton did, like Barack Obama did, saying that you can t do this. Quinn fought back, Because he didn t know what it was. Lewandowski was fighting a losing battle. Trump s reaction to Brexit was just as terrifying as it was humorous   it truly proved that Trump knows nothing about foreign affairs, and hasn t spent any time educating himself since the beginning of his presidential candidacy. If only some of the hours he spent getting into fights on Twitter were being used for learning about how the world works. But instead, he once again exposed himself as an unfit choice for President. And when people like Lewandowski try to make sense of his idiocy, they only make themselves look equally foolish.You can watch the embarrassing video below:Featured image via screen capture\",\n          \"A Michigan woman decided to defend against tyranny? when she and another shopper couldn t agree over who got to buy the last notebook on the shelf at the Novi Towne Center store.According to ABC 13, the brawl   yes, brawl    involved two Farmington Hills residents, ages 46 and 32, and a mother and daughter from South Lyon, ages 51 and 20. In other words, these were all grown adults who should have known better but hey   there was only one notebook on the shelf, and we ve all seen what happens in those post-apocalyptic movies when a store is down to the last gallon of milk, right?Two of the women, one of whom was the unnamed 20-year-old, reached for the notebook at the same time. The 46 and 32-year-olds apparently decided that she wasn t getting their goddamn notebook and began pulling her hair.Then, because this had almost hit peak  trailer park,  the 20-year-old s mother decided to go for bonus points by pulling out her gun. Fortunately, someone pushed her aside before she could do any harm.This is one of the NRA s  responsible gun owners  (conservatives can t dismiss this one, as it is confirmed that she is a concealed carry permit holder)   ready to leap into action at the most minor sign of danger and make things worse by turning the situation potentially deadly.Watch it happen below:Featured image via screengrab\"\n        ],\n        \"semantic_type\": \"\",\n        \"description\": \"\"\n      }\n    },\n    {\n      \"column\": \"subject\",\n      \"properties\": {\n        \"dtype\": \"category\",\n        \"num_unique_values\": 6,\n        \"samples\": [\n          \"News\",\n          \"politics\",\n          \"Middle-east\"\n        ],\n        \"semantic_type\": \"\",\n        \"description\": \"\"\n      }\n    },\n    {\n      \"column\": \"date\",\n      \"properties\": {\n        \"dtype\": \"category\",\n        \"num_unique_values\": 1681,\n        \"samples\": [\n          \"Jun 5, 2015\",\n          \"August 28, 2016\",\n          \"June 3, 2017\"\n        ],\n        \"semantic_type\": \"\",\n        \"description\": \"\"\n      }\n    },\n    {\n      \"column\": \"label\",\n      \"properties\": {\n        \"dtype\": \"number\",\n        \"std\": 0,\n        \"min\": 1,\n        \"max\": 1,\n        \"num_unique_values\": 1,\n        \"samples\": [\n          1\n        ],\n        \"semantic_type\": \"\",\n        \"description\": \"\"\n      }\n    }\n  ]\n}"
            }
          },
          "metadata": {},
          "execution_count": 9
        }
      ]
    },
    {
      "cell_type": "code",
      "source": [
        "fake = fake[:2000]\n",
        "real = real[:2000]"
      ],
      "metadata": {
        "execution": {
          "iopub.status.busy": "2024-06-08T14:36:06.784683Z",
          "iopub.execute_input": "2024-06-08T14:36:06.785003Z",
          "iopub.status.idle": "2024-06-08T14:36:06.793169Z",
          "shell.execute_reply.started": "2024-06-08T14:36:06.784972Z",
          "shell.execute_reply": "2024-06-08T14:36:06.792317Z"
        },
        "trusted": true,
        "id": "Y2Uq1ASUU_1g"
      },
      "execution_count": 10,
      "outputs": []
    },
    {
      "cell_type": "markdown",
      "source": [
        "# **Concatenate Two DataFrames**"
      ],
      "metadata": {
        "id": "w9hq3y8SU_1h"
      }
    },
    {
      "cell_type": "code",
      "source": [
        "# Concatenate the DataFrames along the rows (axis=0)\n",
        "df = pd.concat([real, fake], ignore_index=True)\n",
        "df.head()"
      ],
      "metadata": {
        "execution": {
          "iopub.status.busy": "2024-06-08T14:36:06.803623Z",
          "iopub.execute_input": "2024-06-08T14:36:06.803896Z",
          "iopub.status.idle": "2024-06-08T14:36:06.820822Z",
          "shell.execute_reply.started": "2024-06-08T14:36:06.803874Z",
          "shell.execute_reply": "2024-06-08T14:36:06.820047Z"
        },
        "trusted": true,
        "colab": {
          "base_uri": "https://localhost:8080/",
          "height": 293
        },
        "id": "Od4aQ012U_1h",
        "outputId": "becebec0-fbdd-4610-d613-f8dd48636d4c"
      },
      "execution_count": 11,
      "outputs": [
        {
          "output_type": "execute_result",
          "data": {
            "text/plain": [
              "                                               title  \\\n",
              "0  As U.S. budget fight looms, Republicans flip t...   \n",
              "1  U.S. military to accept transgender recruits o...   \n",
              "2  Senior U.S. Republican senator: 'Let Mr. Muell...   \n",
              "3  FBI Russia probe helped by Australian diplomat...   \n",
              "4  Trump wants Postal Service to charge 'much mor...   \n",
              "\n",
              "                                                text       subject  \\\n",
              "0  WASHINGTON (Reuters) - The head of a conservat...  politicsNews   \n",
              "1  WASHINGTON (Reuters) - Transgender people will...  politicsNews   \n",
              "2  WASHINGTON (Reuters) - The special counsel inv...  politicsNews   \n",
              "3  WASHINGTON (Reuters) - Trump campaign adviser ...  politicsNews   \n",
              "4  SEATTLE/WASHINGTON (Reuters) - President Donal...  politicsNews   \n",
              "\n",
              "                 date  label  \n",
              "0  December 31, 2017       0  \n",
              "1  December 29, 2017       0  \n",
              "2  December 31, 2017       0  \n",
              "3  December 30, 2017       0  \n",
              "4  December 29, 2017       0  "
            ],
            "text/html": [
              "\n",
              "  <div id=\"df-31dd6274-0878-4211-9726-d2db99f7f454\" class=\"colab-df-container\">\n",
              "    <div>\n",
              "<style scoped>\n",
              "    .dataframe tbody tr th:only-of-type {\n",
              "        vertical-align: middle;\n",
              "    }\n",
              "\n",
              "    .dataframe tbody tr th {\n",
              "        vertical-align: top;\n",
              "    }\n",
              "\n",
              "    .dataframe thead th {\n",
              "        text-align: right;\n",
              "    }\n",
              "</style>\n",
              "<table border=\"1\" class=\"dataframe\">\n",
              "  <thead>\n",
              "    <tr style=\"text-align: right;\">\n",
              "      <th></th>\n",
              "      <th>title</th>\n",
              "      <th>text</th>\n",
              "      <th>subject</th>\n",
              "      <th>date</th>\n",
              "      <th>label</th>\n",
              "    </tr>\n",
              "  </thead>\n",
              "  <tbody>\n",
              "    <tr>\n",
              "      <th>0</th>\n",
              "      <td>As U.S. budget fight looms, Republicans flip t...</td>\n",
              "      <td>WASHINGTON (Reuters) - The head of a conservat...</td>\n",
              "      <td>politicsNews</td>\n",
              "      <td>December 31, 2017</td>\n",
              "      <td>0</td>\n",
              "    </tr>\n",
              "    <tr>\n",
              "      <th>1</th>\n",
              "      <td>U.S. military to accept transgender recruits o...</td>\n",
              "      <td>WASHINGTON (Reuters) - Transgender people will...</td>\n",
              "      <td>politicsNews</td>\n",
              "      <td>December 29, 2017</td>\n",
              "      <td>0</td>\n",
              "    </tr>\n",
              "    <tr>\n",
              "      <th>2</th>\n",
              "      <td>Senior U.S. Republican senator: 'Let Mr. Muell...</td>\n",
              "      <td>WASHINGTON (Reuters) - The special counsel inv...</td>\n",
              "      <td>politicsNews</td>\n",
              "      <td>December 31, 2017</td>\n",
              "      <td>0</td>\n",
              "    </tr>\n",
              "    <tr>\n",
              "      <th>3</th>\n",
              "      <td>FBI Russia probe helped by Australian diplomat...</td>\n",
              "      <td>WASHINGTON (Reuters) - Trump campaign adviser ...</td>\n",
              "      <td>politicsNews</td>\n",
              "      <td>December 30, 2017</td>\n",
              "      <td>0</td>\n",
              "    </tr>\n",
              "    <tr>\n",
              "      <th>4</th>\n",
              "      <td>Trump wants Postal Service to charge 'much mor...</td>\n",
              "      <td>SEATTLE/WASHINGTON (Reuters) - President Donal...</td>\n",
              "      <td>politicsNews</td>\n",
              "      <td>December 29, 2017</td>\n",
              "      <td>0</td>\n",
              "    </tr>\n",
              "  </tbody>\n",
              "</table>\n",
              "</div>\n",
              "    <div class=\"colab-df-buttons\">\n",
              "\n",
              "  <div class=\"colab-df-container\">\n",
              "    <button class=\"colab-df-convert\" onclick=\"convertToInteractive('df-31dd6274-0878-4211-9726-d2db99f7f454')\"\n",
              "            title=\"Convert this dataframe to an interactive table.\"\n",
              "            style=\"display:none;\">\n",
              "\n",
              "  <svg xmlns=\"http://www.w3.org/2000/svg\" height=\"24px\" viewBox=\"0 -960 960 960\">\n",
              "    <path d=\"M120-120v-720h720v720H120Zm60-500h600v-160H180v160Zm220 220h160v-160H400v160Zm0 220h160v-160H400v160ZM180-400h160v-160H180v160Zm440 0h160v-160H620v160ZM180-180h160v-160H180v160Zm440 0h160v-160H620v160Z\"/>\n",
              "  </svg>\n",
              "    </button>\n",
              "\n",
              "  <style>\n",
              "    .colab-df-container {\n",
              "      display:flex;\n",
              "      gap: 12px;\n",
              "    }\n",
              "\n",
              "    .colab-df-convert {\n",
              "      background-color: #E8F0FE;\n",
              "      border: none;\n",
              "      border-radius: 50%;\n",
              "      cursor: pointer;\n",
              "      display: none;\n",
              "      fill: #1967D2;\n",
              "      height: 32px;\n",
              "      padding: 0 0 0 0;\n",
              "      width: 32px;\n",
              "    }\n",
              "\n",
              "    .colab-df-convert:hover {\n",
              "      background-color: #E2EBFA;\n",
              "      box-shadow: 0px 1px 2px rgba(60, 64, 67, 0.3), 0px 1px 3px 1px rgba(60, 64, 67, 0.15);\n",
              "      fill: #174EA6;\n",
              "    }\n",
              "\n",
              "    .colab-df-buttons div {\n",
              "      margin-bottom: 4px;\n",
              "    }\n",
              "\n",
              "    [theme=dark] .colab-df-convert {\n",
              "      background-color: #3B4455;\n",
              "      fill: #D2E3FC;\n",
              "    }\n",
              "\n",
              "    [theme=dark] .colab-df-convert:hover {\n",
              "      background-color: #434B5C;\n",
              "      box-shadow: 0px 1px 3px 1px rgba(0, 0, 0, 0.15);\n",
              "      filter: drop-shadow(0px 1px 2px rgba(0, 0, 0, 0.3));\n",
              "      fill: #FFFFFF;\n",
              "    }\n",
              "  </style>\n",
              "\n",
              "    <script>\n",
              "      const buttonEl =\n",
              "        document.querySelector('#df-31dd6274-0878-4211-9726-d2db99f7f454 button.colab-df-convert');\n",
              "      buttonEl.style.display =\n",
              "        google.colab.kernel.accessAllowed ? 'block' : 'none';\n",
              "\n",
              "      async function convertToInteractive(key) {\n",
              "        const element = document.querySelector('#df-31dd6274-0878-4211-9726-d2db99f7f454');\n",
              "        const dataTable =\n",
              "          await google.colab.kernel.invokeFunction('convertToInteractive',\n",
              "                                                    [key], {});\n",
              "        if (!dataTable) return;\n",
              "\n",
              "        const docLinkHtml = 'Like what you see? Visit the ' +\n",
              "          '<a target=\"_blank\" href=https://colab.research.google.com/notebooks/data_table.ipynb>data table notebook</a>'\n",
              "          + ' to learn more about interactive tables.';\n",
              "        element.innerHTML = '';\n",
              "        dataTable['output_type'] = 'display_data';\n",
              "        await google.colab.output.renderOutput(dataTable, element);\n",
              "        const docLink = document.createElement('div');\n",
              "        docLink.innerHTML = docLinkHtml;\n",
              "        element.appendChild(docLink);\n",
              "      }\n",
              "    </script>\n",
              "  </div>\n",
              "\n",
              "\n",
              "<div id=\"df-3f11f880-8aee-42ce-a10b-1c5b01cbef05\">\n",
              "  <button class=\"colab-df-quickchart\" onclick=\"quickchart('df-3f11f880-8aee-42ce-a10b-1c5b01cbef05')\"\n",
              "            title=\"Suggest charts\"\n",
              "            style=\"display:none;\">\n",
              "\n",
              "<svg xmlns=\"http://www.w3.org/2000/svg\" height=\"24px\"viewBox=\"0 0 24 24\"\n",
              "     width=\"24px\">\n",
              "    <g>\n",
              "        <path d=\"M19 3H5c-1.1 0-2 .9-2 2v14c0 1.1.9 2 2 2h14c1.1 0 2-.9 2-2V5c0-1.1-.9-2-2-2zM9 17H7v-7h2v7zm4 0h-2V7h2v10zm4 0h-2v-4h2v4z\"/>\n",
              "    </g>\n",
              "</svg>\n",
              "  </button>\n",
              "\n",
              "<style>\n",
              "  .colab-df-quickchart {\n",
              "      --bg-color: #E8F0FE;\n",
              "      --fill-color: #1967D2;\n",
              "      --hover-bg-color: #E2EBFA;\n",
              "      --hover-fill-color: #174EA6;\n",
              "      --disabled-fill-color: #AAA;\n",
              "      --disabled-bg-color: #DDD;\n",
              "  }\n",
              "\n",
              "  [theme=dark] .colab-df-quickchart {\n",
              "      --bg-color: #3B4455;\n",
              "      --fill-color: #D2E3FC;\n",
              "      --hover-bg-color: #434B5C;\n",
              "      --hover-fill-color: #FFFFFF;\n",
              "      --disabled-bg-color: #3B4455;\n",
              "      --disabled-fill-color: #666;\n",
              "  }\n",
              "\n",
              "  .colab-df-quickchart {\n",
              "    background-color: var(--bg-color);\n",
              "    border: none;\n",
              "    border-radius: 50%;\n",
              "    cursor: pointer;\n",
              "    display: none;\n",
              "    fill: var(--fill-color);\n",
              "    height: 32px;\n",
              "    padding: 0;\n",
              "    width: 32px;\n",
              "  }\n",
              "\n",
              "  .colab-df-quickchart:hover {\n",
              "    background-color: var(--hover-bg-color);\n",
              "    box-shadow: 0 1px 2px rgba(60, 64, 67, 0.3), 0 1px 3px 1px rgba(60, 64, 67, 0.15);\n",
              "    fill: var(--button-hover-fill-color);\n",
              "  }\n",
              "\n",
              "  .colab-df-quickchart-complete:disabled,\n",
              "  .colab-df-quickchart-complete:disabled:hover {\n",
              "    background-color: var(--disabled-bg-color);\n",
              "    fill: var(--disabled-fill-color);\n",
              "    box-shadow: none;\n",
              "  }\n",
              "\n",
              "  .colab-df-spinner {\n",
              "    border: 2px solid var(--fill-color);\n",
              "    border-color: transparent;\n",
              "    border-bottom-color: var(--fill-color);\n",
              "    animation:\n",
              "      spin 1s steps(1) infinite;\n",
              "  }\n",
              "\n",
              "  @keyframes spin {\n",
              "    0% {\n",
              "      border-color: transparent;\n",
              "      border-bottom-color: var(--fill-color);\n",
              "      border-left-color: var(--fill-color);\n",
              "    }\n",
              "    20% {\n",
              "      border-color: transparent;\n",
              "      border-left-color: var(--fill-color);\n",
              "      border-top-color: var(--fill-color);\n",
              "    }\n",
              "    30% {\n",
              "      border-color: transparent;\n",
              "      border-left-color: var(--fill-color);\n",
              "      border-top-color: var(--fill-color);\n",
              "      border-right-color: var(--fill-color);\n",
              "    }\n",
              "    40% {\n",
              "      border-color: transparent;\n",
              "      border-right-color: var(--fill-color);\n",
              "      border-top-color: var(--fill-color);\n",
              "    }\n",
              "    60% {\n",
              "      border-color: transparent;\n",
              "      border-right-color: var(--fill-color);\n",
              "    }\n",
              "    80% {\n",
              "      border-color: transparent;\n",
              "      border-right-color: var(--fill-color);\n",
              "      border-bottom-color: var(--fill-color);\n",
              "    }\n",
              "    90% {\n",
              "      border-color: transparent;\n",
              "      border-bottom-color: var(--fill-color);\n",
              "    }\n",
              "  }\n",
              "</style>\n",
              "\n",
              "  <script>\n",
              "    async function quickchart(key) {\n",
              "      const quickchartButtonEl =\n",
              "        document.querySelector('#' + key + ' button');\n",
              "      quickchartButtonEl.disabled = true;  // To prevent multiple clicks.\n",
              "      quickchartButtonEl.classList.add('colab-df-spinner');\n",
              "      try {\n",
              "        const charts = await google.colab.kernel.invokeFunction(\n",
              "            'suggestCharts', [key], {});\n",
              "      } catch (error) {\n",
              "        console.error('Error during call to suggestCharts:', error);\n",
              "      }\n",
              "      quickchartButtonEl.classList.remove('colab-df-spinner');\n",
              "      quickchartButtonEl.classList.add('colab-df-quickchart-complete');\n",
              "    }\n",
              "    (() => {\n",
              "      let quickchartButtonEl =\n",
              "        document.querySelector('#df-3f11f880-8aee-42ce-a10b-1c5b01cbef05 button');\n",
              "      quickchartButtonEl.style.display =\n",
              "        google.colab.kernel.accessAllowed ? 'block' : 'none';\n",
              "    })();\n",
              "  </script>\n",
              "</div>\n",
              "    </div>\n",
              "  </div>\n"
            ],
            "application/vnd.google.colaboratory.intrinsic+json": {
              "type": "dataframe",
              "variable_name": "df",
              "summary": "{\n  \"name\": \"df\",\n  \"rows\": 4000,\n  \"fields\": [\n    {\n      \"column\": \"title\",\n      \"properties\": {\n        \"dtype\": \"string\",\n        \"num_unique_values\": 3987,\n        \"samples\": [\n          \" Golden State Warriors Coach Just WRECKED Trump After Attack On One Of His Players\",\n          \" GOP Senator Has Had ENOUGH: Firing Mueller Could End Trump Presidency (VIDEO)\",\n          \"U.S. hikes tensions in NAFTA talks with call for 'sunset clause'\"\n        ],\n        \"semantic_type\": \"\",\n        \"description\": \"\"\n      }\n    },\n    {\n      \"column\": \"text\",\n      \"properties\": {\n        \"dtype\": \"string\",\n        \"num_unique_values\": 3987,\n        \"samples\": [\n          \"Donald Trump is clearly violating the free speech rights of NFL players, and his weaselly Treasury Secretary supports it.As we all know, Trump has been waging a war against the NFL since calling quarterback Colin Kaepernick a  son of a bitch  on Friday night and demanding that NFL team owners fire players who kneel during the national anthem. On Saturday night, and into Sunday morning, Trump lashed out at the NFL in a tirade that made it clear that Trump opposes free speech and the Constitution that protects it.If a player wants the privilege of making millions of dollars in the NFL,or other leagues, he or she should not be allowed to disrespect .  Donald J. Trump (@realDonaldTrump) September 23, 2017 our Great American Flag (or Country) and should stand for the National Anthem. If not, YOU RE FIRED. Find something else to do!  Donald J. Trump (@realDonaldTrump) September 23, 2017Roger Goodell of NFL just put out a statement trying to justify the total disrespect certain players show to our country.Tell them to stand!  Donald J. Trump (@realDonaldTrump) September 23, 2017If NFL fans refuse to go to games until players stop disrespecting our Flag & Country, you will see change take place fast. Fire or suspend!  Donald J. Trump (@realDonaldTrump) September 24, 2017 NFL attendance and ratings are WAY DOWN. Boring games yes, but many stay away because they love our country. League should back U.S.  Donald J. Trump (@realDonaldTrump) September 24, 2017That s right. Trump accused an American business of being anti-American for not firing players who kneel during the anthem in protest of police brutality and racial injustice. In short, Trump ordered the NFL to fire players who exercise their freedom of speech and expression. That means the government is now actively trying to force private institutions to silence and punish free speech.And Treasury Secretary Steve Mnuchin agreed with what Trump is doing, and even went full hypocrite by defending Trump s vile language. The owners should have a rule that players should have to stand and have respect for the national anthem,  Mnuchin told ABC host Martha Raddatz.  This isn t about Democrats, this isn t about Republicans, it s not about race, it s not about free speech. They can do free speech on their own time. The Constitution protects freedom of speech. This is something that Mnuchin clearly does not understand, which should automatically disqualify him from being in government.When asked about Trump s language, Mnuchin argued that  the president can use whatever language he wants to use.  In other words, white racists like Trump have freedom of speech, but black NFL players do not.Mnuchin then butchered the First Amendment even further by claiming that NFL players only  have the right to have the First Amendment off the field.  And that s complete bullshit. Clearly, Mnuchin failed basic civics in school.Here s the video via YouTube.The government, including the president, can t order a business to violate the free speech rights of their employees. Donald Trump owes an apology to the players whom he offended with his outrageously divisive remarks. No one can be forced to stand for the national anthem, just as no child can be forced to stand and recite the Pledge of Allegiance. It s unconstitutional.Featured image via video screen capture \",\n          \"After a fierce backlash following Donald Trump s appalling speech in front of the Boy Scouts in West Virginia, an official with the organization was forced to apologize for the former reality show star s wildly inappropriate  political rhetoric.  Initially, the BSA issued a statement but Trump s speech was not addressed.On Thursday, since Trump could not find it in himself to apologize for being highly inappropriate, an official with the Boy Scouts of America apologized in a message posted online to the scouting community for the political content of his speech at the National Scout Jamboree. I want to extend my sincere apologies to those in our Scouting family who were offended by the political rhetoric that was inserted into the jamboree. That was never our intent,  Michael Surbaugh, Chief Scout Executive, wrote.Trump s speech was so awful that a former CIA chief said  it was like watching a dictator  and said it  gave him the creeps.  The amateur president even prompted the crowd of children to boo former president Barack Obama. The event was supposed to be about the Boy Scouts but as usual, Trump s intense jealousy of his predecessor was on full display.Surbaugh said  we know the past few days have been overshadowed by the remarks offered by the President of the United States  and that s putting it mildly.Trump took to the podium, not to congratulate the children, but to slam the  fake news  media. He promoted the repeal of the Affordable Care Act and boasted about his electoral night victory and called out the Washington  cesspool. Who the Hell wants to speak about politics when I m in front of the Boy Scouts,  he said, then kept talking about politics, among other inappropriate things like a New York cocktail party.  The hottest people in New York were at this party,  he told the children.The organization s Facebook page is inundated with comments from upset parents ready to yank their sons out of the organization. It s not a Democrat vs. Republican sort of thing. It s about decency.Image via screen capture. \",\n          \"WASHINGTON (Reuters) - Representatives of Facebook, Twitter and Google have been asked to appear on Nov. 1 at hearings on alleged Russian interference in U.S. politics called by the U.S. Senate and House Intelligence Committees, officials said. Facebook and Twitter have already agreed to send representatives to the Senate committee hearing, a Congressional official said.  An official knowledgeable about House committee plans declined to disclosed whether the companies have agreed to send representatives to its hearing. Sources said that Google had not yet notified the committees that it would send representatives to the hearings, though ultimately the company was likely to do so.  \"\n        ],\n        \"semantic_type\": \"\",\n        \"description\": \"\"\n      }\n    },\n    {\n      \"column\": \"subject\",\n      \"properties\": {\n        \"dtype\": \"category\",\n        \"num_unique_values\": 2,\n        \"samples\": [\n          \"News\",\n          \"politicsNews\"\n        ],\n        \"semantic_type\": \"\",\n        \"description\": \"\"\n      }\n    },\n    {\n      \"column\": \"date\",\n      \"properties\": {\n        \"dtype\": \"category\",\n        \"num_unique_values\": 401,\n        \"samples\": [\n          \"July 18, 2017\",\n          \"July 22, 2017\"\n        ],\n        \"semantic_type\": \"\",\n        \"description\": \"\"\n      }\n    },\n    {\n      \"column\": \"label\",\n      \"properties\": {\n        \"dtype\": \"number\",\n        \"std\": 0,\n        \"min\": 0,\n        \"max\": 1,\n        \"num_unique_values\": 2,\n        \"samples\": [\n          1,\n          0\n        ],\n        \"semantic_type\": \"\",\n        \"description\": \"\"\n      }\n    }\n  ]\n}"
            }
          },
          "metadata": {},
          "execution_count": 11
        }
      ]
    },
    {
      "cell_type": "code",
      "source": [
        "df=df.dropna()"
      ],
      "metadata": {
        "execution": {
          "iopub.status.busy": "2024-06-08T14:36:06.821751Z",
          "iopub.execute_input": "2024-06-08T14:36:06.822044Z",
          "iopub.status.idle": "2024-06-08T14:36:06.834906Z",
          "shell.execute_reply.started": "2024-06-08T14:36:06.822019Z",
          "shell.execute_reply": "2024-06-08T14:36:06.834015Z"
        },
        "trusted": true,
        "id": "O8bmpgRlU_1h"
      },
      "execution_count": 12,
      "outputs": []
    },
    {
      "cell_type": "code",
      "source": [
        "df.shape"
      ],
      "metadata": {
        "execution": {
          "iopub.status.busy": "2024-06-08T14:36:06.836072Z",
          "iopub.execute_input": "2024-06-08T14:36:06.836370Z",
          "iopub.status.idle": "2024-06-08T14:36:06.844248Z",
          "shell.execute_reply.started": "2024-06-08T14:36:06.836347Z",
          "shell.execute_reply": "2024-06-08T14:36:06.843444Z"
        },
        "trusted": true,
        "colab": {
          "base_uri": "https://localhost:8080/"
        },
        "id": "MQxtLLjIU_1h",
        "outputId": "61c30a3e-489a-48f8-8dfa-6862db11e344"
      },
      "execution_count": 13,
      "outputs": [
        {
          "output_type": "execute_result",
          "data": {
            "text/plain": [
              "(4000, 5)"
            ]
          },
          "metadata": {},
          "execution_count": 13
        }
      ]
    },
    {
      "cell_type": "code",
      "source": [
        "df.info()"
      ],
      "metadata": {
        "execution": {
          "iopub.status.busy": "2024-06-08T14:36:06.845623Z",
          "iopub.execute_input": "2024-06-08T14:36:06.845861Z",
          "iopub.status.idle": "2024-06-08T14:36:06.869090Z",
          "shell.execute_reply.started": "2024-06-08T14:36:06.845841Z",
          "shell.execute_reply": "2024-06-08T14:36:06.868258Z"
        },
        "trusted": true,
        "colab": {
          "base_uri": "https://localhost:8080/"
        },
        "id": "huUdlh8YU_1i",
        "outputId": "4e2820aa-8ae8-44af-fb18-2439b0b3ba7b"
      },
      "execution_count": 14,
      "outputs": [
        {
          "output_type": "stream",
          "name": "stdout",
          "text": [
            "<class 'pandas.core.frame.DataFrame'>\n",
            "RangeIndex: 4000 entries, 0 to 3999\n",
            "Data columns (total 5 columns):\n",
            " #   Column   Non-Null Count  Dtype \n",
            "---  ------   --------------  ----- \n",
            " 0   title    4000 non-null   object\n",
            " 1   text     4000 non-null   object\n",
            " 2   subject  4000 non-null   object\n",
            " 3   date     4000 non-null   object\n",
            " 4   label    4000 non-null   int64 \n",
            "dtypes: int64(1), object(4)\n",
            "memory usage: 156.4+ KB\n"
          ]
        }
      ]
    },
    {
      "cell_type": "code",
      "source": [
        "df['label'].value_counts()"
      ],
      "metadata": {
        "execution": {
          "iopub.status.busy": "2024-06-08T14:36:06.874506Z",
          "iopub.execute_input": "2024-06-08T14:36:06.874831Z",
          "iopub.status.idle": "2024-06-08T14:36:06.882797Z",
          "shell.execute_reply.started": "2024-06-08T14:36:06.874808Z",
          "shell.execute_reply": "2024-06-08T14:36:06.881889Z"
        },
        "trusted": true,
        "colab": {
          "base_uri": "https://localhost:8080/"
        },
        "id": "DZHsE7LJU_1i",
        "outputId": "366cd784-8a8d-4f09-f776-118b87076a76"
      },
      "execution_count": 15,
      "outputs": [
        {
          "output_type": "execute_result",
          "data": {
            "text/plain": [
              "label\n",
              "0    2000\n",
              "1    2000\n",
              "Name: count, dtype: int64"
            ]
          },
          "metadata": {},
          "execution_count": 15
        }
      ]
    },
    {
      "cell_type": "markdown",
      "source": [
        "# **Model**"
      ],
      "metadata": {
        "id": "-RxGM2oXU_1i"
      }
    },
    {
      "cell_type": "code",
      "source": [
        "from transformers import AutoTokenizer, AutoModel\n",
        "from transformers import BertForMaskedLM, BertTokenizer, pipeline\n",
        "from transformers import AutoModelForSeq2SeqLM, AutoTokenizer"
      ],
      "metadata": {
        "execution": {
          "iopub.status.busy": "2024-06-08T14:36:11.963461Z",
          "iopub.execute_input": "2024-06-08T14:36:11.963763Z",
          "iopub.status.idle": "2024-06-08T14:36:23.336296Z",
          "shell.execute_reply.started": "2024-06-08T14:36:11.963720Z",
          "shell.execute_reply": "2024-06-08T14:36:23.335437Z"
        },
        "trusted": true,
        "id": "U4DwvHFPU_1k"
      },
      "execution_count": 16,
      "outputs": []
    },
    {
      "cell_type": "code",
      "source": [
        "PRE_TRAINED_MODEL_NAME = 'bert-base-multilingual-cased'"
      ],
      "metadata": {
        "execution": {
          "iopub.status.busy": "2024-06-08T14:36:23.337410Z",
          "iopub.execute_input": "2024-06-08T14:36:23.338109Z",
          "iopub.status.idle": "2024-06-08T14:36:23.342618Z",
          "shell.execute_reply.started": "2024-06-08T14:36:23.338079Z",
          "shell.execute_reply": "2024-06-08T14:36:23.341593Z"
        },
        "trusted": true,
        "id": "fFVcRp-vU_1k"
      },
      "execution_count": 17,
      "outputs": []
    },
    {
      "cell_type": "code",
      "source": [
        "tokenizer = BertTokenizer.from_pretrained(PRE_TRAINED_MODEL_NAME)"
      ],
      "metadata": {
        "execution": {
          "iopub.status.busy": "2024-06-08T14:36:23.343726Z",
          "iopub.execute_input": "2024-06-08T14:36:23.344342Z",
          "iopub.status.idle": "2024-06-08T14:36:25.015458Z",
          "shell.execute_reply.started": "2024-06-08T14:36:23.344289Z",
          "shell.execute_reply": "2024-06-08T14:36:25.014412Z"
        },
        "trusted": true,
        "colab": {
          "base_uri": "https://localhost:8080/",
          "height": 304,
          "referenced_widgets": [
            "0653d0605db84fd9b25da15e83f55b95",
            "13d12ba82b4749bba79b889daf699366",
            "d94e27da4f634e30ab19ac0445024fa8",
            "eea5325ad9eb4db59a5f06fa7c80bb3b",
            "56876937ac0f496eaf3133c0d643dede",
            "f17744b0bf88472bbde45e8591825c4e",
            "3583a33b7a2f44f5acb713eded6c45ba",
            "666e769498294d62ba3996fefdc3706d",
            "1898590e66874fca9950666b71c90896",
            "6ee18b203e3e43728f92b5a576b7a6f8",
            "2964e873fd96454cbeea337f9cc1e2a6",
            "29ab961558a54b1aab0b0044741ca2a3",
            "39a9c56460c5446d93162f7531236027",
            "86e250aa72fb44f3a8e6a5458e8d6f71",
            "4e84b0e0211240ea979b3a72425d9144",
            "248c26e601434f67851ff3f04129af0e",
            "9cbc3f2fef6a4ba3a6979a1b58568845",
            "db3f2176adf84a3e89fe76c9de991d28",
            "da82b89bf40f4d43ac1cd9883976fdfb",
            "bc5af2c8e7e74a0e8844bebc48977e2a",
            "b1678fcb5b144db189bd25f0d301a6ae",
            "6be9934393e84fe0830804f43ee796ca",
            "2adfe397c6744965a6086d91fdcae00b",
            "a54ab9798ec9441d9378f30558853bbe",
            "11e52c0552dd458384d932125b154b00",
            "29a868855b6b490681bf0a728e952cd3",
            "8d8740fbbdcb4b5db1a48576b5e95eac",
            "151fa5fe74764822879d273056ccd844",
            "ec8bbb4381a94188b2d9ec67031d0b70",
            "98b2fd4f465a407691476b1b8490f8fc",
            "a7e7dff9735b4db1aa2ca96e53dbdf58",
            "bf4605cd08ed4d6aadea359f744e7c18",
            "f2c28cea07764df6a1da384c18ec7f4a",
            "66d325b91c3c42ea8ffea7b93e162199",
            "01d8a1026e5048d187b7699a21b627ba",
            "5fad0023b5154612b879dd1698329be7",
            "fcdb0dbbbd3143da9c559826d60f5cc2",
            "4db08b1a2b8543a0840a8c02317056eb",
            "123ac6ecbb0b49dd9c8a1addf61c5289",
            "602f0d7aa25045e58626702d79762297",
            "05bc3c7305cf4c8eae43c2b51dc762df",
            "d3cf5aac55b24709bfa09d44f607318b",
            "8709c7db5b6d44ccaffded982768f19c",
            "2ea6640330694533a357d2835d90caf5"
          ]
        },
        "id": "gmc8l_L8U_1k",
        "outputId": "480d2fb7-84bd-4ef7-86d4-6be2cf8cc8a5"
      },
      "execution_count": 18,
      "outputs": [
        {
          "output_type": "stream",
          "name": "stderr",
          "text": [
            "/usr/local/lib/python3.10/dist-packages/huggingface_hub/utils/_token.py:89: UserWarning: \n",
            "The secret `HF_TOKEN` does not exist in your Colab secrets.\n",
            "To authenticate with the Hugging Face Hub, create a token in your settings tab (https://huggingface.co/settings/tokens), set it as secret in your Google Colab and restart your session.\n",
            "You will be able to reuse this secret in all of your notebooks.\n",
            "Please note that authentication is recommended but still optional to access public models or datasets.\n",
            "  warnings.warn(\n"
          ]
        },
        {
          "output_type": "display_data",
          "data": {
            "text/plain": [
              "tokenizer_config.json:   0%|          | 0.00/49.0 [00:00<?, ?B/s]"
            ],
            "application/vnd.jupyter.widget-view+json": {
              "version_major": 2,
              "version_minor": 0,
              "model_id": "0653d0605db84fd9b25da15e83f55b95"
            }
          },
          "metadata": {}
        },
        {
          "output_type": "display_data",
          "data": {
            "text/plain": [
              "vocab.txt:   0%|          | 0.00/996k [00:00<?, ?B/s]"
            ],
            "application/vnd.jupyter.widget-view+json": {
              "version_major": 2,
              "version_minor": 0,
              "model_id": "29ab961558a54b1aab0b0044741ca2a3"
            }
          },
          "metadata": {}
        },
        {
          "output_type": "display_data",
          "data": {
            "text/plain": [
              "tokenizer.json:   0%|          | 0.00/1.96M [00:00<?, ?B/s]"
            ],
            "application/vnd.jupyter.widget-view+json": {
              "version_major": 2,
              "version_minor": 0,
              "model_id": "2adfe397c6744965a6086d91fdcae00b"
            }
          },
          "metadata": {}
        },
        {
          "output_type": "stream",
          "name": "stderr",
          "text": [
            "/usr/local/lib/python3.10/dist-packages/huggingface_hub/file_download.py:1132: FutureWarning: `resume_download` is deprecated and will be removed in version 1.0.0. Downloads always resume when possible. If you want to force a new download, use `force_download=True`.\n",
            "  warnings.warn(\n"
          ]
        },
        {
          "output_type": "display_data",
          "data": {
            "text/plain": [
              "config.json:   0%|          | 0.00/625 [00:00<?, ?B/s]"
            ],
            "application/vnd.jupyter.widget-view+json": {
              "version_major": 2,
              "version_minor": 0,
              "model_id": "66d325b91c3c42ea8ffea7b93e162199"
            }
          },
          "metadata": {}
        }
      ]
    },
    {
      "cell_type": "code",
      "source": [
        "token_lens = []\n",
        "\n",
        "for txt in df.text:\n",
        "  #tokenizing the text\n",
        "      tokens = tokenizer.encode(txt, max_length=512,truncation=True)\n",
        "      token_lens.append(len(tokens))"
      ],
      "metadata": {
        "execution": {
          "iopub.status.busy": "2024-06-08T14:36:25.078886Z",
          "iopub.execute_input": "2024-06-08T14:36:25.079235Z",
          "iopub.status.idle": "2024-06-08T14:37:15.661143Z",
          "shell.execute_reply.started": "2024-06-08T14:36:25.079204Z",
          "shell.execute_reply": "2024-06-08T14:37:15.660148Z"
        },
        "trusted": true,
        "id": "67cylfvXU_1l"
      },
      "execution_count": 19,
      "outputs": []
    },
    {
      "cell_type": "code",
      "source": [
        "selected_columns = ['text', 'label']\n",
        "df = df[selected_columns]"
      ],
      "metadata": {
        "execution": {
          "iopub.status.busy": "2024-06-08T14:37:16.315767Z",
          "iopub.execute_input": "2024-06-08T14:37:16.316066Z",
          "iopub.status.idle": "2024-06-08T14:37:16.321832Z",
          "shell.execute_reply.started": "2024-06-08T14:37:16.316039Z",
          "shell.execute_reply": "2024-06-08T14:37:16.320990Z"
        },
        "trusted": true,
        "id": "XswWBNcIU_1l"
      },
      "execution_count": 20,
      "outputs": []
    },
    {
      "cell_type": "code",
      "source": [
        "MAX_LEN = 512"
      ],
      "metadata": {
        "execution": {
          "iopub.status.busy": "2024-06-08T14:37:16.323430Z",
          "iopub.execute_input": "2024-06-08T14:37:16.323799Z",
          "iopub.status.idle": "2024-06-08T14:37:16.332794Z",
          "shell.execute_reply.started": "2024-06-08T14:37:16.323764Z",
          "shell.execute_reply": "2024-06-08T14:37:16.331980Z"
        },
        "trusted": true,
        "id": "4fR1hC5UU_1l"
      },
      "execution_count": 21,
      "outputs": []
    },
    {
      "cell_type": "code",
      "source": [
        "class FakeNewsDataset(Dataset):\n",
        "\n",
        "  def __init__(self, text, targets, tokenizer, max_len):\n",
        "    self.text = text\n",
        "    self.targets = targets\n",
        "    self.tokenizer = tokenizer\n",
        "    self.max_len = max_len\n",
        "\n",
        "  def __len__(self):\n",
        "    return len(self.text)\n",
        "  def __getitem__(self, item):\n",
        "    text = str(self.text[item])\n",
        "    target = self.targets[item]\n",
        "\n",
        "    encoding = self.tokenizer.encode_plus(\n",
        "      text,\n",
        "      add_special_tokens=True,\n",
        "      max_length=self.max_len,\n",
        "      return_token_type_ids=False,\n",
        "      pad_to_max_length=True,\n",
        "      return_attention_mask=True,\n",
        "      truncation=True,\n",
        "      return_tensors='pt',\n",
        "    )\n",
        "\n",
        "    return {\n",
        "      'text': text,\n",
        "      'input_ids': encoding['input_ids'].flatten(),\n",
        "      'attention_mask': encoding['attention_mask'].flatten(),\n",
        "      'targets': torch.tensor(target, dtype=torch.long)\n",
        "    }"
      ],
      "metadata": {
        "execution": {
          "iopub.status.busy": "2024-06-08T14:37:16.333892Z",
          "iopub.execute_input": "2024-06-08T14:37:16.334185Z",
          "iopub.status.idle": "2024-06-08T14:37:16.344606Z",
          "shell.execute_reply.started": "2024-06-08T14:37:16.334157Z",
          "shell.execute_reply": "2024-06-08T14:37:16.343790Z"
        },
        "trusted": true,
        "id": "A1trc390U_1l"
      },
      "execution_count": 22,
      "outputs": []
    },
    {
      "cell_type": "code",
      "source": [
        "df_train, df_test = train_test_split(df, test_size=0.30, shuffle=True)\n",
        "df_val, df_test = train_test_split(df_test, test_size=0.50,shuffle=True)"
      ],
      "metadata": {
        "execution": {
          "iopub.status.busy": "2024-06-08T14:37:16.345826Z",
          "iopub.execute_input": "2024-06-08T14:37:16.346420Z",
          "iopub.status.idle": "2024-06-08T14:37:16.357792Z",
          "shell.execute_reply.started": "2024-06-08T14:37:16.346388Z",
          "shell.execute_reply": "2024-06-08T14:37:16.356948Z"
        },
        "trusted": true,
        "id": "cyvhNMxZU_1m"
      },
      "execution_count": 23,
      "outputs": []
    },
    {
      "cell_type": "code",
      "source": [
        "df_train.shape, df_val.shape, df_test.shape"
      ],
      "metadata": {
        "execution": {
          "iopub.status.busy": "2024-06-08T14:37:16.358974Z",
          "iopub.execute_input": "2024-06-08T14:37:16.359704Z",
          "iopub.status.idle": "2024-06-08T14:37:16.368594Z",
          "shell.execute_reply.started": "2024-06-08T14:37:16.359678Z",
          "shell.execute_reply": "2024-06-08T14:37:16.367684Z"
        },
        "trusted": true,
        "colab": {
          "base_uri": "https://localhost:8080/"
        },
        "id": "hr9lUm85U_1r",
        "outputId": "4e23284f-53ca-4e8c-bd29-1dd8eaa950fd"
      },
      "execution_count": 24,
      "outputs": [
        {
          "output_type": "execute_result",
          "data": {
            "text/plain": [
              "((2800, 2), (600, 2), (600, 2))"
            ]
          },
          "metadata": {},
          "execution_count": 24
        }
      ]
    },
    {
      "cell_type": "code",
      "source": [
        "def create_data_loader(df, tokenizer, max_len, batch_size):\n",
        "  ds = FakeNewsDataset(\n",
        "    text=df.text.to_numpy(),\n",
        "    targets=df.label.to_numpy(),\n",
        "    tokenizer=tokenizer,\n",
        "    max_len=max_len,\n",
        "\n",
        "  )\n",
        "\n",
        "  return DataLoader(\n",
        "    ds,\n",
        "    batch_size=batch_size,\n",
        "    num_workers=4,\n",
        "    shuffle=True\n",
        "  )"
      ],
      "metadata": {
        "execution": {
          "iopub.status.busy": "2024-06-08T14:37:16.369631Z",
          "iopub.execute_input": "2024-06-08T14:37:16.369901Z",
          "iopub.status.idle": "2024-06-08T14:37:16.378361Z",
          "shell.execute_reply.started": "2024-06-08T14:37:16.369878Z",
          "shell.execute_reply": "2024-06-08T14:37:16.377458Z"
        },
        "trusted": true,
        "id": "5gOuIh3wU_1r"
      },
      "execution_count": 25,
      "outputs": []
    },
    {
      "cell_type": "code",
      "source": [
        "import warnings\n",
        "\n",
        "# Ignore the specific FutureWarning related to truncation\n",
        "warnings.filterwarnings(\"ignore\", message=\"Truncation was not explicitly activated*\")"
      ],
      "metadata": {
        "execution": {
          "iopub.status.busy": "2024-06-08T14:37:16.379409Z",
          "iopub.execute_input": "2024-06-08T14:37:16.379692Z",
          "iopub.status.idle": "2024-06-08T14:37:16.389732Z",
          "shell.execute_reply.started": "2024-06-08T14:37:16.379669Z",
          "shell.execute_reply": "2024-06-08T14:37:16.388846Z"
        },
        "trusted": true,
        "id": "xwixNwHLU_1r"
      },
      "execution_count": 26,
      "outputs": []
    },
    {
      "cell_type": "code",
      "source": [
        "BATCH_SIZE = 8\n",
        "\n",
        "train_data_loader = create_data_loader(df_train, tokenizer, MAX_LEN, BATCH_SIZE)\n",
        "val_data_loader = create_data_loader(df_val, tokenizer, MAX_LEN, BATCH_SIZE)\n",
        "test_data_loader = create_data_loader(df_test, tokenizer, MAX_LEN, BATCH_SIZE)"
      ],
      "metadata": {
        "execution": {
          "iopub.status.busy": "2024-06-08T14:37:16.390718Z",
          "iopub.execute_input": "2024-06-08T14:37:16.391037Z",
          "iopub.status.idle": "2024-06-08T14:37:16.403589Z",
          "shell.execute_reply.started": "2024-06-08T14:37:16.391005Z",
          "shell.execute_reply": "2024-06-08T14:37:16.402761Z"
        },
        "trusted": true,
        "id": "sx8sEWEZU_1s",
        "colab": {
          "base_uri": "https://localhost:8080/"
        },
        "outputId": "271e5b54-36ab-4849-9b4c-076107db8bbd"
      },
      "execution_count": 27,
      "outputs": [
        {
          "output_type": "stream",
          "name": "stderr",
          "text": [
            "/usr/local/lib/python3.10/dist-packages/torch/utils/data/dataloader.py:558: UserWarning: This DataLoader will create 4 worker processes in total. Our suggested max number of worker in current system is 2, which is smaller than what this DataLoader is going to create. Please be aware that excessive worker creation might get DataLoader running slow or even freeze, lower the worker number to avoid potential slowness/freeze if necessary.\n",
            "  warnings.warn(_create_warning_msg(\n"
          ]
        }
      ]
    },
    {
      "cell_type": "code",
      "source": [
        "data = next(iter(train_data_loader))\n",
        "data.keys()"
      ],
      "metadata": {
        "execution": {
          "iopub.status.busy": "2024-06-08T14:37:16.404862Z",
          "iopub.execute_input": "2024-06-08T14:37:16.405327Z",
          "iopub.status.idle": "2024-06-08T14:37:16.833260Z",
          "shell.execute_reply.started": "2024-06-08T14:37:16.405292Z",
          "shell.execute_reply": "2024-06-08T14:37:16.832150Z"
        },
        "trusted": true,
        "colab": {
          "base_uri": "https://localhost:8080/"
        },
        "id": "wkTtVOQJU_1s",
        "outputId": "367b682e-1541-42fe-b475-3e97bb712bbc"
      },
      "execution_count": 28,
      "outputs": [
        {
          "output_type": "stream",
          "name": "stderr",
          "text": [
            "/usr/lib/python3.10/multiprocessing/popen_fork.py:66: RuntimeWarning: os.fork() was called. os.fork() is incompatible with multithreaded code, and JAX is multithreaded, so this will likely lead to a deadlock.\n",
            "  self.pid = os.fork()\n"
          ]
        },
        {
          "output_type": "execute_result",
          "data": {
            "text/plain": [
              "dict_keys(['text', 'input_ids', 'attention_mask', 'targets'])"
            ]
          },
          "metadata": {},
          "execution_count": 28
        }
      ]
    },
    {
      "cell_type": "code",
      "source": [
        "print(data['input_ids'].shape)\n",
        "print(data['attention_mask'].shape)\n",
        "print(data['targets'].shape)"
      ],
      "metadata": {
        "execution": {
          "iopub.status.busy": "2024-06-08T14:37:16.834664Z",
          "iopub.execute_input": "2024-06-08T14:37:16.834965Z",
          "iopub.status.idle": "2024-06-08T14:37:16.840314Z",
          "shell.execute_reply.started": "2024-06-08T14:37:16.834938Z",
          "shell.execute_reply": "2024-06-08T14:37:16.839403Z"
        },
        "trusted": true,
        "colab": {
          "base_uri": "https://localhost:8080/"
        },
        "id": "bSQoHG9OU_1s",
        "outputId": "48888cad-4a82-48a0-b916-c5de749b6335"
      },
      "execution_count": 29,
      "outputs": [
        {
          "output_type": "stream",
          "name": "stdout",
          "text": [
            "torch.Size([8, 512])\n",
            "torch.Size([8, 512])\n",
            "torch.Size([8])\n"
          ]
        }
      ]
    },
    {
      "cell_type": "code",
      "source": [
        "bert_model = BertModel.from_pretrained(PRE_TRAINED_MODEL_NAME) # method name"
      ],
      "metadata": {
        "execution": {
          "iopub.status.busy": "2024-06-08T14:37:16.848025Z",
          "iopub.execute_input": "2024-06-08T14:37:16.848816Z",
          "iopub.status.idle": "2024-06-08T14:37:21.975068Z",
          "shell.execute_reply.started": "2024-06-08T14:37:16.848788Z",
          "shell.execute_reply": "2024-06-08T14:37:21.974277Z"
        },
        "trusted": true,
        "colab": {
          "base_uri": "https://localhost:8080/",
          "height": 49,
          "referenced_widgets": [
            "751102bbb66b4d459b51aaa5e8fc6a59",
            "708ac0d8dc134094bbd55eab0c30c89d",
            "c5c27ed6af104253a7651f0c932e4965",
            "ae73b370fa6c48c49efc90a9bc89f4db",
            "ab7349c87a894794a7b0c0716b844b8d",
            "546969b821a34d36a08846626b7b72dc",
            "ab94266dda744df6a3fd7d38c1cbe499",
            "4f9ca42f176e4679838d33cb22df5322",
            "46da1c155c5b45b3ba8bbbee31773329",
            "04b8a893cc2c441d807ba8517932d3a1",
            "4d45c5aa1fa24ccbb113f72e2a9003bd"
          ]
        },
        "id": "DTX-kYtdU_1t",
        "outputId": "47012020-40af-4cbe-bd93-2dad210a2146"
      },
      "execution_count": 30,
      "outputs": [
        {
          "output_type": "display_data",
          "data": {
            "text/plain": [
              "model.safetensors:   0%|          | 0.00/714M [00:00<?, ?B/s]"
            ],
            "application/vnd.jupyter.widget-view+json": {
              "version_major": 2,
              "version_minor": 0,
              "model_id": "751102bbb66b4d459b51aaa5e8fc6a59"
            }
          },
          "metadata": {}
        }
      ]
    },
    {
      "cell_type": "code",
      "source": [
        "class FakenewsClassifier(nn.Module):\n",
        "  def __init__(self, n_classes):\n",
        "    super(FakenewsClassifier, self).__init__()\n",
        "    self.bert = BertModel.from_pretrained(PRE_TRAINED_MODEL_NAME) #model\n",
        "    self.drop = nn.Dropout(p=0.3)\n",
        "    self.out = nn.Linear(self.bert.config.hidden_size, n_classes)\n",
        "\n",
        "  def forward(self, input_ids, attention_mask):\n",
        "    _, pooled_output = self.bert(\n",
        "         input_ids=input_ids,\n",
        "         attention_mask=attention_mask,\n",
        "         return_dict=False\n",
        "    )\n",
        "    output = self.drop(pooled_output)\n",
        "    return self.out(output)"
      ],
      "metadata": {
        "execution": {
          "iopub.status.busy": "2024-06-08T14:37:22.423422Z",
          "iopub.execute_input": "2024-06-08T14:37:22.423865Z",
          "iopub.status.idle": "2024-06-08T14:37:22.431157Z",
          "shell.execute_reply.started": "2024-06-08T14:37:22.423827Z",
          "shell.execute_reply": "2024-06-08T14:37:22.430262Z"
        },
        "trusted": true,
        "id": "1DU6qzPLU_1t"
      },
      "execution_count": 32,
      "outputs": []
    },
    {
      "cell_type": "code",
      "source": [
        "model = FakenewsClassifier(2)\n",
        "model = model.to(device)"
      ],
      "metadata": {
        "execution": {
          "iopub.status.busy": "2024-06-08T14:37:22.432366Z",
          "iopub.execute_input": "2024-06-08T14:37:22.432652Z",
          "iopub.status.idle": "2024-06-08T14:37:23.313993Z",
          "shell.execute_reply.started": "2024-06-08T14:37:22.432627Z",
          "shell.execute_reply": "2024-06-08T14:37:23.313179Z"
        },
        "trusted": true,
        "id": "6ZamTRqHU_1t"
      },
      "execution_count": 33,
      "outputs": []
    },
    {
      "cell_type": "code",
      "source": [
        "input_ids = data['input_ids'].to(device)\n",
        "attention_mask = data['attention_mask'].to(device)\n",
        "\n",
        "print(input_ids.shape) # batch size x seq length\n",
        "print(attention_mask.shape) # batch size x seq length"
      ],
      "metadata": {
        "execution": {
          "iopub.status.busy": "2024-06-08T14:37:23.315269Z",
          "iopub.execute_input": "2024-06-08T14:37:23.315566Z",
          "iopub.status.idle": "2024-06-08T14:37:23.323674Z",
          "shell.execute_reply.started": "2024-06-08T14:37:23.315540Z",
          "shell.execute_reply": "2024-06-08T14:37:23.322723Z"
        },
        "trusted": true,
        "colab": {
          "base_uri": "https://localhost:8080/"
        },
        "id": "T9qnJTshU_1t",
        "outputId": "a4ca2c2f-3cd5-4209-be15-10c3338daaf2"
      },
      "execution_count": 34,
      "outputs": [
        {
          "output_type": "stream",
          "name": "stdout",
          "text": [
            "torch.Size([8, 512])\n",
            "torch.Size([8, 512])\n"
          ]
        }
      ]
    },
    {
      "cell_type": "code",
      "source": [
        "F.softmax(model(input_ids, attention_mask), dim=1)"
      ],
      "metadata": {
        "execution": {
          "iopub.status.busy": "2024-06-08T14:37:23.324913Z",
          "iopub.execute_input": "2024-06-08T14:37:23.325280Z",
          "iopub.status.idle": "2024-06-08T14:37:23.871609Z",
          "shell.execute_reply.started": "2024-06-08T14:37:23.325247Z",
          "shell.execute_reply": "2024-06-08T14:37:23.870439Z"
        },
        "trusted": true,
        "colab": {
          "base_uri": "https://localhost:8080/"
        },
        "id": "J-iyBDn1U_1t",
        "outputId": "80650bcf-74bd-4a64-ce5a-cd24ed220941"
      },
      "execution_count": 35,
      "outputs": [
        {
          "output_type": "execute_result",
          "data": {
            "text/plain": [
              "tensor([[0.5023, 0.4977],\n",
              "        [0.3489, 0.6511],\n",
              "        [0.2759, 0.7241],\n",
              "        [0.3333, 0.6667],\n",
              "        [0.4317, 0.5683],\n",
              "        [0.3950, 0.6050],\n",
              "        [0.2982, 0.7018],\n",
              "        [0.4291, 0.5709]], device='cuda:0', grad_fn=<SoftmaxBackward0>)"
            ]
          },
          "metadata": {},
          "execution_count": 35
        }
      ]
    },
    {
      "cell_type": "markdown",
      "source": [
        "# ***Training***"
      ],
      "metadata": {
        "id": "bK4x-ygqU_1u"
      }
    },
    {
      "cell_type": "code",
      "source": [
        "EPOCHS = 5\n",
        "LOAD_WEGHITS = False\n",
        "\n",
        "optimizer = AdamW(model.parameters(), lr=2e-5, correct_bias=False)\n",
        "total_steps = len(train_data_loader) * EPOCHS\n",
        "\n",
        "scheduler = get_linear_schedule_with_warmup(\n",
        "  optimizer,\n",
        "  num_warmup_steps=4,\n",
        "  num_training_steps=total_steps\n",
        ")\n",
        "\n",
        "loss_fn = nn.CrossEntropyLoss().to(device)"
      ],
      "metadata": {
        "execution": {
          "iopub.status.busy": "2024-06-08T14:37:23.872758Z",
          "iopub.execute_input": "2024-06-08T14:37:23.873045Z",
          "iopub.status.idle": "2024-06-08T14:37:23.882654Z",
          "shell.execute_reply.started": "2024-06-08T14:37:23.873020Z",
          "shell.execute_reply": "2024-06-08T14:37:23.881832Z"
        },
        "trusted": true,
        "id": "wUcBAKS0U_1u",
        "colab": {
          "base_uri": "https://localhost:8080/"
        },
        "outputId": "d90deda5-1dcc-434b-979f-09e58340d43b"
      },
      "execution_count": 36,
      "outputs": [
        {
          "output_type": "stream",
          "name": "stderr",
          "text": [
            "/usr/local/lib/python3.10/dist-packages/transformers/optimization.py:588: FutureWarning: This implementation of AdamW is deprecated and will be removed in a future version. Use the PyTorch implementation torch.optim.AdamW instead, or set `no_deprecation_warning=True` to disable this warning\n",
            "  warnings.warn(\n"
          ]
        }
      ]
    },
    {
      "cell_type": "code",
      "source": [
        "import warnings\n",
        "\n",
        "# Ignore FutureWarnings from the tokenization_utils_base module\n",
        "warnings.filterwarnings(\"ignore\", category=FutureWarning, module=\"transformers.tokenization_utils_base\")\n"
      ],
      "metadata": {
        "execution": {
          "iopub.status.busy": "2024-06-08T14:37:23.909253Z",
          "iopub.execute_input": "2024-06-08T14:37:23.909514Z",
          "iopub.status.idle": "2024-06-08T14:37:23.921347Z",
          "shell.execute_reply.started": "2024-06-08T14:37:23.909491Z",
          "shell.execute_reply": "2024-06-08T14:37:23.920497Z"
        },
        "trusted": true,
        "id": "LfYXBbK7U_1u"
      },
      "execution_count": 37,
      "outputs": []
    },
    {
      "cell_type": "code",
      "source": [
        "best_model_path = \"/content/drive/MyDrive/NLP_course_AF/BERTbest_model_state.bin\""
      ],
      "metadata": {
        "id": "H2zeWOmZkGFu"
      },
      "execution_count": 38,
      "outputs": []
    },
    {
      "cell_type": "code",
      "source": [
        "import torch\n",
        "import torch.nn as nn\n",
        "import numpy as np\n",
        "from tqdm import tqdm\n",
        "from collections import defaultdict\n",
        "\n",
        "def save_model(model, filepath):\n",
        "    torch.save(model.state_dict(), filepath)\n",
        "\n",
        "def load_model(model, filepath):\n",
        "    model.load_state_dict(torch.load(filepath))\n",
        "    return model\n",
        "\n",
        "def train_epoch(\n",
        "    model,\n",
        "    data_loader,\n",
        "    loss_fn,\n",
        "    optimizer,\n",
        "    device,\n",
        "    scheduler,\n",
        "    n_examples\n",
        "):\n",
        "    model = model.train()\n",
        "\n",
        "    losses = []\n",
        "    correct_predictions = 0\n",
        "\n",
        "    data_loader = tqdm(data_loader, desc=\"Training\", unit=\"batch\")\n",
        "\n",
        "    for d in data_loader:\n",
        "        input_ids = d[\"input_ids\"].to(device)\n",
        "        attention_mask = d[\"attention_mask\"].to(device)\n",
        "        targets = d[\"targets\"].to(device)\n",
        "\n",
        "        outputs = model(\n",
        "            input_ids=input_ids,\n",
        "            attention_mask=attention_mask\n",
        "        )\n",
        "\n",
        "        _, preds = torch.max(outputs, dim=1)\n",
        "        loss = loss_fn(outputs, targets)\n",
        "\n",
        "        correct_predictions += torch.sum(preds == targets)\n",
        "        losses.append(loss.item())\n",
        "\n",
        "        loss.backward()\n",
        "        nn.utils.clip_grad_norm_(model.parameters(), max_norm=1.0)\n",
        "        optimizer.step()\n",
        "        scheduler.step()\n",
        "        optimizer.zero_grad()\n",
        "\n",
        "        data_loader.set_postfix(loss=np.mean(losses))\n",
        "\n",
        "    return correct_predictions.double() / n_examples, np.mean(losses)\n",
        "\n",
        "def eval_model(\n",
        "    model,\n",
        "    data_loader,\n",
        "    loss_fn,\n",
        "    device,\n",
        "    n_examples\n",
        "):\n",
        "    model = model.eval()\n",
        "\n",
        "    losses = []\n",
        "    correct_predictions = 0\n",
        "\n",
        "    data_loader = tqdm(data_loader, desc=\"Evaluating\", unit=\"batch\")\n",
        "\n",
        "    with torch.no_grad():\n",
        "        for d in data_loader:\n",
        "            input_ids = d[\"input_ids\"].to(device)\n",
        "            attention_mask = d[\"attention_mask\"].to(device)\n",
        "            targets = d[\"targets\"].to(device)\n",
        "\n",
        "            outputs = model(\n",
        "                input_ids=input_ids,\n",
        "                attention_mask=attention_mask\n",
        "            )\n",
        "\n",
        "            _, preds = torch.max(outputs, dim=1)\n",
        "            loss = loss_fn(outputs, targets)\n",
        "\n",
        "            correct_predictions += torch.sum(preds == targets)\n",
        "            losses.append(loss.item())\n",
        "\n",
        "            data_loader.set_postfix(loss=np.mean(losses))\n",
        "\n",
        "    return correct_predictions.double() / n_examples, np.mean(losses)\n",
        "\n",
        "# Initialize history and best_accuracy\n",
        "history = defaultdict(list)\n",
        "best_accuracy = 0\n",
        "\n",
        "if not LOAD_WEGHITS:\n",
        "    # Training loop\n",
        "    for epoch in range(EPOCHS):\n",
        "        print(f'Epoch {epoch + 1}/{EPOCHS}')\n",
        "        print('-' * 10)\n",
        "\n",
        "        train_acc, train_loss = train_epoch(\n",
        "            model,\n",
        "            train_data_loader,\n",
        "            loss_fn,\n",
        "            optimizer,\n",
        "            device,\n",
        "            scheduler,\n",
        "            len(df_train)\n",
        "        )\n",
        "\n",
        "        print(f'Train loss {train_loss} accuracy {train_acc}')\n",
        "\n",
        "        val_acc, val_loss = eval_model(\n",
        "            model,\n",
        "            val_data_loader,\n",
        "            loss_fn,\n",
        "            device,\n",
        "            len(df_val)\n",
        "        )\n",
        "\n",
        "        print(f'Val   loss {val_loss} accuracy {val_acc}')\n",
        "        print()\n",
        "\n",
        "        history['train_acc'].append(train_acc)\n",
        "        history['train_loss'].append(train_loss)\n",
        "        history['val_acc'].append(val_acc)\n",
        "        history['val_loss'].append(val_loss)\n",
        "\n",
        "        # Save the best model\n",
        "        if val_acc > best_accuracy:\n",
        "            save_model(model, best_model_path)\n",
        "            best_accuracy = val_acc\n",
        "            print(f\"Best model saved with accuracy {best_accuracy}\")\n",
        "\n",
        "    print(f\"Training complete. Best accuracy: {best_accuracy}\")\n",
        "\n",
        "else:\n",
        "    # Loading the best model\n",
        "    model = load_model(model, best_model_path)\n",
        "    model = model.to(device)"
      ],
      "metadata": {
        "colab": {
          "base_uri": "https://localhost:8080/"
        },
        "id": "8brfX7LCkokU",
        "outputId": "b64cf8ed-8a3d-4f63-9c9c-360a2bc31894"
      },
      "execution_count": 39,
      "outputs": [
        {
          "metadata": {
            "tags": null
          },
          "name": "stdout",
          "output_type": "stream",
          "text": [
            "Epoch 1/5\n",
            "----------\n"
          ]
        },
        {
          "metadata": {
            "tags": null
          },
          "name": "stderr",
          "output_type": "stream",
          "text": [
            "Training:   0%|          | 0/350 [00:00<?, ?batch/s]/usr/local/lib/python3.10/dist-packages/torch/utils/data/dataloader.py:558: UserWarning: This DataLoader will create 4 worker processes in total. Our suggested max number of worker in current system is 2, which is smaller than what this DataLoader is going to create. Please be aware that excessive worker creation might get DataLoader running slow or even freeze, lower the worker number to avoid potential slowness/freeze if necessary.\n",
            "  warnings.warn(_create_warning_msg(\n",
            "/usr/lib/python3.10/multiprocessing/popen_fork.py:66: RuntimeWarning: os.fork() was called. os.fork() is incompatible with multithreaded code, and JAX is multithreaded, so this will likely lead to a deadlock.\n",
            "  self.pid = os.fork()\n",
            "Training: 100%|██████████| 350/350 [04:38<00:00,  1.26batch/s, loss=0.0458]\n"
          ]
        },
        {
          "metadata": {
            "tags": null
          },
          "name": "stdout",
          "output_type": "stream",
          "text": [
            "Train loss 0.045783869594639065 accuracy 0.9871428571428571\n"
          ]
        },
        {
          "metadata": {
            "tags": null
          },
          "name": "stderr",
          "output_type": "stream",
          "text": [
            "Evaluating: 100%|██████████| 75/75 [00:18<00:00,  4.14batch/s, loss=6.56e-5]\n"
          ]
        },
        {
          "metadata": {
            "tags": null
          },
          "name": "stdout",
          "output_type": "stream",
          "text": [
            "Val   loss 6.559942252351903e-05 accuracy 1.0\n",
            "\n",
            "Best model saved with accuracy 1.0\n",
            "Epoch 2/5\n",
            "----------\n"
          ]
        },
        {
          "metadata": {
            "tags": null
          },
          "name": "stderr",
          "output_type": "stream",
          "text": [
            "Training: 100%|██████████| 350/350 [04:39<00:00,  1.25batch/s, loss=0.00657]\n"
          ]
        },
        {
          "metadata": {
            "tags": null
          },
          "name": "stdout",
          "output_type": "stream",
          "text": [
            "Train loss 0.00657329249182242 accuracy 0.9992857142857143\n"
          ]
        },
        {
          "metadata": {
            "tags": null
          },
          "name": "stderr",
          "output_type": "stream",
          "text": [
            "Evaluating: 100%|██████████| 75/75 [00:17<00:00,  4.22batch/s, loss=0.000944]\n"
          ]
        },
        {
          "metadata": {
            "tags": null
          },
          "name": "stdout",
          "output_type": "stream",
          "text": [
            "Val   loss 0.0009441306590936923 accuracy 1.0\n",
            "\n",
            "Epoch 3/5\n",
            "----------\n"
          ]
        },
        {
          "output_type": "stream",
          "name": "stderr",
          "text": [
            "Training: 100%|██████████| 350/350 [04:38<00:00,  1.26batch/s, loss=0.00747]\n"
          ]
        },
        {
          "output_type": "stream",
          "name": "stdout",
          "text": [
            "Train loss 0.0074682310303874795 accuracy 0.9982142857142857\n"
          ]
        },
        {
          "output_type": "stream",
          "name": "stderr",
          "text": [
            "Evaluating: 100%|██████████| 75/75 [00:17<00:00,  4.21batch/s, loss=0.000868]\n"
          ]
        },
        {
          "output_type": "stream",
          "name": "stdout",
          "text": [
            "Val   loss 0.0008681807761846963 accuracy 1.0\n",
            "\n",
            "Epoch 4/5\n",
            "----------\n"
          ]
        },
        {
          "output_type": "stream",
          "name": "stderr",
          "text": [
            "Training: 100%|██████████| 350/350 [04:38<00:00,  1.26batch/s, loss=3.06e-5]\n"
          ]
        },
        {
          "output_type": "stream",
          "name": "stdout",
          "text": [
            "Train loss 3.0623342957239534e-05 accuracy 1.0\n"
          ]
        },
        {
          "output_type": "stream",
          "name": "stderr",
          "text": [
            "Evaluating: 100%|██████████| 75/75 [00:17<00:00,  4.22batch/s, loss=0.000747]\n"
          ]
        },
        {
          "output_type": "stream",
          "name": "stdout",
          "text": [
            "Val   loss 0.0007469723062483051 accuracy 1.0\n",
            "\n",
            "Epoch 5/5\n",
            "----------\n"
          ]
        },
        {
          "output_type": "stream",
          "name": "stderr",
          "text": [
            "Training: 100%|██████████| 350/350 [04:38<00:00,  1.26batch/s, loss=2.46e-5]\n"
          ]
        },
        {
          "output_type": "stream",
          "name": "stdout",
          "text": [
            "Train loss 2.4551024861076647e-05 accuracy 1.0\n"
          ]
        },
        {
          "output_type": "stream",
          "name": "stderr",
          "text": [
            "Evaluating: 100%|██████████| 75/75 [00:17<00:00,  4.21batch/s, loss=0.000681]"
          ]
        },
        {
          "output_type": "stream",
          "name": "stdout",
          "text": [
            "Val   loss 0.0006812417488739205 accuracy 1.0\n",
            "\n",
            "Training complete. Best accuracy: 1.0\n"
          ]
        },
        {
          "output_type": "stream",
          "name": "stderr",
          "text": [
            "\n"
          ]
        }
      ]
    },
    {
      "cell_type": "code",
      "source": [
        "history['train_acc']"
      ],
      "metadata": {
        "colab": {
          "base_uri": "https://localhost:8080/"
        },
        "id": "l81CrzXxINdZ",
        "outputId": "cad2e779-bebd-46a5-9e6c-656f33d6ee4d"
      },
      "execution_count": 50,
      "outputs": [
        {
          "output_type": "execute_result",
          "data": {
            "text/plain": [
              "[tensor(0.9871, device='cuda:0', dtype=torch.float64),\n",
              " tensor(0.9993, device='cuda:0', dtype=torch.float64),\n",
              " tensor(0.9982, device='cuda:0', dtype=torch.float64),\n",
              " tensor(1., device='cuda:0', dtype=torch.float64),\n",
              " tensor(1., device='cuda:0', dtype=torch.float64)]"
            ]
          },
          "metadata": {},
          "execution_count": 50
        }
      ]
    },
    {
      "cell_type": "code",
      "source": [
        "def tensors_to_list(tensor_list):\n",
        "    return [t.cpu().item() for t in tensor_list]"
      ],
      "metadata": {
        "id": "HgZ5ItUNJYjp"
      },
      "execution_count": 53,
      "outputs": []
    },
    {
      "cell_type": "code",
      "source": [
        "plt.figure(figsize=(8, 4))\n",
        "\n",
        "plt.subplot(1, 2, 1)\n",
        "plt.plot(history['train_loss'], label='Training Loss')\n",
        "plt.plot(history['val_loss'], label='Validation Loss')\n",
        "plt.title('Training and Validation Loss')\n",
        "plt.xlabel('Epochs')\n",
        "plt.ylabel('Loss')\n",
        "plt.legend()\n",
        "\n",
        "plt.subplot(1, 2, 2)\n",
        "plt.plot(tensors_to_list(history['train_acc']), label='Training Accuracy')\n",
        "plt.plot(tensors_to_list(history['val_acc']), label='Validation Accuracy')\n",
        "plt.title('Training and Validation Accuracy')\n",
        "plt.xlabel('Epochs')\n",
        "plt.ylabel('Accuracy')\n",
        "plt.legend()\n",
        "\n",
        "plt.tight_layout()\n",
        "plt.show()"
      ],
      "metadata": {
        "colab": {
          "base_uri": "https://localhost:8080/",
          "height": 407
        },
        "id": "HgveUtVa5WIW",
        "outputId": "4851f39e-8bc2-4755-d900-3d4636b64910"
      },
      "execution_count": 58,
      "outputs": [
        {
          "output_type": "display_data",
          "data": {
            "text/plain": [
              "<Figure size 800x400 with 2 Axes>"
            ],
            "image/png": "[encoded data removed]"
          },
          "metadata": {
            "image/png": {
              "width": 791,
              "height": 390
            }
          }
        }
      ]
    },
    {
      "cell_type": "markdown",
      "source": [
        "# **Evaluation**"
      ],
      "metadata": {
        "id": "Ms9A20QwU_1v"
      }
    },
    {
      "cell_type": "code",
      "source": [
        "test_acc, _ = eval_model(\n",
        "  model,\n",
        "  test_data_loader,\n",
        "  loss_fn,\n",
        "  device,\n",
        "  len(df_test)\n",
        ")\n",
        "\n",
        "test_acc.item()"
      ],
      "metadata": {
        "trusted": true,
        "colab": {
          "base_uri": "https://localhost:8080/"
        },
        "id": "LsR8MyZXU_1v",
        "outputId": "bdfe8d82-d832-4c25-cb74-9b18e7cd1ea9"
      },
      "execution_count": 59,
      "outputs": [
        {
          "output_type": "stream",
          "name": "stderr",
          "text": [
            "\rEvaluating:   0%|          | 0/75 [00:00<?, ?batch/s]/usr/local/lib/python3.10/dist-packages/torch/utils/data/dataloader.py:558: UserWarning: This DataLoader will create 4 worker processes in total. Our suggested max number of worker in current system is 2, which is smaller than what this DataLoader is going to create. Please be aware that excessive worker creation might get DataLoader running slow or even freeze, lower the worker number to avoid potential slowness/freeze if necessary.\n",
            "  warnings.warn(_create_warning_msg(\n",
            "/usr/lib/python3.10/multiprocessing/popen_fork.py:66: RuntimeWarning: os.fork() was called. os.fork() is incompatible with multithreaded code, and JAX is multithreaded, so this will likely lead to a deadlock.\n",
            "  self.pid = os.fork()\n",
            "Evaluating: 100%|██████████| 75/75 [00:17<00:00,  4.69batch/s, loss=0.000663]/usr/lib/python3.10/multiprocessing/popen_fork.py:66: RuntimeWarning: os.fork() was called. os.fork() is incompatible with multithreaded code, and JAX is multithreaded, so this will likely lead to a deadlock.\n",
            "  self.pid = os.fork()\n",
            "Evaluating: 100%|██████████| 75/75 [00:17<00:00,  4.30batch/s, loss=0.000663]\n"
          ]
        },
        {
          "output_type": "execute_result",
          "data": {
            "text/plain": [
              "1.0"
            ]
          },
          "metadata": {},
          "execution_count": 59
        }
      ]
    },
    {
      "cell_type": "code",
      "source": [
        "def get_predictions(model, data_loader):\n",
        "    model = model.eval()\n",
        "\n",
        "    review_texts = []\n",
        "    predictions = []\n",
        "    prediction_probs = []\n",
        "    real_values = []\n",
        "\n",
        "    with torch.no_grad():\n",
        "        for d in data_loader:\n",
        "            texts = d[\"text\"]\n",
        "            input_ids = d[\"input_ids\"].to(device)\n",
        "            attention_mask = d[\"attention_mask\"].to(device)\n",
        "            targets = d[\"targets\"].to(device)\n",
        "\n",
        "            outputs = model(\n",
        "                input_ids=input_ids,\n",
        "                attention_mask=attention_mask\n",
        "            )\n",
        "            _, preds = torch.max(outputs, dim=1)\n",
        "\n",
        "            probs = F.softmax(outputs, dim=1)\n",
        "\n",
        "            review_texts.extend(texts)\n",
        "            predictions.extend(preds)\n",
        "            prediction_probs.extend(probs)\n",
        "            real_values.extend(targets)\n",
        "\n",
        "    predictions = torch.stack(predictions).cpu()\n",
        "    prediction_probs = torch.stack(prediction_probs).cpu()\n",
        "    real_values = torch.stack(real_values).cpu()\n",
        "    return review_texts, predictions, prediction_probs, real_values\n"
      ],
      "metadata": {
        "trusted": true,
        "id": "hRl4VVGCU_1v"
      },
      "execution_count": 60,
      "outputs": []
    },
    {
      "cell_type": "code",
      "source": [
        "y_review_texts, y_pred, y_pred_probs, y_test = get_predictions(\n",
        "  model,\n",
        "  test_data_loader\n",
        ")"
      ],
      "metadata": {
        "trusted": true,
        "id": "MNC8kAOpU_1w"
      },
      "execution_count": 61,
      "outputs": []
    },
    {
      "cell_type": "markdown",
      "source": [
        "# **Classification report**"
      ],
      "metadata": {
        "id": "SDKpBNaDU_1w"
      }
    },
    {
      "cell_type": "code",
      "source": [
        "print(classification_report(y_test, y_pred, target_names=['real', 'fake'],digits=4))"
      ],
      "metadata": {
        "trusted": true,
        "colab": {
          "base_uri": "https://localhost:8080/"
        },
        "id": "5ee7c_csU_1w",
        "outputId": "c4360106-610e-48b4-b89b-a0a969aea8be"
      },
      "execution_count": 63,
      "outputs": [
        {
          "output_type": "stream",
          "name": "stdout",
          "text": [
            "              precision    recall  f1-score   support\n",
            "\n",
            "        real     1.0000    1.0000    1.0000       319\n",
            "        fake     1.0000    1.0000    1.0000       281\n",
            "\n",
            "    accuracy                         1.0000       600\n",
            "   macro avg     1.0000    1.0000    1.0000       600\n",
            "weighted avg     1.0000    1.0000    1.0000       600\n",
            "\n"
          ]
        }
      ]
    },
    {
      "cell_type": "markdown",
      "source": [
        "# **Confusion Matrix**"
      ],
      "metadata": {
        "id": "g-kWV2I2U_1w"
      }
    },
    {
      "cell_type": "code",
      "source": [
        "from sklearn.metrics import confusion_matrix, accuracy_score\n",
        "import seaborn as sns\n",
        "import matplotlib.pyplot as plt\n",
        "\n",
        "# Generate confusion matrix\n",
        "conf_matrix = confusion_matrix(y_test, y_pred)\n",
        "\n",
        "\n",
        "\n",
        "# Plot confusion matrix\n",
        "plt.figure(figsize=(4, 3))\n",
        "# Define the custom palette\n",
        "custom_palette = sns.cubehelix_palette( as_cmap=True)\n",
        "# Define custom font dictionary for title and labels\n",
        "\n",
        "\n",
        "# Create heatmap with annotations and colormap\n",
        "heatmap = sns.heatmap(conf_matrix, annot=True, fmt='d', cmap=custom_palette,\n",
        "                      xticklabels=['real', 'fake'], yticklabels=['real', 'fake'],vmin=0,vmax=500,)\n",
        "\n",
        "# Set x and y labels with the custom font dictionary\n",
        "heatmap.set_xlabel('Predicted Labels')\n",
        "heatmap.set_ylabel('Target Labels')\n",
        "heatmap.set_title('Fake News Detection', pad=12)\n",
        "\n",
        "# Set font properties for tick labels on both axes\n",
        "heatmap.set_xticklabels(heatmap.get_xticklabels())\n",
        "heatmap.set_yticklabels(heatmap.get_yticklabels())\n",
        "\n",
        "# Create a color bar to indicate the scale\n",
        "cbar = heatmap.collections[0].colorbar\n",
        "cbar.ax.tick_params(labelsize=10)\n",
        "# Adjust padding between x-axis label and x-axis ticks\n",
        "plt.gca().xaxis.labelpad = 10  # Change the value as needed to adjust the space\n",
        "\n",
        "\n",
        "plt.show()"
      ],
      "metadata": {
        "trusted": true,
        "colab": {
          "base_uri": "https://localhost:8080/",
          "height": 0
        },
        "id": "gdN1GM92U_1w",
        "outputId": "0f92c9c9-412f-4393-e832-c236cd0be1c6"
      },
      "execution_count": 64,
      "outputs": [
        {
          "output_type": "display_data",
          "data": {
            "text/plain": [
              "<Figure size 400x300 with 2 Axes>"
            ],
            "image/png": "[encoded data removed]"
          },
          "metadata": {
            "image/png": {
              "width": 378,
              "height": 329
            }
          }
        }
      ]
    },
    {
      "cell_type": "markdown",
      "source": [
        "# **Predicting on LLM**"
      ],
      "metadata": {
        "id": "NF0KuWc2U_1x"
      }
    },
    {
      "cell_type": "code",
      "source": [
        "def get_predictions_for_new_dataset(address=\"/content/drive/MyDrive/NLP_course_AF/LLM_generated_news/gpt_gen.csv\", model=model, device=device, loss_fn=loss_fn, tokenizer=tokenizer):\n",
        "    ds_fd = pd.read_csv(address)\n",
        "    ds_fd['label'] = FAKE_CLASS\n",
        "\n",
        "    token_lens_new = []\n",
        "\n",
        "    for txt in ds_fd.text:\n",
        "      #tokenizing the text\n",
        "          tokens_new = tokenizer.encode(txt, max_length=512,truncation=True)\n",
        "          token_lens_new.append(len(tokens_new))\n",
        "\n",
        "    new_data_loader = create_data_loader(ds_fd, tokenizer, MAX_LEN, BATCH_SIZE)\n",
        "\n",
        "\n",
        "    new_acc, new_loss = eval_model(\n",
        "      model,\n",
        "      new_data_loader,\n",
        "      loss_fn,\n",
        "      device,\n",
        "      len(ds_fd)\n",
        "    )\n",
        "\n",
        "    return new_acc.item(), new_loss/len(ds_fd), get_predictions(model, new_data_loader)"
      ],
      "metadata": {
        "id": "3rLATWEZfwXN"
      },
      "execution_count": 67,
      "outputs": []
    },
    {
      "cell_type": "code",
      "source": [
        "get_predictions_for_new_dataset()"
      ],
      "metadata": {
        "colab": {
          "base_uri": "https://localhost:8080/"
        },
        "id": "moQIAckcgryX",
        "outputId": "5b657525-8959-4084-91dc-cb568da5335e"
      },
      "execution_count": 68,
      "outputs": [
        {
          "output_type": "stream",
          "name": "stderr",
          "text": [
            "/usr/local/lib/python3.10/dist-packages/torch/utils/data/dataloader.py:558: UserWarning: This DataLoader will create 4 worker processes in total. Our suggested max number of worker in current system is 2, which is smaller than what this DataLoader is going to create. Please be aware that excessive worker creation might get DataLoader running slow or even freeze, lower the worker number to avoid potential slowness/freeze if necessary.\n",
            "  warnings.warn(_create_warning_msg(\n",
            "Evaluating:   0%|          | 0/5 [00:00<?, ?batch/s]/usr/lib/python3.10/multiprocessing/popen_fork.py:66: RuntimeWarning: os.fork() was called. os.fork() is incompatible with multithreaded code, and JAX is multithreaded, so this will likely lead to a deadlock.\n",
            "  self.pid = os.fork()\n",
            "Evaluating: 100%|██████████| 5/5 [00:01<00:00,  3.52batch/s, loss=4.87]/usr/lib/python3.10/multiprocessing/popen_fork.py:66: RuntimeWarning: os.fork() was called. os.fork() is incompatible with multithreaded code, and JAX is multithreaded, so this will likely lead to a deadlock.\n",
            "  self.pid = os.fork()\n",
            "Evaluating: 100%|██████████| 5/5 [00:02<00:00,  2.37batch/s, loss=4.87]\n"
          ]
        },
        {
          "output_type": "execute_result",
          "data": {
            "text/plain": [
              "(0.4,\n",
              " 0.12171719789505005,\n",
              " ([\"On December 22, President Trump took to Twitter to highlight two significant developments: the passing of the tax cut bill and the signing of the missile defense legislation. Trump's tweets celebrated these achievements, emphasizing their importance for the nation. The tax cut bill represented a major legislative victory for the Trump administration, fulfilling a key campaign promise to overhaul the tax code. Likewise, the signing of the missile defense bill underscored Trump's commitment to bolstering national security and modernizing the country's defense capabilities. Trump's tweets served to communicate these accomplishments directly to the American people and showcase his administration's achievements in the realms of both economic policy and defense strategy.\",\n",
              "   \"Despite the challenge from Moore, Senator-elect Jones' certification as the winner of the U.S. Senate seat in Alabama signifies the official acknowledgment of the election results. This decision underscores the importance of upholding the democratic process and respecting the outcome of fair and transparent elections. It reaffirms the integrity of the electoral system and ensures that the will of the voters is upheld, despite any legal challenges or disputes.\",\n",
              "   \"As Republicans aim to leverage the economy for an election victory, voters in a crucial district have issued a warning. The electorate's message underscores the complexities of political sentiment and the need for candidates to address a range of issues beyond just economic indicators. This cautionary note from voters highlights the importance of nuanced and comprehensive policy platforms that resonate with the diverse concerns of constituents. As the election approaches, candidates would be wise to heed these warnings and craft strategies that address the full spectrum of voters' priorities.\",\n",
              "   \"New York Governor's questioning of the constitutionality of the federal tax overhaul raises significant legal and political concerns. This move reflects growing opposition among some state leaders to the Tax Cuts and Jobs Act passed by the Trump administration. By challenging the constitutionality of certain provisions, the governor is signaling a potential legal battle over states' rights and federal taxation powers. This development highlights the ongoing tensions between state and federal governments regarding tax policy and underscores the broader debate over the distribution of power in the United States.\",\n",
              "   'The U.S. House has approved $81 billion in funding for disaster aid, signaling a significant commitment to supporting communities affected by natural disasters. This substantial allocation reflects the urgent need to assist regions grappling with the aftermath of hurricanes, wildfires, and other calamities. The approval underscores bipartisan recognition of the severity of the situation and the importance of swift and robust assistance. The funding package is aimed at rebuilding infrastructure, providing relief to individuals and businesses, and bolstering disaster preparedness and response efforts. Its passage represents a critical step towards aiding communities in their recovery and resilience efforts.',\n",
              "   \"Congress has voted to avert a government shutdown by passing a stopgap spending bill, which has been sent to President Trump for approval. This bipartisan effort demonstrates a commitment to ensuring the uninterrupted operation of essential government services and programs. The passage of the stopgap measure provides temporary funding while lawmakers continue negotiations on a broader spending package. This decision reflects a pragmatic approach to governance, prioritizing stability and continuity in funding over partisan differences. President Trump's approval of the bill is expected to prevent a disruptive shutdown and maintain government operations until a long-term budget agreement can be reached.\",\n",
              "   'U.S. lawmakers are reportedly questioning a businessman who attended the 2016 Trump Tower meeting, according to sources familiar with the matter. The meeting, which has drawn intense scrutiny, involved several individuals with ties to Russia and members of the Trump campaign. Lawmakers are likely seeking insights into the nature of discussions held during the meeting and any potential connections between the Trump campaign and Russian efforts to influence the 2016 presidential election. The questioning underscores ongoing investigations into possible collusion or coordination between the Trump campaign and foreign entities, highlighting the complexity of unraveling the events surrounding the 2016 election.',\n",
              "   \"Mexico plans to review the necessity for tax changes following the reform in the United States, according to a document outlining the government's strategy. The review reflects Mexico's intention to assess the potential impact of U.S. tax reforms on its own fiscal policies. The document suggests a proactive approach to aligning Mexico's tax framework with changes in the global economic landscape. The review process underscores the importance of adapting to external developments to maintain competitiveness and stimulate economic growth. Mexico's commitment to evaluating tax policies demonstrates a willingness to adjust to evolving international dynamics while safeguarding its fiscal stability.\",\n",
              "   \"Senate Majority Leader Mitch McConnell anticipates a more collegial atmosphere in 2018, expressing optimism for increased bipartisan cooperation. McConnell's outlook suggests a willingness to bridge political divides and work towards common goals. The prospect of a more collegial Senate signals a departure from recent partisan tensions, offering hope for progress on key legislative priorities. McConnell's vision for a more cooperative environment reflects a desire to govern effectively for the American people. This shift towards collegiality bodes well for legislative productivity and the ability to address pressing issues facing the nation.\",\n",
              "   \"The House panel overseeing the January 6 Capitol riot has requested testimony from former top Trump aide Steve Bannon, as reported by Bloomberg. The committee seeks insight into Bannon's involvement leading up to the insurrection. Bannon's potential testimony could shed light on Trump's role in the events preceding the riot. The request is part of the committee's broader investigation into the events of January 6. Bannon's testimony is anticipated to provide critical information regarding the planning and execution of the Capitol breach. This move marks a significant development in the committee's efforts to uncover the truth behind the attack.\",\n",
              "   \"Senate Majority Leader Mitch McConnell appears to be more content with President Trump's tweets following a significant victory on tax reform. McConnell's satisfaction with Trump's social media activity suggests a newfound harmony between the two leaders. The tax victory may have bolstered McConnell's confidence in Trump's ability to advance the Republican agenda. Trump's tweets, once a source of contention within the GOP, are now viewed more favorably in light of legislative successes. This shift in perception underscores the importance of policy achievements in shaping intra-party dynamics. The alignment between McConnell and Trump signals a unified front within the Republican Party.\",\n",
              "   \"Senate Majority Leader Mitch McConnell appears to be more content with President Trump's tweets following a significant victory on tax reform. The committee seeks insight into Bannon's involvement leading up to the insurrection. The request is part of the committee's broader investigation into the events of January 6. Bannon's testimony is anticipated to provide critical information regarding the planning and execution of the Capitol breach. This move marks a significant development in the committee's efforts to uncover the truth behind the attack.\",\n",
              "   \"In a stunning revelation, the New York Times has reported that the FBI's investigation into Russian interference in the 2016 U.S. presidential election was significantly advanced by a tip-off from an Australian diplomat. This crucial piece of information came from Alexander Downer, Australia's then-High Commissioner to the United Kingdom. According to the report, Downer contacted American authorities in July 2016 after a conversation with George Papadopoulos, a foreign policy advisor to the Trump campaign. During a night out at a London bar, Papadopoulos allegedly told Downer that the Russians had damaging information on Hillary Clinton, the Democratic presidential candidate. This revelation came months before WikiLeaks released a trove of hacked emails from the Democratic National Committee. The tip from Downer prompted the FBI to open its investigation, codenamed Crossfire Hurricane, into potential collusion between the Trump campaign and Russian operatives. The inquiry eventually led to the appointment of Special Counsel Robert Mueller. The New York Times article details how Downer's information played a pivotal role in sparking the investigation. Without the Australian diplomat's timely intervention, the FBI might not have had the early impetus to launch such a comprehensive investigation, the report states. The revelation has reignited debates over the legitimacy and origins of the Russia probe. President Trump and his allies have repeatedly dismissed the investigation as a baseless witch hunt. However, the new details about the Australian diplomat's involvement provide a clearer picture of the investigation's early days and its foundations in credible intelligence. Reactions to the report have been swift. Democratic leaders have emphasized the importance of international cooperation in safeguarding democratic processes. This underscores the critical role that our allies play in maintaining the integrity of our elections, said Senator Mark Warner, Vice Chairman of the Senate Intelligence Committee. Conversely, some Republicans have seized on the report to question the FBI's decision-making process. Representative Devin Nunes, a vocal critic of the Russia probe, argued, This raises serious questions about how the FBI handled the information and whether there were any political motivations behind their actions. The Australian government has confirmed Downer's meeting with Papadopoulos and his subsequent communication with U.S. authorities, but has declined to comment further on the specifics of their interaction. Downer himself has refrained from making public statements on the matter. As the political fallout from this revelation continues to unfold, it adds yet another layer of complexity to the already contentious narrative surrounding the 2016 election and its aftermath. The role of international diplomacy and intelligence sharing in the investigation will likely be a focal point in ongoing discussions about election security and foreign interference.\",\n",
              "   \"In an unexpected development, officials in Virginia have announced the postponement of a scheduled lottery drawing intended to break the tie in a closely contested statehouse election. The race, which ended in an exact tie, has garnered significant attention due to its potential impact on the balance of power in the state legislature. Election officials cited the need for additional time to review and ensure the accuracy of the results before proceeding with the drawing. It is crucial that we uphold the highest standards of integrity and transparency in this process, stated the chair of the Virginia State Board of Elections. This delay will allow us to verify all aspects of the election and ensure that the final decision is beyond reproach. The delay has been met with mixed reactions from the candidates involved and their respective parties. The Republican candidate expressed frustration over the postponement, urging for a swift resolution to the impasse. The voters deserve to have their representation decided without unnecessary delays, he said. Meanwhile, the Democratic candidate welcomed the decision, emphasizing the importance of a thorough review. Every vote matters, and it's essential that we take the time to ensure that the outcome reflects the will of the people, she remarked. Political analysts suggest that the delay could add to the tension surrounding this pivotal election, but agree that ensuring the legitimacy of the result is paramount. The drawing, when it occurs, will determine which party holds the majority in the Virginia House of Delegates, making it a critical event for state politics. As the situation develops, both sides remain on edge, awaiting a final resolution to this highly consequential electoral tie.\",\n",
              "   \"On December 28, President Trump tweeted about Vanity Fair and Hillary Clinton. He criticized Vanity Fair for a video suggesting Hillary Clinton should take up knitting rather than considering a future in politics. Trump's tweet condemned Vanity Fair's suggestion as disrespectful to Clinton and claimed the magazine was way down in circulation. This tweet reflects Trump's continued engagement with social media to critique media outlets and political opponents.\",\n",
              "   \"Companies have been granted a grace period of up to a year for reporting changes stemming from the new U.S. tax bill, according to the Securities and Exchange Commission (SEC). This extension offers businesses additional time to adjust their reporting processes and ensure compliance with the updated tax regulations. The SEC's decision acknowledges the complexity of implementing the tax bill's provisions and aims to alleviate the burden on corporations as they navigate the changes. The extended reporting timeline provides companies with the opportunity to thoroughly review the implications of the tax bill on their financial statements and make necessary adjustments. This measure reflects a pragmatic approach to facilitating a smooth transition to the new tax framework while maintaining transparency and accuracy in financial reporting.\",\n",
              "   \"A U.S. appeals court has rejected a challenge to President Trump's voter fraud panel, delivering a legal victory to the administration's efforts to investigate alleged voter fraud in the United States. The court's decision dismisses claims that the panel's formation and activities violated federal law or infringed upon privacy rights. The ruling reaffirms the authority of the president to establish such commissions and underscores the importance of addressing concerns about the integrity of the electoral process. Despite the legal setback for opponents of the voter fraud panel, the broader debate over voting rights and election integrity continues to unfold, highlighting the complex intersection of law, politics, and democracy in America.\",\n",
              "   \"Peru's political landscape faces upheaval following a failed vote to oust President [Name]. The unsuccessful attempt to remove the president has sent shockwaves through the country's political establishment, sparking uncertainty and speculation about the future direction of governance. The failed impeachment vote highlights deep divisions within Peru's political elite and underscores the challenges of governing in a polarized environment. The aftermath of the vote is likely to fuel further political turmoil and intensify power struggles among competing factions. Amidst this uncertainty, Peru grapples with pressing economic and social issues, raising concerns about stability and governance effectiveness. The failed impeachment represents a pivotal moment in Peru's political history, with far-reaching implications for the nation's democratic institutions and future trajectory.\",\n",
              "   \"In an exclusive report, it has been revealed that the State Department has instructed refugee agencies to downsize their operations in the United States. This directive suggests a significant shift in the country's approach to refugee resettlement and reflects broader changes in immigration policy under the current administration. The downsizing of refugee operations raises concerns about the country's commitment to humanitarian efforts and its willingness to provide sanctuary to those fleeing persecution and violence. This development underscores the need for continued advocacy and support for refugees, even in the face of policy changes that may restrict resettlement opportunities.\",\n",
              "   \"The Alabama official's decision to certify Senator-elect Jones despite challenges underscores the integrity of the electoral process. It reflects adherence to legal procedures and respect for the will of the voters. This move ensures that the democratic principles of fair representation and accountability are upheld, regardless of political disagreements.\",\n",
              "   \"On December 26, President Trump took to Twitter to address two topics: Hillary Clinton and the Tax Cut Bill. In his tweets, Trump likely commented on Clinton's recent statements or actions, perhaps in relation to ongoing political debates or controversies. Additionally, Trump probably mentioned the Tax Cut Bill, emphasizing its positive impact on the economy or reiterating key points about its benefits for American taxpayers. Trump's use of Twitter to communicate directly with the public allows him to share his thoughts and opinions on various issues, shaping public discourse and influencing political narratives.\",\n",
              "   \"On December 27, President Trump tweeted about himself, Iraq, and Syria. He stated that while Democrats and the Fake News media constantly criticize his use of social media, he said it is the only way to get the truth out. Additionally, he touched on his decision to withdraw troops from Syria and his stance on Iraq, emphasizing that he campaigned on bringing American soldiers home and that Iraq can defend itself. These tweets highlight Trump's ongoing communication strategy through Twitter and his determination to fulfill his campaign promises regarding military interventions in the Middle East.\",\n",
              "   \"An exclusive report reveals that a U.S. memo has weakened guidelines aimed at protecting immigrant children in court proceedings, sparking concerns about the welfare of vulnerable minors within the immigration system. The memo's revisions potentially undermine safeguards designed to ensure fair treatment and humane treatment for immigrant children facing deportation hearings. Critics argue that these changes could leave children more vulnerable to exploitation and mistreatment during legal proceedings. The weakening of guidelines underscores ongoing debates over immigration policies and the treatment of asylum seekers and undocumented immigrants in the United States. This development raises questions about the government's commitment to upholding the rights and well-being of immigrant children within the legal system.\",\n",
              "   \"A federal judge has partially lifted President Trump's latest restrictions on refugees, marking a significant legal challenge to the administration's immigration policies. The judge's decision represents a setback for Trump's efforts to tighten restrictions on refugee admissions, particularly from certain countries. By partially lifting the restrictions, the court aims to uphold principles of fairness and due process for individuals seeking refuge in the United States. This ruling underscores the judiciary's role in scrutinizing executive actions and ensuring compliance with constitutional and legal standards. Despite the partial lifting of restrictions, the broader debate over refugee policy and immigration reform continues to unfold, reflecting ongoing tensions over national security and humanitarian concerns.\",\n",
              "   \"On December 28, President Trump did not tweet specifically about Global Warming according to available records. However, it's worth noting that Trump has previously made statements on climate change, often expressing skepticism about its existence or downplaying its significance. If you're interested in his previous statements on this topic or if there's anything else you'd like to know, feel free to ask!\",\n",
              "   \"President Trump has signed both the tax bill and the government spending bills into law, solidifying significant legislative achievements for his administration. The tax bill represents a landmark overhaul of the tax code, aimed at stimulating economic growth and providing relief to individuals and businesses. Its enactment fulfills a key campaign promise for Trump and marks a major policy victory for the Republican Party. Additionally, the government spending bills ensure continued funding for essential services and avert a potential government shutdown. Trump's signing of these bills underscores his commitment to advancing his agenda and delivering tangible results for the American people.\",\n",
              "   \"On December 21, President Trump took to Twitter to highlight two significant topics: tax cuts and home sales. In his tweets, Trump likely praised the recent passage of the tax cuts bill, emphasizing its benefits for the American economy and taxpayers. Additionally, he may have commented on the state of home sales, potentially highlighting positive trends or developments in the housing market. Trump's use of Twitter to discuss these issues allows him to directly communicate with the public and shape the narrative around key policy initiatives and economic indicators.\",\n",
              "   \"President Trump tweeted about his approval rating, highlighting a positive trend, likely referencing recent polls or news reports indicating a favorable approval rating. He also tweeted about Amazon, a frequent target of his criticism, potentially commenting on the company's business practices, its relationship with the United States Postal Service, or its founder, Jeff Bezos. These tweets reflect Trump's ongoing engagement with social media as a platform to communicate directly with the public, express his opinions, and shape the narrative surrounding his administration's policies and actions.\",\n",
              "   \"A second court has rejected President Trump's attempt to halt transgender individuals from enlisting in the military, dealing another blow to his administration's policy on transgender rights in the armed forces. The court's decision represents a setback for the Trump administration's efforts to implement a ban on transgender recruits, further complicating its stance on LGBTQ+ issues within the military. This ruling reinforces the principle of equal opportunity and nondiscrimination in military recruitment, affirming the rights of transgender individuals to serve their country. The ongoing legal challenges surrounding this issue highlight the complexity of balancing military readiness with inclusivity and diversity. Despite the setback, the Trump administration continues to face resistance to its transgender military policies, signaling ongoing debates over LGBTQ+ rights in the armed forces.\",\n",
              "   \"A second U.S. judge has blocked the Trump administration's birth control rules, dealing another legal blow to the administration's efforts to roll back contraceptive coverage under the Affordable Care Act. This ruling further underscores the importance of ensuring access to affordable reproductive healthcare for women across the country. The decision reflects concerns over the potential impact of the administration's rules on women's health and rights. It reaffirms the principle of reproductive autonomy and the obligation to provide comprehensive healthcare coverage to all Americans. As the legal battle over birth control regulations continues, the rulings highlight the judiciary's role in safeguarding access to essential healthcare services for millions of women.\",\n",
              "   \"A court has ruled that the Trump administration's travel ban should not apply to individuals with strong ties to the United States, marking a significant legal victory for those affected by the ban. The decision underscores the importance of considering individual circumstances and connections to the U.S. when implementing immigration policies. By exempting individuals with substantial ties to the country, the court aims to uphold principles of fairness and protect the rights of affected individuals and their families. This ruling represents a check on the administration's efforts to restrict travel based solely on nationality or origin, reaffirming the value of inclusivity and diversity in America's immigration system.\",\n",
              "   \"A U.S. court has rejected President Trump's attempt to halt transgender individuals from enlisting in the military beginning on January 1st. This decision marks a significant legal setback for the administration's policy regarding transgender individuals serving in the armed forces. The court's ruling underscores the importance of upholding principles of equality and nondiscrimination in military recruitment. Despite the rejection of Trump's bid, the broader debate over transgender rights and military service continues, highlighting ongoing tensions between civil rights and national security concerns.\",\n",
              "   \"The House panel overseeing the January 6 Capitol riot has requested testimony from former top Trump aide Steve Bannon, as reported by Bloomberg. The committee seeks insight into Bannon's involvement leading up to the insurrection. Bannon's potential testimony could shed light on Trump's role in the events preceding the riot. The request is part of the committee's broader investigation into the events of January 6. Bannon's testimony is anticipated to provide critical information regarding the planning and execution of the Capitol breach. This move marks a significant development in the committee's efforts to uncover the truth behind the attack.\",\n",
              "   \"Alabama is set to certify Democrat Doug Jones as the winner of the Senate election, marking a historic victory in the deeply conservative state. Jones' certification represents a significant political upset, flipping a traditionally Republican seat. The certification process solidifies Jones' legitimacy as the duly elected senator from Alabama. This outcome underscores the shifting political landscape and the potential for Democrats to make inroads even in traditionally red strongholds. Jones' win is expected to reverberate across the political spectrum, reshaping the dynamics of power in Washington. His certification heralds a new era of representation for Alabama constituents.\",\n",
              "   \"The man's claim of delivering manure to Mnuchin as a protest against the new U.S. tax law underscores the depth of public sentiment surrounding this controversial legislation. This act of civil disobedience symbolizes the frustration and opposition felt by some Americans towards the tax overhaul and its perceived benefits for the wealthy. While unconventional, such protests serve as a reminder of the power of individual activism in expressing dissent and holding government officials accountable for their actions.\",\n",
              "   \"In a move that could set the stage for intense political negotiations, the White House and Congress are gearing up for comprehensive talks on two of the most contentious issues in American politics: federal spending and immigration reform. With the government facing looming budget deadlines and ongoing debates over immigration policy, these discussions are expected to be both crucial and highly charged. President Joe Biden has signaled his administration’s readiness to engage with congressional leaders from both parties to find common ground on these pressing issues. We need to come together and address the challenges facing our nation, Biden said in a recent statement. From ensuring fiscal responsibility to reforming our immigration system, it's time to work across the aisle and deliver results for the American people. On the spending front, the upcoming talks will focus on averting a potential government shutdown by reaching an agreement on the federal budget. Key issues include funding for healthcare, infrastructure, and defense, as well as addressing the national debt. Republicans are expected to push for spending cuts and fiscal restraint, while Democrats aim to secure funding for social programs and economic recovery initiatives. House Speaker Kevin McCarthy has expressed a willingness to negotiate but emphasized the need for fiscal prudence. We must ensure that any spending agreement is sustainable and does not burden future generations with excessive debt, McCarthy stated. Our priority is to balance the need for essential services with responsible budget management. In parallel, immigration reform is set to be a major topic of discussion. The Biden administration has proposed a comprehensive immigration plan that includes a pathway to citizenship for undocumented immigrants, increased border security measures, and reforms to the legal immigration system. The proposal has faced significant opposition from Republicans, who argue that it does not do enough to address border security and could incentivize illegal immigration. Senate Minority Leader Mitch McConnell has called for a more stringent approach, focusing on securing the borders and enforcing existing immigration laws. We need an immigration system that prioritizes the safety and security of American citizens, McConnell said. Any reform must include robust measures to prevent illegal immigration and ensure that our laws are respected. As negotiations begin, both sides acknowledge the challenges ahead. The political climate in Washington remains deeply polarized, and finding consensus on these complex issues will require substantial compromise. However, there is also a sense of urgency, as failing to address these matters could have significant consequences for the country. Political analysts suggest that the outcome of these talks could have far-reaching implications for the Biden administration and the broader legislative agenda. Successful negotiations could pave the way for further bipartisan cooperation, while a breakdown could lead to increased political gridlock and public frustration. As the White House and Congress prepare to engage in these critical discussions, the eyes of the nation will be on Washington, watching to see if leaders can rise above partisan divides and forge solutions that benefit all Americans.\",\n",
              "   \"Treasury Secretary Mnuchin reportedly received a gift-wrapped box of horse manure, according to multiple reports, in what appears to be a provocative act of protest or criticism. The unusual delivery highlights the intensity of political divisions and the contentious nature of current public discourse. While the motive behind the gesture remains unclear, it serves as a reminder of the heightened tensions surrounding key figures in the Trump administration. The incident underscores the lengths to which some individuals are willing to go to express dissent or frustration with government officials. Mnuchin's receipt of the unusual package is likely to draw attention and spark debate about the appropriate forms of protest in a democracy.\",\n",
              "   \"In a controversial move, President Donald Trump has called for the United States Postal Service (USPS) to significantly increase its rates for shipping packages, specifically targeting e-commerce giant Amazon. Trump’s directive, announced via a series of tweets, has reignited a long-standing feud with Amazon and its CEO, Jeff Bezos. Why is the United States Post Office, which is losing many billions of dollars a year, charging Amazon and others so little to deliver their packages, making Amazon richer and the Post Office dumber and poorer? Trump tweeted. Raise the prices now! The President's demand comes amid broader criticisms of Amazon's business practices and Bezos, who also owns The Washington Post, a frequent target of Trump’s attacks on the media. Trump argues that Amazon benefits from the USPS’s low shipping rates, which he claims are financially unsustainable for the postal service. Economic analysts and industry experts have been quick to respond. Many argue that increasing shipping rates could have far-reaching consequences for both the USPS and the e-commerce industry. “Raising shipping costs might hurt Amazon initially, but it would also negatively impact small businesses and consumers who rely on affordable postal services,” said Lisa Stevens, a logistics expert at Harvard University. “The USPS’s pricing model is designed to cover costs, and any drastic changes could disrupt the entire postal ecosystem.” The USPS has been struggling financially for years, with declining mail volumes and rising pension and healthcare costs. However, package delivery, driven in large part by e-commerce, has been a growing and profitable segment. Critics of Trump’s proposal argue that targeting Amazon could backfire, reducing the USPS’s competitive edge in the package delivery market. Amazon has not issued an official response to the President’s latest remarks. However, sources within the company suggest that Amazon could explore alternative shipping options, including expanding its own logistics network or increasing its use of private carriers like UPS and FedEx, should USPS rates become prohibitive. Politicians on both sides of the aisle have weighed in on the issue. Some Republican lawmakers support Trump’s call for a review of USPS pricing policies, while many Democrats have condemned it as an attack on a successful American business and a public service. Senator Elizabeth Warren tweeted, The President's vendetta against Amazon is harmful and misguided. We need to support our postal workers and ensure the USPS remains a viable service for all Americans. As the debate over postal rates and e-commerce intensifies, the potential impacts on consumers, businesses, and the postal service itself remain uncertain. What is clear, however, is that Trump’s directive has brought renewed attention to the financial challenges facing the USPS and the complex relationship between government services and private enterprise in the digital age.\",\n",
              "   \"The House has expanded its ethics investigation to encompass Representative Farenthold's campaign activities, signaling a deepening scrutiny into his conduct. This move underscores the seriousness with which lawmakers are addressing allegations of impropriety and potential violations of ethical standards. By widening the probe to include Farenthold's campaign work, the House aims to ensure a thorough examination of all relevant aspects of his behavior. The investigation highlights the importance of accountability and transparency in maintaining public trust and upholding the integrity of the congressional institution.\",\n",
              "   'Postponing the lottery drawing to decide the tied statehouse election in Virginia reflects a commitment to ensuring the integrity and accuracy of the electoral process. Given the significance of the outcome for political representation and governance, officials are taking prudent steps to resolve the deadlock fairly and transparently. This decision underscores the importance of upholding democratic principles and respecting the rights of all voters involved.'],\n",
              "  tensor([1, 0, 1, 0, 0, 0, 0, 0, 1, 0, 1, 0, 1, 1, 1, 0, 0, 1, 0, 0, 1, 1, 0, 0,\n",
              "          1, 0, 1, 1, 0, 0, 0, 0, 0, 1, 1, 0, 1, 0, 0, 0]),\n",
              "  tensor([[5.2732e-04, 9.9947e-01],\n",
              "          [9.9983e-01, 1.6682e-04],\n",
              "          [1.0107e-03, 9.9899e-01],\n",
              "          [9.9984e-01, 1.5549e-04],\n",
              "          [9.9992e-01, 7.8282e-05],\n",
              "          [9.9985e-01, 1.5272e-04],\n",
              "          [9.9988e-01, 1.1857e-04],\n",
              "          [9.9990e-01, 9.9162e-05],\n",
              "          [2.8954e-04, 9.9971e-01],\n",
              "          [9.9903e-01, 9.7377e-04],\n",
              "          [1.9532e-04, 9.9980e-01],\n",
              "          [9.9951e-01, 4.9203e-04],\n",
              "          [5.3138e-05, 9.9995e-01],\n",
              "          [1.6490e-05, 9.9998e-01],\n",
              "          [1.5296e-04, 9.9985e-01],\n",
              "          [9.9992e-01, 7.9224e-05],\n",
              "          [9.9942e-01, 5.7589e-04],\n",
              "          [1.1961e-03, 9.9880e-01],\n",
              "          [9.9738e-01, 2.6154e-03],\n",
              "          [9.9981e-01, 1.8858e-04],\n",
              "          [4.7197e-04, 9.9953e-01],\n",
              "          [1.7015e-05, 9.9998e-01],\n",
              "          [9.9970e-01, 2.9723e-04],\n",
              "          [9.9901e-01, 9.8731e-04],\n",
              "          [2.4891e-05, 9.9998e-01],\n",
              "          [9.9764e-01, 2.3622e-03],\n",
              "          [1.3476e-04, 9.9987e-01],\n",
              "          [1.3593e-04, 9.9986e-01],\n",
              "          [9.8023e-01, 1.9772e-02],\n",
              "          [9.9953e-01, 4.6726e-04],\n",
              "          [9.9982e-01, 1.8410e-04],\n",
              "          [9.9991e-01, 8.6672e-05],\n",
              "          [9.9903e-01, 9.7377e-04],\n",
              "          [5.6047e-04, 9.9944e-01],\n",
              "          [5.2781e-04, 9.9947e-01],\n",
              "          [9.9998e-01, 2.3703e-05],\n",
              "          [1.3676e-04, 9.9986e-01],\n",
              "          [9.9998e-01, 1.6814e-05],\n",
              "          [9.9953e-01, 4.7315e-04],\n",
              "          [9.9964e-01, 3.6039e-04]]),\n",
              "  tensor([1, 1, 1, 1, 1, 1, 1, 1, 1, 1, 1, 1, 1, 1, 1, 1, 1, 1, 1, 1, 1, 1, 1, 1,\n",
              "          1, 1, 1, 1, 1, 1, 1, 1, 1, 1, 1, 1, 1, 1, 1, 1])))"
            ]
          },
          "metadata": {},
          "execution_count": 68
        }
      ]
    },
    {
      "cell_type": "code",
      "source": [
        "get_predictions_for_new_dataset(address=\"/content/drive/MyDrive/NLP_course_AF/LLM_generated_news/claude_gen.csv\")"
      ],
      "metadata": {
        "colab": {
          "base_uri": "https://localhost:8080/"
        },
        "id": "JqgEgQhgv9Es",
        "outputId": "38e48ddf-b5b0-44d3-bbd9-fc05036c4c7c"
      },
      "execution_count": 69,
      "outputs": [
        {
          "output_type": "stream",
          "name": "stderr",
          "text": [
            "/usr/local/lib/python3.10/dist-packages/torch/utils/data/dataloader.py:558: UserWarning: This DataLoader will create 4 worker processes in total. Our suggested max number of worker in current system is 2, which is smaller than what this DataLoader is going to create. Please be aware that excessive worker creation might get DataLoader running slow or even freeze, lower the worker number to avoid potential slowness/freeze if necessary.\n",
            "  warnings.warn(_create_warning_msg(\n",
            "Evaluating:   0%|          | 0/4 [00:00<?, ?batch/s]/usr/lib/python3.10/multiprocessing/popen_fork.py:66: RuntimeWarning: os.fork() was called. os.fork() is incompatible with multithreaded code, and JAX is multithreaded, so this will likely lead to a deadlock.\n",
            "  self.pid = os.fork()\n",
            "Evaluating: 100%|██████████| 4/4 [00:01<00:00,  3.09batch/s, loss=2.13]\n"
          ]
        },
        {
          "output_type": "execute_result",
          "data": {
            "text/plain": [
              "(0.75,\n",
              " 0.06659169611521065,\n",
              " ([\"President Donald Trump expressed confidence that the special counsel investigation into Russian interference in the 2016 election will be fair, but said he has no idea how long the probe will last, according to an interview with The New York Times. I have absolute right to do what I want to do with the Justice Department, Trump said, before adding, But for purposes of hopefully thinking I'm going to be treated fairly, I've stayed uninvolved. The comments come amid heightened tensions between the White House and the investigation team led by Robert Mueller. Trump's lawyers have been negotiating terms for the president to agree to an interview with Mueller's team as part of the widening probe. However, Trump declined to say when a potential interview could occur. I'll see what happens, Trump told the Times when asked about being interviewed. When they have no collusion and nobody has found any collusion at any level, it seems unlikely that you'd even have an interview. The president also did not rule out the possibility of firing Mueller, though he added I'm not saying I'm going to do it. Trump has repeatedly referred to the investigation as a witch hunt and denied any collusion between his campaign and Russia. For his part, Mueller has secured charges against four former Trump campaign associates so far related to the Russia probe. He's also investigating whether Trump obstructed justice by firing former FBI Director James Comey last year. Trump said he could have taken a heavier hand with the Justice Department, but believes that would have created too many problems politically. He said he hopes the investigation can go ahead and go ahead with the interviews.\",\n",
              "   \"A senior Republican senator issued a stern warning to President Trump and his allies amid escalating attacks on special counsel Robert Mueller's Russia investigation – urging them to allow Mueller to complete his probe without interference. The country needs to get the facts out there, and Mr. Mueller and his team should do their jobs, said Senator Thom Tillis of North Carolina in an interview. When they get done with this investigation, that report needs to be public. Tillis, a member of the Senate Judiciary Committee, is adding his voice to a growing chorus of Republican legislators counseling against firing Mueller. His remarks come as some pro-Trump conservatives have intensified criticism of the special counsel, accusing his team of political bias. The White House has denied any intention of firing Mueller amid speculation Trump was considering dismissing him over alleged conflicts of interest. But the attacks on Mueller's credibility have nonetheless fueled concerns he could be dismissed before completing his investigation into Russian interference and potential collusion with Trump's 2016 campaign. I would never support dismissing Mr. Mueller unless there were constitutional reasons to do so, said Tillis, who said Mueller should be allowed to see his probe through to its conclusion unimpeded. Other key GOP senators have issued similar warnings in recent days, underscoring there could be severe backlash from Congress if Trump attempts to remove Mueller from his post.\",\n",
              "   'U.S. congressional investigators have renewed efforts to speak directly with a Russian businessman who attended a meeting at Trump Tower in June 2016 arranged by Donald Trump Jr., two sources familiar with the matter said on Friday. Investigators for the U.S. House of Representatives Intelligence Committee want to question Ike Kaveladze, an American based in Russia who works for a Russian developer with ties to the Kremlin, as part of their probe of Russian meddling in the 2016 U.S. election, the sources said. Kaveladze attended the June 9, 2016 meeting after being included on emails setting it up on the promise of providing information that would be damaging to Democratic presidential candidate Hillary Clinton.',\n",
              "   \"The U.S. Justice Department has issued a memo that seeks to undermine guidelines that have protected immigrant children who enter the United States without a parent or legal guardian, according to a copy of the memo obtained by Reuters. The internal memo from the Justice Department's Office of Legal Counsel dated June 30 reviewed a longstanding 1997 legal opinion on the treatment of unaccompanied alien children by immigration authorities. That earlier memo delineated certain due process and child protection standards for immigrant minors. However, the new memo from the Trump administration states that many of the prior guidelines outlined in the 1997 opinion are no longer applicable, opening the door for officials to potentially remove some of those protections. The guidelines at issue stem from a 1997 legal opinion and settlement governing how to handle minors who enter the country illegally without parents or guardians and are placed in federal custody while their immigration cases are decided. Critics argue the new memo potentially paves the way for weakening protections for vulnerable immigrant children.\",\n",
              "   \"A U.S. appeals court on Thursday rejected for lack of standing a lawsuit alleging that President Donald Trump's commission on election fraud launched after he claimed without evidence that millions had voted illegally in 2016 was biased against voters of color. The ruling by the 5th U.S. Circuit Court of Appeals in New Orleans was a victory for the administration, which disbanded the commission in January 2018 before it could issue a final report, and members of the panel including Vice President Mike Pence and Kansas Secretary of State Kris Kobach. The lawsuit was filed by former members of the now-dissolved commission, the NAACP civil rights group and the Mexican American Legislative Caucus of the Texas House of Representatives. They had alleged the commission was stacked with Republicans and pursuing baseless claims of voter fraud as a pretext to facilitate efforts to suppress voting in particular by minority voters.\",\n",
              "   \"After securing a major legislative victory with the passage of a sweeping tax overhaul, Senate Majority Leader Mitch McConnell indicated he was more comfortable with President Donald Trump's prolific use of Twitter. In an interview on Dec. 22, 2017, McConnell said he was a little more relaxed about Trump's tweets following the tax bill's approval, which represented the Republican party's first major policy achievement under Trump. It's certainly been a lot of fun for a lot of you in the media to follow his tweets, but at this particular point, we've actually gotten the tax bill passed despite the obstructionism of the Democrats, McConnell told reporters. McConnell had previously expressed concerns about Trump's frequent and often inflammatory tweets, worrying they could derail the Republican agenda in Congress. However, after the tax win, the Senate leader seemed more at ease with Trump's social media habits. I don't nitpick every tweet, as you've seen in the past, McConnell stated. But on the whole, achieving this extraordinarily difficult goal of tax reform - nobody thought we could do it - I think it's been helpful. McConnell's relaxed tone reflected a sense of accomplishment among Republicans after securing Trump's top legislative priority before the end of his first year in office.\",\n",
              "   \"A failed attempt by Peru's opposition to oust President Pedro Castillo has shaken up the country's turbulent politics and raised new uncertainties about the leader's ability to govern. Castillo survived an impeachment vote by Congress late on March 28th after allegations of corruption and permanent moral incapacity, with 55 lawmakers voting in favor, 54 against and 19 abstaining – falling short of the 87 votes needed to remove him from office. The political crisis laid bare bitter divisions between Castillo and the opposition-led Congress, which has accused him of actively undermining democracy barely eight months into his term. Castillo, a former teacher and member of a Marxist party, has decried what he calls efforts to unseat him almost since he took power in July last year. The impeachment process has stirred fresh protests by supporters and opponents of Castillo, who has struggled to cement his authority over a fragmented Congress determined to make him a lame duck leader. The standoff has heightened fears of prolonged instability in the world's No. 2 copper producer and raised questions about the 52-year-old president's ability to galvanize support from a divided country.\",\n",
              "   \"Mexico will review its tax laws to ensure its fiscal policy is competitive with the broad tax overhaul just enacted in the United States, according to a government document seen by Reuters on Dec. 26, 2017. The document, from Mexico's finance ministry, said the government would analyze whether tax changes were needed to respond to the U.S. tax reform signed into law by President Donald Trump. The reforms cut the U.S. corporate tax rate to 21 percent from 35 percent, potentially making it harder for Mexico to compete in attracting new investment. Mexico has aimed to lure manufacturing investment by offering lower labor costs and corporate tax rates than the United States. However, the U.S. tax overhaul narrows that advantage. The Mexican finance ministry document noted that pressure to remain competitive could require updating Mexico's tax rules and rates. But it cautioned that any reforms must avoid disruptions to public finances, which depend heavily on income from state oil company Pemex. The document said the government would specifically study adjusting corporate tax rates, allowing immediate deductions for investments to stimulate business spending, and providing tax incentives to boost reinvestment of profits in Mexico.\",\n",
              "   \"After years of railing against rising federal deficits under Democratic presidents, Republicans in Congress have shifted their rhetoric now that a Republican occupies the White House. With the national debt topping $31 trillion and growing, the fiscal hawks who demanded spending cuts and balanced budgets during the Obama and Biden administrations have gone silent. Instead, many Republicans are pushing for stronger military spending and extensions of tax cuts that would add more red ink. They have shown little appetite for reining in expenditures on Medicare, Social Security and other expensive safety net programs. The party's priorities appear to be tax cuts, boosting defense, and avoiding unpopular spending reductions rather than fiscal rectitude. The about-face reflects the typical reversal that occurs when a party assumes the presidency. Governing tends to soften once-rigid ideological stances. But it still marks a striking pivot from the Republican mantra that budget deficits represent generational theft that must be paid by future generations through higher taxes. The looming fight over the federal budget and the need to raise the debt ceiling present an acute test of Republican convictions on spending and deficits. Party leaders must decide whether to make good on campaign trail rhetoric about fiscal restraint or to keep punting on hard choices as their predecessors often did.\",\n",
              "   \"The White House and Republican leaders in Congress are gearing up for high-stakes negotiations over federal spending and immigration policy as the new year begins. With budget caps expiring and just months until midterm elections, the pressure is on to strike deals to fund the government and resolve the status of hundreds of thousands of young undocumented immigrants. Top priorities for the White House include boosting military spending, funding the border wall, and finding a solution for recipients of the Deferred Action for Childhood Arrivals (DACA) program. President Trump ended DACA last year but gave Congress until March to legislate a replacement. Democrats are insisting that protections for DACA recipients be included in any spending bill. They also want equal increases for non-defense spending to match any extra funds for the Pentagon. The negotiations set up a series of fiscal battles that could lead to a government shutdown if compromises cannot be reached. Both sides know the political consequences of a funding lapse ahead of nationwide congressional elections in November. Key players are already staking out positions. The White House said it wants $33 billion in additional defense spending and $18 billion for border security, including initial funds for the wall. Democrats called those numbers unacceptable. Lawmakers must agree to raise strict budget caps before undertaking longer-term spending negotiations. The last caps expire on January 19, after which a series of stopgap funding bills have been needed to keep agencies open. With control of Congress at stake, each party is looking to take a win into the campaign season on top issues like immigration and spending priorities. But the talks will test Washington's ability to overcome its perpetual gridlock.\",\n",
              "   \"A U.S. appeals court ruled on Thursday that President Donald Trump's latest travel ban on people entering the United States from six Muslim-majority countries should not be applied to people with close ties to the country. The 9th U.S. Circuit Court of Appeals granted in part a request from the state of Hawaii for a more expansive exemption from Trump's directive blocking most people from Syria, Libya, Iran, Yemen, Chad and Somalia from traveling to the United States. The ruling means that people with close relatives already living in the U.S. cannot be barred from entry under Trump's order, which took effect in December. However, the appeals court upheld part of Trump's order that imposed a blanket ban on immigrants from the targeted countries unless they had ties to the U.S. such as a job or family connection. The court said its partial ruling exempting people with close U.S. ties would remain in place pending appeal.\",\n",
              "   \"A California man claims he was behind the delivery of a box filled with horse manure addressed to U.S. Treasury Secretary Steven Mnuchin's Los Angeles home on Saturday. The man, who identified himself as a psychological operations officer in the Army reserves, said the gift-wrapped package was meant to protest the new Republican tax law. I wanted to send a message, the man told local news station KPCC. People in Congress are being rewarded with millions for their votes on the tax bill from billionaires and corporations and the rest of us are going to get shafted. The man, who requested anonymity, said he used a rental truck to drop off the box labeled Christmas gift in the upscale neighborhood of Bel Air where Mnuchin lives. The box was discovered by a neighbor, who alerted authorities. Los Angeles police spokesman Zak Djerrahian confirmed that a pretty good bulk of manure was inside the package. He said the incident was under investigation. Secret Service agents were also reportedly looking into the matter as a potential security threat to the Treasury chief. In a statement, a spokesperson for the Treasury Department condemned the delivery as unacceptable, saying officials would pursue all legal options against those responsible. The self-described operation officer defended his actions, saying the protest was non-violent but intended to make a strong statement about the new tax code's perceived favoring of the wealthy. With the GOP tax bill considered a giant gift to the richest Americans, I decided to give Mnuchin just a small token of my appreciation, he told KPCC. The $1.5 trillion tax overhaul, which President Trump signed into law last week, lowers rates for corporations and provides temporary tax cuts for some individuals. Critics argue it disproportionately benefits companies and high-earners over the working class.\",\n",
              "   \"New York Governor Andrew Cuomo sharply criticized the newly-passed federal tax overhaul on Friday, questioning whether key provisions may violate the U.S. Constitution. Cuomo said his state is considering legal action over elements he termed an economic civil war. The Democrat took particular aim at the tax bill's $10,000 cap on the deductibility of state and local taxes from federal taxable income. This could substantially increase taxes for many New Yorkers with high property and income taxes. This was an offensive move by the federal government to help Republican states at the cost of Democratic states, Cuomo said at a cabinet meeting in Albany. That's a clear violation of constitutional principles. Cuomo argued the state tax deduction cap unfairly targeted a group of states in violation of constitutional requirements for equal protection and the prohibition of discrimination among states by the federal government. The third-term governor predicted a disproportionate number of tax increases in New York, New Jersey, California and other high-tax states as a result. He claimed the provision effectively rewarded Republican-controlled states with lower taxes at the expense of Democratic-led ones. Cuomo said multiple legal theories were being explored to challenge the constitutionality of the cap, possibly joined by other states. Options included invoking the 10th Amendment's reservation of states' rights and equal protection arguments under the 14th Amendment. The governor warned that retaliatory action was also on the table if the tax overhaul stood as passed. One idea would be restructuring New York's tax code to shift to payroll tax collection as opposed to income taxes as a workaround to the deduction cap. This is a dagger at the economic heart of New York, Cuomo declared, vowing not to let the tax changes pass unchallenged from Albany.\",\n",
              "   \"President Donald Trump signed Republicans' massive $1.5 trillion tax overhaul into law on Dec. 22, 2017, cementing the biggest legislative victory of his first year in office, and also averted a government shutdown by signing a short-term spending bill. At a hastily organized event at the White House, Trump celebrated with Republican lawmakers, crediting them for the largest tax cut in the history of our country. The tax legislation cuts the U.S. corporate income tax rate to 21 percent from 35 percent, which Republicans say will spur economic growth and jobs. It also temporarily reduces tax rates for most individuals through 2025, provides a new tax credit for companies that bring cash back from overseas, and opens up the Arctic National Wildlife Refuge to oil drilling. On the spending bill, Trump said Americans could rest assured the military will be incredibly well-funded after signing a stopgap bill keeping the government operating through Jan. 19. The sweeping tax package sets the Republican-controlled Congress up for yet another challenging legislative fight in early 2018 over spending priorities and immigration policy.\",\n",
              "   \"On Friday, On Friday, December 29th, President Donald Trump took to Twitter to comment on his approval rating and to renew his attacks on Amazon.com Inc. and the U.S. Postal Service. Approval Rating In an early morning tweet, Trump touted his accomplishments and said: While the Fake News loves to talk about my so-called low approval rating, @foxandfriends just showed that my rating on Dec. 28, 2017, was approximately the same as President Obama on Dec. 28, 2009, which was 47%...and this despite massive negative Trump coverage. The president appears to be citing a Fox News graphic comparing his approval rating from different polls to where former President Obama stood eight years earlier. Most reputable approval trackers have shown Trump's rating in the mid-to-low 30s for an extended period. Amazon/Postal Service In a pair of tweets, the president targeted Amazon, claiming the tech giant is taking advantage of the U.S. Postal Service. He stated: Why is the United States Post Office, which is losing many billions of dollars a year, while charging Amazon and others so little to deliver their packages, making Amazon richer and the Post Office dumber and poorer? Should be charging MUCH MORE! Trump has long criticized Amazon and CEO Jeff Bezos over issues like taxes, jobs and Amazon's business practices. His latest salvos seem to reassert his view that the Postal Service should raise rates on Amazon and other major shippers. The tweets come at a time when the administration is conducting an audit of the Postal Service's costs from delivering packages for companies like Amazon. The Postal Service has pushed back, saying its contractual relationships with Amazon and others provide profitable revenue. Trump ended his tweetstorm by writing: It is reported that the U.S. Post Office will lose $1.50 on average for each package it delivers for Amazon. That amounts to Billions of Dollars. He did not cite a source for this claim.\",\n",
              "   'President Donald Trump took to Twitter on Dec. 22, 2017 to celebrate the passage of the Republican tax overhaul bill, calling it a massive tax cut for working families across America. He hailed the bill as the the largest tax cut in the history of our country. In a series of tweets, Trump also praised the House for approving a missile defense policy bill that included new sanctions against North Korea and expressed confidence it would also pass the Senate. The $1.5 trillion tax bill slashed the corporate rate to 21 percent from 35 percent and temporarily cut taxes for most households. Trump touted it as a monumental victory and the biggest tax cuts and reform in American history. However, the individual income tax rate reductions expire after 2025 and economists project the debt-financed tax cuts could add over $1 trillion to annual deficits over the coming decade. Trump also trumpeted the missile defense bill, which aims to further squeeze North Korea amid the nuclear crisis and restructure U.S. missile defenses. Missile Defense Bill passed by the House, sending a massive security enhancement over to the Senate, he tweeted. Must get NATO nations to pay MORE, getrid of the deficits.',\n",
              "   \"Shortly after signing landmark tax cut legislation into law, President Donald Trump resumed his Twitter campaign against former opponent Hillary Clinton on Dec. 26, 2017, writing that Clinton was the biggest whiner in U.S. history after losing the 2016 election but expressing hope that Clinton's recent involvement on the speaking circuit would end up being good money. The comments marked Trump's latest Twitter broadside against his vanquished opponent nearly 14 months after their bitter campaign ended. Earlier in December, Trump revived his Crooked Hillary nickname for Clinton and called her the biggest loser of all time. His decision to sign the tax overhaul into law before heading to Florida for the holidays had put Trump in a self-congratulatory mood.\",\n",
              "   \"Democrat Doug Jones was officially certified as the winner of Alabama's U.S. Senate special election Thursday, despite last-ditch efforts by his Republican opponent Roy Moore to contest the result. Alabama's Republican Secretary of State John Merrill stamped his seal on Jones' victory, officially making the former federal prosecutor the first Democrat to win an Alabama Senate seat in a quarter-century. I legally certified him as the senator for the state of Alabama, Merrill told reporters after the certification. He said his office had investigated all allegations of voter fraud and irregularities made by Moore's campaign but found no evidence to initiate a recount or challenge the outcome. Moore, the controversial former state chief justice, had refused to concede since losing the Dec. 12 election to Jones by nearly 22,000 votes. His campaign pushed unsubstantiated claims of voter intimidation and fraud, while polls showed Moore should have won the deep-red state. However, no court found reason to delay certification. A judge rejected Moore's suit seeking a vote-by-vote recheck, saying he had not provided constitutional frailties to warrant such an inspection. The final certification capped a bitter contest that saw allegations of sexual misconduct with teenagers overshadow Moore's campaign. His defeat was an embarrassment for Republicans who had rallied behind the 70-year-old culture warrior despite the accusations. Jones' victory trims the GOP Senate majority to 51-49. His term will run through January 2021, when he would have to run again for a full six-year term. The Democrat struck a unifying tone after the certification, saying he was terribly grateful for the opportunity to serve everybody. Meanwhile, Moore maintained the Senate race had been tainted by outside groups favoring Jones.\",\n",
              "   \"The U.S. Securities and Exchange Commission said on Friday that public companies will have up to a year to take advantage of a new accounting standard on tax-bill reporting after President Donald Trump signed a sweeping tax overhaul into law. The Public Company Accounting Oversight Board previously said companies would need to report the impact of the new Republican tax law in the quarterly and annual reports they prepare in the coming weeks. But in light of the potential magnitude of U.S. companies recalculating their taxes, the SEC said on Friday it would give companies more time. Companies now have a year to finalize accounting for taxes under the new law, which slashes the corporate income tax rate to 21 percent from 35 percent. The SEC said it will allow companies during that period to record reasonable estimates of taxes and report revised figures over the course of up to a year after the tax law's official Dec. 22 enactment date. The delay provides companies some leeway as they work to crunch numbers detailing both the reduction in their tax liabilities going forward and the immediate taxes due on past overseas profits being brought home.\",\n",
              "   \"A second federal court rejected the Trump administration's request to put on hold an order allowing transgender people to join the U.S. military starting Jan. 1, dealing another legal blow to President Donald Trump's bid to bar transgender troops from serving. U.S. District Judge Marvin Garbis in Baltimore ruled that the administration had failed to show why a stay of the policy change was warranted while it pursued an appeal. Last week, a federal judge in Washington also denied the government's request to delay an order allowing transgender military recruits to join the armed forces, setting the stage for the policy to take effect in the new year. The rulings represent setbacks for Trump, who announced in July that he would reverse course and ban transgender individuals from the military in order to avoid tremendous medical costs and disruption. The announcement upended a policy approved by the Defense Department in 2016 under former President Barack Obama to allow transgender people to serve.\",\n",
              "   \"The U.S. military will begin allowing transgender recruits to join its ranks on Monday, following an order from a federal judge that rejected the Trump administration's request to continue a ban. The Department of Defense has agreed to remain obligated to preserve and protect the rights of prospective recruits under the court orders as they currently exist, said Pentagon spokeswoman Jessica Maxwell. The decision comes after U.S. District Judge Colleen Kollar-Kotelly ruled in October that the transgender service member ban, originally approved by President Donald Trump in 2017, was likely unconstitutional. The judge subsequently declined to put that decision on hold in December, after the administration provided revised reasons for banning transgender recruits. Under previous rules, transgender individuals were precluded from joining the military. However, those already serving were allowed to continue doing so and receive hormone treatment and gender-transition surgery. The Trump administration had argued that the integration of transgender recruits could impact military readiness and effectiveness. Critics countered that thousands of transgender individuals already serving had not undermined the military's lethality. While the Pentagon will comply with the court order, it leaves open the possibility of future legal challenges over the issue by the Trump administration. More than a dozen other countries, including Israel, Sweden and the United Kingdom, already allow transgender personnel to serve openly.\",\n",
              "   \"Alabama's Republican Secretary of State John Merrill plans to certify Democrat Doug Jones' victory in the U.S. Senate election today, according to CNN. This comes despite a last-ditch effort by Roy Moore, the defeated Republican candidate, to challenge the result. Merrill told CNN that his office investigated reports of voter fraud from Moore's campaign, but found no evidence to prompt a recount or further delays in certifying Jones as the winner. Our job is to simply report the results and that's what we've done, Merrill stated. Jones defeated Moore by around 21,000 votes in the December 12th special election to fill the Senate seat previously held by Attorney General Jeff Sessions. However, Moore, the controversial former Alabama chief justice, refused to concede the race. His campaign cited polls showing Moore should have won and claimed voter fraud tainted the results. Moore's team passed along reports of voter intimidation and suppression to Alabama authorities. But Merrill, the state's top election official, said all the claims were either inaccurate or did not have supporting evidence. He said it was highly unlikely anything that happened could have altered the outcome of the race. Barring an unsuccessful last-second court challenge from Moore, Merrill's certification will officially make Jones the next U.S. Senator from Alabama when the term begins in January. Jones' improbable victory cut the Republican Senate majority to 51-49. The Democrat's upset win was an embarrassing blow for the GOP and President Trump, who endorsed Moore despite allegations he pursued romantic relationships with teenagers when he was in his 30s. Jones will become the first Democrat to represent Alabama in the Senate in over two decades. \",\n",
              "   \"Former White House chief strategist Steve Bannon has been asked to testify before the House of Representatives intelligence committee as part of its investigation into alleged Russian interference in the 2016 U.S. presidential election, Bloomberg reported on Tuesday, citing a person familiar with the matter. The request suggests the committee's probe is entering a new phase after Republican committee members released a memo accusing the FBI of bias against President Donald Trump in its Russia investigation. Bannon had a fraught tenure at the White House before resigning in August and returning to the right-wing news website Breitbart News. He was quoted in a book accusing Trump of meeting with Russians during the campaign, which the president has denied.\",\n",
              "   \"U.S. Treasury Secretary Steven Mnuchin was sent an gift-wrapped box of horse manure that was eventually discovered by Los Angeles police, multiple media outlets reported on Saturday. The package was reportedly sent from a highrise apartment building in the Bel Air neighborhood of Los Angeles and was discovered by a police bomb squad after its delivery sparked concerns. According to reports, authorities initially responded to a call about a suspicious package that smelled of manure. Investigators then contacted a bomb squad, which determined the package contained a non-hazardous equine evacuated cargo -- or horse excrement, as one law enforcement official put it. No one had claimed responsibility for the package as of late Saturday evening. Mnuchin had served as Trump's campaign finance chairman before being tapped as Treasury secretary, and has faced criticism from some over the Republican tax overhaul signed into law last year.\",\n",
              "   \"Alabama was set to certify Democrat Doug Jones the winner of a special U.S. Senate election on Dec. 28, 2017, after a Republican campaign waged by President Donald Trump and other party leaders could not overcome allegations of sexual misconduct against the Republican candidate, Roy Moore. Jones' upset victory dealt a blow to Trump and allowed Republicans to keep hold of the Senate seat only until Nov. 2020, when the term expires and an election will again be held. Alabama's Republican Secretary of State John Merrill said his office would follow a federal court order to certify Jones later in the day, making the Democrat's Dec. 12 election win official. Jones is expected to take office early in January after the certification is completed. Moore, 70, a former Alabama chief justice, initially refused to concede defeat to Jones, a 63-year-old former federal prosecutor. Moore had been accused by several women of sexual misconduct when they were teens and he was in his 30s. He denied the allegations. The race took on national implications, with Trump and other party leaders waging an all-out campaign to support Moore. But Moore's victory could not overcome the allegations against him, which energized Alabama Democrats and contributed to higher-than-expected turnout among African American voters.\",\n",
              "   \"A U.S. federal judge on Wednesday partially lifted an order temporarily barring the Trump administration from moving ahead with new refugee screening procedures that had placed certain refugees in limbo. The ruling by U.S. District Judge James Donato in San Francisco came in a lawsuit brought by groups representing refugees that said some applicants were being unfairly barred under an October 2017 order by President Donald Trump aimed at increasing security vetting. Donato wrote that the groups were likely to prevail on their claim that certain refugees had a right to be reunited with families already living in the United States, so long as the refugees had already been vetted and approved for resettlement. The judge's ruling lifts his earlier order on an emergency, interim basis as it applied to that category of refugees. But the judge left in place his nationwide order halting other parts of Trump's order that tightened screening procedures for many refugees seeking admission to the United States.\",\n",
              "   \"President Donald Trump took to Twitter to discuss his recent surprise visit to troops in Iraq, U.S. military efforts against ISIS in Syria, and criticism over not visiting a combat zone earlier in his presidency. Visiting Troops in Iraq Trump began by tweeting about his clandestine trip to Al Asad Air Base in western Iraq the previous day, his first visit to a combat zone as president. He wrote: Celebrated Christmas with our great Air Force troops stationed at Al Asad Air Base, Iraq. Nobody better, all over the world, than these people! A wonderful experience! He followed up by thanking service members deployed overseas during the holidays, stating: I had the honor to give out a brand new re-enlistment toy for someone who just joined the fight against cowardly radical ISIS terrorists. Defeating ISIS in Syria The president then turned to discussing the U.S. military campaign against ISIS in Syria, claiming We have defeated ISIS in Syria despite pockets of resistance remaining. He tweeted: We're no longer being played as fools, we're respected again as a Nation! We've defeated ISIS territorially, but a small part still remains, final battles being waged. Criticism Over Not Visiting Earlier Trump also appeared to respond to criticism that he had not visited U.S. troops in harm's way until this week, nearly two years into his presidency. He tweeted: If I had my way, and could fail to get Congressional approval, we'd be out of Syria quickly. Our boys are coming home after getting snubbed by past leaders. They wouldn't let the troops do what they were trained to do. This seemed to reference Trump's repeated desire to withdraw from Syria, which has been slowed by military advisers who warn that ISIS remains a threat. The president frequently laments that past administrations failed to decisively win conflicts. So in his flurry of tweets, Trump highlighted his visit with deployed troops, touted progress against ISIS while calling for withdrawals from Syria, and defended taking time to visit a combat zone as president. The posts offered his perspective on high-profile military and national security issues.\",\n",
              "   \"The FBI's investigation into potential ties between the Trump campaign and Russia was initiated after a diplomat for Australia provided information related to campaign aide George Papadopoulos, according to a report by The New York Times. In May 2016, Papadopoulos had disclosed to the Australian diplomat that Russia had political dirt on Hillary Clinton during a conversation in Britain, the Times reported, citing current and former American and foreign officials. Papadopoulos's comment struck the Australian as significant given the Russian hacking of Democratic emails that soon became public. The Australian government then notified U.S. officials of the conversation, helping spur the FBI's counterintelligence investigation in July 2016. Details of how the probe began have been closely guarded by the FBI and intelligence agencies. The revelation that a diplomatic partner provided the initial evidence shows how U.S. allies played an important supporting role in the case. The Times report also provided new context around the interest in Papadopoulos by the FBI and special counsel Robert Mueller. Papadopoulos pleaded guilty in October to lying to FBI agents about his conversations with Russians offering dirt on Clinton. While President Trump and allies have cast the Russia investigation as a witch hunt, the new details suggest the FBI was simply following up on a legitimate tip from an allied nation. The fact that an American on the campaign trail appeared to have known about Russian hacking efforts before they became public helped compel the FBI to investigate further.\",\n",
              "   \"U.S. Senate Majority Leader Mitch McConnell struck an optimistic tone for 2018 after a bitterly partisan 2017, saying he hoped to work with Democrats on issues like immigration, government spending and a new farm bill. In an interview with Reuters on Dec. 22, 2017, McConnell said the new year would likely start with renewed efforts to agree on federal spending caps for the next two years and to resolve the status of young immigrants brought into the United States illegally as children, an issue known as the Dreamers. The Republican leader expressed hope for a more collegial atmosphere in 2018 after years of sharp partisan fights. What I'm hoping is, with the major accomplishment of tax reform behind us now, we might return to a level of comity that could produce some real bipartisan efforts, he said. He cited the annual farm bill, an infrastructure initiative, and the status of the Dreamers as areas where the parties could cooperate. However, McConnell acknowledged bipartisan efforts could hit roadblocks, citing divisions over how much to spend on domestic programs and immigration. Still, he said compromise would be needed given Republicans' narrow 51-49 Senate majority, requiring some Democratic support to pass most legislation.\",\n",
              "   \"Election officials in Virginia postponed a planned lottery drawing Thursday that was supposed to break the tie in a crucial state House of Delegates race that remains undecided after last month's election. The winner of the Newport News-based 94th District race will determine whether Republicans maintain a 51-49 majority in the House or if the chamber is evenly split with Democrats for the first time since 2000. With the candidates - Democrat Shelly Simonds and Republican incumbent David Yancey - deadlocked at 11,608 votes each after a recount, Virginia law dictates the winner be decided by a random drawing. Officials originally planned to hold the drawing on Thursday by pulling names from a bowl. However, the drawing was postponed after attorneys for both campaigns raised concerns about the lottery's procedures and rules. A panel of three Republican and three Democratic party officials is now working to develop a plan for the tie-breaker that both campaigns find acceptable. This is an unprecedented situation, and we want to ensure we get it right, said Chris Piper, commissioner of the Virginia Department of Elections. The tight race and ultimate necessity of a random drawing underscore how bitterly contested the 2017 Virginia elections were. Democrats made surprising gains in the state after heavily targeting President Trump's policies and behavior. If Simonds wins the lottery drawing, the House would be split 50-50 for the first time since the 1990s. That would likely require Republicans and Democrats to share power in committees and leadership positions. Virginia House Republicans say they are committed to ensuring a fair and transparent process for the random tie-breaker drawing, which must now be rescheduled but legally held by January 10. The stakes are high in the once low-profile district race.\",\n",
              "   \"President Donald Trump escalated his attacks on Amazon on Friday, saying the U.S. Postal Service should charge the e-commerce giant and other companies much more for shipping packages. In a tweet, Trump claimed that Amazon and other shipping companies are causing tremendous loss to the Postal Service by taking advantage of shipping rates that he described as making a dying enterprise out of the service. The Postal Service is a wonderful franchise, but it is being guided very poorly. I don't want to put millions of people out of work, Trump said. It loses a fortune, and this will be straightened out. The Post Office should raise.... prices on the companies shipping packages until costs are realized! Amazon and the Postal Service have an agreement for the delivery company to transport the retailer's packages in the mail's last-mile from delivery hubs to residences. While package delivery has been a bright spot for the Postal Service amid declining mail volumes, critics like Trump contend the service's rates don't fully cover its costs for each shipment. Amazon has disputed Trump's claims that it shortchanges the Postal Service, saying the arrangements are profitable for the mail carrier. It has also noted that no U.S. company is required by law to pay the full institutional costs of the Postal Service delivering packages. Trump has long criticized Amazon and founder Jeff Bezos over issues like taxes and the sale of products on its platform. His latest broadside could potentially set up a showdown over postal rates that analysts say could raise costs for Amazon and other large shippers while boosting prices for consumers relying on package delivery.\",\n",
              "   \"On December 28th, President Trump took to Twitter to excoriate Vanity Fair magazine and renew his criticism of Hillary Clinton in a series of posts. Vanity Fair Trump first lashed out at Vanity Fair after the magazine apologized for an online video mocking his daughter Ivanka and her White House role. In the video, a Vanity Fair writer suggested celebrating the holiday of the day Donald Trump finally realized his presidency is a sham. Trump tweeted: Vanity Fair, which looks like it is on its last legs, is bending over backwards in apologizing for the minor hit. Anna Wintour, who was all set to be Amb to Court of St James's & a big fundraiser for CH, is beside herself in grief & begging for forgiveness! This appeared to reference the rumored possibility of Wintour, editor-in-chief of Vogue, getting an ambassador role had Clinton won in 2016. Vanity Fair and Vogue are both owned by Condé Nast. Trump continued in a separate tweet: The good news is that at the request of a great friend, Rubert, they're keeping her small mind intact, at least for the time being!? He misspelled Vanity Fair owner Si Newhouse's first name as Rubert. Hillary Clinton The president then turned his attention to his former Democratic rival with a pair of tweets critical of Clinton. I was recently asked if Crooked Hillary Clinton is going to go to jail over the deleted emails and 'the Russians'? He added, without elaborating, My answer: She's being investigated by the good guys in the Department of Justice and FBI. In his next tweet, Trump claimed: The single greatest Witch Hunt in American political history continues. There was no collusion, everybody including the Dems knows there was no collusion, & yet on and on it goes. Russia & the world are laughing at the stupidity they are witnessing. Republicans should finally take control! These tweets reiterated Trump's usual stance denying collusion with Russia despite investigations into the matter. His reference to Clinton seemed to be about her use of a private email server while secretary of state, an issue that dogged her 2016 campaign.\"],\n",
              "  tensor([1, 0, 0, 0, 1, 1, 0, 0, 1, 1, 0, 1, 1, 1, 1, 1, 1, 1, 1, 1, 1, 1, 0, 1,\n",
              "          1, 1, 1, 1, 0, 1, 1, 1]),\n",
              "  tensor([[1.6401e-05, 9.9998e-01],\n",
              "          [9.9998e-01, 2.1882e-05],\n",
              "          [9.9985e-01, 1.5400e-04],\n",
              "          [9.9997e-01, 3.2841e-05],\n",
              "          [1.0641e-03, 9.9894e-01],\n",
              "          [1.7574e-05, 9.9998e-01],\n",
              "          [9.9998e-01, 2.0767e-05],\n",
              "          [9.9998e-01, 2.4157e-05],\n",
              "          [1.7464e-05, 9.9998e-01],\n",
              "          [1.5253e-04, 9.9985e-01],\n",
              "          [9.7970e-01, 2.0302e-02],\n",
              "          [1.8372e-05, 9.9998e-01],\n",
              "          [1.6962e-04, 9.9983e-01],\n",
              "          [1.7589e-03, 9.9824e-01],\n",
              "          [2.7393e-05, 9.9997e-01],\n",
              "          [1.1816e-04, 9.9988e-01],\n",
              "          [3.3598e-04, 9.9966e-01],\n",
              "          [1.0310e-04, 9.9990e-01],\n",
              "          [1.5624e-02, 9.8438e-01],\n",
              "          [1.0249e-03, 9.9898e-01],\n",
              "          [6.6121e-04, 9.9934e-01],\n",
              "          [1.2857e-04, 9.9987e-01],\n",
              "          [9.9952e-01, 4.7689e-04],\n",
              "          [2.0578e-04, 9.9979e-01],\n",
              "          [3.7051e-04, 9.9963e-01],\n",
              "          [1.2919e-03, 9.9871e-01],\n",
              "          [1.6851e-05, 9.9998e-01],\n",
              "          [2.0686e-04, 9.9979e-01],\n",
              "          [9.9537e-01, 4.6275e-03],\n",
              "          [3.4388e-05, 9.9997e-01],\n",
              "          [2.8683e-05, 9.9997e-01],\n",
              "          [2.0673e-05, 9.9998e-01]]),\n",
              "  tensor([1, 1, 1, 1, 1, 1, 1, 1, 1, 1, 1, 1, 1, 1, 1, 1, 1, 1, 1, 1, 1, 1, 1, 1,\n",
              "          1, 1, 1, 1, 1, 1, 1, 1])))"
            ]
          },
          "metadata": {},
          "execution_count": 69
        }
      ]
    }
  ]
}